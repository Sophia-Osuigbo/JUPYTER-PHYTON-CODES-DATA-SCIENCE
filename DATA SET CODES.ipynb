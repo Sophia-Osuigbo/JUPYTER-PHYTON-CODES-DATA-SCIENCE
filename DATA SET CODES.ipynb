{
 "cells": [
  {
   "cell_type": "code",
   "execution_count": 7,
   "id": "a11314bf",
   "metadata": {},
   "outputs": [],
   "source": [
    "import pandas as pd\n",
    "import matplotlib.pyplot as plt\n"
   ]
  },
  {
   "cell_type": "code",
   "execution_count": 10,
   "id": "e9ca5e98",
   "metadata": {},
   "outputs": [],
   "source": [
    "data = pd.read_csv('school dataset.csv')\n"
   ]
  },
  {
   "cell_type": "code",
   "execution_count": 11,
   "id": "75406c92",
   "metadata": {},
   "outputs": [
    {
     "name": "stdout",
     "output_type": "stream",
     "text": [
      "   S/N              NAME       PHONE  AGE  SCORE        DPT  LEVEL\n",
      "0    1       OLUCHI ORDU  8140041698   24    205        COM    500\n",
      "1    2    CLARA NWAKAEZE  8120043789   30    200   IND CHEM    400\n",
      "2    3         ALEX ORDU  8130089001   27    250  BIZ ADMIN    300\n",
      "3    4  EBENEZER OSUIGBO  7082378454   32    300        COM    200\n",
      "4    5       ADAEZE OKAH  7020223457   33    250    BIO MED    300\n"
     ]
    }
   ],
   "source": [
    "\n",
    "print(data.head())\n"
   ]
  },
  {
   "cell_type": "code",
   "execution_count": 12,
   "id": "1aa271b0",
   "metadata": {},
   "outputs": [
    {
     "data": {
      "text/plain": [
       "<Figure size 640x480 with 0 Axes>"
      ]
     },
     "metadata": {},
     "output_type": "display_data"
    }
   ],
   "source": [
    "plt.savefig('plot.png')\n"
   ]
  },
  {
   "cell_type": "code",
   "execution_count": 13,
   "id": "19452696",
   "metadata": {},
   "outputs": [],
   "source": [
    "data = pd.read_csv('school dataset.csv', na_values=-1)\n"
   ]
  },
  {
   "cell_type": "code",
   "execution_count": 14,
   "id": "5a01e688",
   "metadata": {},
   "outputs": [
    {
     "name": "stdout",
     "output_type": "stream",
     "text": [
      "S/N      0\n",
      "NAME     0\n",
      "PHONE    0\n",
      "AGE      0\n",
      "SCORE    0\n",
      "DPT      0\n",
      "LEVEL    0\n",
      "dtype: int64\n"
     ]
    }
   ],
   "source": [
    "print(data.isnull().sum())\n"
   ]
  },
  {
   "cell_type": "code",
   "execution_count": 16,
   "id": "5be9a2ba",
   "metadata": {},
   "outputs": [],
   "source": [
    "data.fillna(30, inplace=True)\n"
   ]
  },
  {
   "cell_type": "code",
   "execution_count": 18,
   "id": "edcfae6f",
   "metadata": {},
   "outputs": [],
   "source": [
    "data.dropna(inplace=True)\n"
   ]
  },
  {
   "cell_type": "code",
   "execution_count": null,
   "id": "631cc22b",
   "metadata": {},
   "outputs": [],
   "source": [
    "#OOP IN PYTHON"
   ]
  },
  {
   "cell_type": "code",
   "execution_count": 24,
   "id": "108799b4",
   "metadata": {},
   "outputs": [
    {
     "name": "stdout",
     "output_type": "stream",
     "text": [
      "Some generic animal sound\n",
      "Woof!\n",
      "Fetch the ball!\n"
     ]
    }
   ],
   "source": [
    "# Define the superclass\n",
    "class Animal:\n",
    "    def __init__(self, name, species):\n",
    "        self.name = name\n",
    "        self.species = species\n",
    "\n",
    "    def make_sound(self):\n",
    "        print(\"Some generic animal sound\")\n",
    "\n",
    "# Define the subclass\n",
    "class Dog(Animal):\n",
    "    def __init__(self, name, breed):\n",
    "        # Call the superclass constructor and pass in the name and \"Dog\" species\n",
    "        super().__init__(name, \"Dog\")\n",
    "        self.breed = breed\n",
    "\n",
    "    def make_sound(self):\n",
    "        print(\"Woof!\")\n",
    "\n",
    "    def fetch(self):\n",
    "        print(\"Fetch the ball!\")\n",
    "\n",
    "# Create instances of the classes\n",
    "my_animal = Animal(\"Rex\", \"Unknown\")\n",
    "my_dog = Dog(\"Fido\", \"Labrador\")\n",
    "\n",
    "# Call the methods on the instances\n",
    "my_animal.make_sound() # prints \"Some generic animal sound\"\n",
    "my_dog.make_sound() # prints \"Woof!\"\n",
    "my_dog.fetch() # prints \"Fetch the ball!\"\n"
   ]
  },
  {
   "cell_type": "code",
   "execution_count": null,
   "id": "674e1e36",
   "metadata": {},
   "outputs": [],
   "source": []
  }
 ],
 "metadata": {
  "kernelspec": {
   "display_name": "Python 3 (ipykernel)",
   "language": "python",
   "name": "python3"
  },
  "language_info": {
   "codemirror_mode": {
    "name": "ipython",
    "version": 3
   },
   "file_extension": ".py",
   "mimetype": "text/x-python",
   "name": "python",
   "nbconvert_exporter": "python",
   "pygments_lexer": "ipython3",
   "version": "3.9.13"
  }
 },
 "nbformat": 4,
 "nbformat_minor": 5
}

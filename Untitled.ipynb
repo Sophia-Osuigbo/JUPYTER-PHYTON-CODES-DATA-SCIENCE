{
 "cells": [
  {
   "cell_type": "code",
   "execution_count": null,
   "id": "a23e3fc6",
   "metadata": {},
   "outputs": [],
   "source": [
    "y = 4\n",
    "x = 3\n",
    "a = 6"
   ]
  },
  {
   "cell_type": "code",
   "execution_count": null,
   "id": "f2e4c3de",
   "metadata": {},
   "outputs": [],
   "source": [
    "print(y)"
   ]
  },
  {
   "cell_type": "code",
   "execution_count": null,
   "id": "1bcf01f8",
   "metadata": {},
   "outputs": [],
   "source": [
    "import numpy as np\n"
   ]
  },
  {
   "cell_type": "code",
   "execution_count": null,
   "id": "e27e05c0",
   "metadata": {},
   "outputs": [],
   "source": []
  }
 ],
 "metadata": {
  "kernelspec": {
   "display_name": "Python 3 (ipykernel)",
   "language": "python",
   "name": "python3"
  }
 },
 "nbformat": 4,
 "nbformat_minor": 5
}

{
 "cells": [
  {
   "cell_type": "code",
   "execution_count": 1,
   "id": "25fefb62",
   "metadata": {},
   "outputs": [],
   "source": [
    "# A CLASS IS DEFINED JUST LIKE HOW WE DEFINE A VARIABLE\n",
    "# AND A CLASS NAME MUST BEGINE WITH AN UPPER CASE"
   ]
  },
  {
   "cell_type": "code",
   "execution_count": 2,
   "id": "22c864dd",
   "metadata": {},
   "outputs": [],
   "source": [
    "class Employee: # this means that we are creating a class of employees\n",
    "    pass     # the keyword pass is used to "
   ]
  },
  {
   "cell_type": "code",
   "execution_count": null,
   "id": "beb19c53",
   "metadata": {},
   "outputs": [],
   "source": [
    "class Employee:\n",
    "    def __init__          # THE DOUBLE UNDERSCORE __ MEANS A CLASS CONSTRUCTOR. IT HOLDS OUR CLASS PROPERIES. \n",
    "                        # ITS MORE LIKE A FUNCTION AND IT HOLDS THE (SELF,NAME ,AGE)"
   ]
  }
 ],
 "metadata": {
  "kernelspec": {
   "display_name": "Python 3 (ipykernel)",
   "language": "python",
   "name": "python3"
  },
  "language_info": {
   "codemirror_mode": {
    "name": "ipython",
    "version": 3
   },
   "file_extension": ".py",
   "mimetype": "text/x-python",
   "name": "python",
   "nbconvert_exporter": "python",
   "pygments_lexer": "ipython3",
   "version": "3.9.13"
  }
 },
 "nbformat": 4,
 "nbformat_minor": 5
}

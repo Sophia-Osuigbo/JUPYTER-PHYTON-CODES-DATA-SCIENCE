{
 "cells": [
  {
   "cell_type": "code",
   "execution_count": 2,
   "id": "b8db4f0c",
   "metadata": {},
   "outputs": [],
   "source": [
    "# HOW TO READ DATA SETS WITH PANDAS LIBRARY"
   ]
  },
  {
   "cell_type": "code",
   "execution_count": 3,
   "id": "1414622d",
   "metadata": {},
   "outputs": [],
   "source": [
    "import pandas as pd\n"
   ]
  },
  {
   "cell_type": "code",
   "execution_count": 7,
   "id": "2708c730",
   "metadata": {},
   "outputs": [
    {
     "data": {
      "text/html": [
       "<div>\n",
       "<style scoped>\n",
       "    .dataframe tbody tr th:only-of-type {\n",
       "        vertical-align: middle;\n",
       "    }\n",
       "\n",
       "    .dataframe tbody tr th {\n",
       "        vertical-align: top;\n",
       "    }\n",
       "\n",
       "    .dataframe thead th {\n",
       "        text-align: right;\n",
       "    }\n",
       "</style>\n",
       "<table border=\"1\" class=\"dataframe\">\n",
       "  <thead>\n",
       "    <tr style=\"text-align: right;\">\n",
       "      <th></th>\n",
       "      <th>S/N</th>\n",
       "      <th>NAME</th>\n",
       "      <th>PHONE</th>\n",
       "      <th>AGE</th>\n",
       "      <th>SCORE</th>\n",
       "      <th>DPT</th>\n",
       "      <th>LEVEL</th>\n",
       "    </tr>\n",
       "  </thead>\n",
       "  <tbody>\n",
       "    <tr>\n",
       "      <th>0</th>\n",
       "      <td>1</td>\n",
       "      <td>OLUCHI ORDU</td>\n",
       "      <td>8140041698</td>\n",
       "      <td>24</td>\n",
       "      <td>205</td>\n",
       "      <td>COM</td>\n",
       "      <td>500</td>\n",
       "    </tr>\n",
       "    <tr>\n",
       "      <th>1</th>\n",
       "      <td>2</td>\n",
       "      <td>CLARA NWAKAEZE</td>\n",
       "      <td>8120043789</td>\n",
       "      <td>30</td>\n",
       "      <td>200</td>\n",
       "      <td>IND CHEM</td>\n",
       "      <td>400</td>\n",
       "    </tr>\n",
       "    <tr>\n",
       "      <th>2</th>\n",
       "      <td>3</td>\n",
       "      <td>ALEX ORDU</td>\n",
       "      <td>8130089001</td>\n",
       "      <td>27</td>\n",
       "      <td>250</td>\n",
       "      <td>BIZ ADMIN</td>\n",
       "      <td>300</td>\n",
       "    </tr>\n",
       "    <tr>\n",
       "      <th>3</th>\n",
       "      <td>4</td>\n",
       "      <td>EBENEZER OSUIGBO</td>\n",
       "      <td>7082378454</td>\n",
       "      <td>32</td>\n",
       "      <td>300</td>\n",
       "      <td>COM</td>\n",
       "      <td>200</td>\n",
       "    </tr>\n",
       "    <tr>\n",
       "      <th>4</th>\n",
       "      <td>5</td>\n",
       "      <td>ADAEZE OKAH</td>\n",
       "      <td>7020223457</td>\n",
       "      <td>33</td>\n",
       "      <td>250</td>\n",
       "      <td>BIO MED</td>\n",
       "      <td>300</td>\n",
       "    </tr>\n",
       "  </tbody>\n",
       "</table>\n",
       "</div>"
      ],
      "text/plain": [
       "   S/N              NAME       PHONE  AGE  SCORE        DPT  LEVEL\n",
       "0    1       OLUCHI ORDU  8140041698   24    205        COM    500\n",
       "1    2    CLARA NWAKAEZE  8120043789   30    200   IND CHEM    400\n",
       "2    3         ALEX ORDU  8130089001   27    250  BIZ ADMIN    300\n",
       "3    4  EBENEZER OSUIGBO  7082378454   32    300        COM    200\n",
       "4    5       ADAEZE OKAH  7020223457   33    250    BIO MED    300"
      ]
     },
     "execution_count": 7,
     "metadata": {},
     "output_type": "execute_result"
    }
   ],
   "source": [
    "df = pd.read_csv('school dataset.csv')\n",
    "\n",
    "df.head()"
   ]
  },
  {
   "cell_type": "code",
   "execution_count": 8,
   "id": "b09d9b76",
   "metadata": {},
   "outputs": [
    {
     "data": {
      "text/plain": [
       "10"
      ]
     },
     "execution_count": 8,
     "metadata": {},
     "output_type": "execute_result"
    }
   ],
   "source": [
    "len(df)"
   ]
  },
  {
   "cell_type": "code",
   "execution_count": 10,
   "id": "3341c5c0",
   "metadata": {},
   "outputs": [
    {
     "data": {
      "text/html": [
       "<div>\n",
       "<style scoped>\n",
       "    .dataframe tbody tr th:only-of-type {\n",
       "        vertical-align: middle;\n",
       "    }\n",
       "\n",
       "    .dataframe tbody tr th {\n",
       "        vertical-align: top;\n",
       "    }\n",
       "\n",
       "    .dataframe thead th {\n",
       "        text-align: right;\n",
       "    }\n",
       "</style>\n",
       "<table border=\"1\" class=\"dataframe\">\n",
       "  <thead>\n",
       "    <tr style=\"text-align: right;\">\n",
       "      <th></th>\n",
       "      <th>NAME</th>\n",
       "      <th>PHONE</th>\n",
       "      <th>AGE</th>\n",
       "      <th>SCORE</th>\n",
       "      <th>DPT</th>\n",
       "      <th>LEVEL</th>\n",
       "    </tr>\n",
       "    <tr>\n",
       "      <th>S/N</th>\n",
       "      <th></th>\n",
       "      <th></th>\n",
       "      <th></th>\n",
       "      <th></th>\n",
       "      <th></th>\n",
       "      <th></th>\n",
       "    </tr>\n",
       "  </thead>\n",
       "  <tbody>\n",
       "    <tr>\n",
       "      <th>1</th>\n",
       "      <td>OLUCHI ORDU</td>\n",
       "      <td>8140041698</td>\n",
       "      <td>24</td>\n",
       "      <td>205</td>\n",
       "      <td>COM</td>\n",
       "      <td>500</td>\n",
       "    </tr>\n",
       "    <tr>\n",
       "      <th>2</th>\n",
       "      <td>CLARA NWAKAEZE</td>\n",
       "      <td>8120043789</td>\n",
       "      <td>30</td>\n",
       "      <td>200</td>\n",
       "      <td>IND CHEM</td>\n",
       "      <td>400</td>\n",
       "    </tr>\n",
       "    <tr>\n",
       "      <th>3</th>\n",
       "      <td>ALEX ORDU</td>\n",
       "      <td>8130089001</td>\n",
       "      <td>27</td>\n",
       "      <td>250</td>\n",
       "      <td>BIZ ADMIN</td>\n",
       "      <td>300</td>\n",
       "    </tr>\n",
       "    <tr>\n",
       "      <th>4</th>\n",
       "      <td>EBENEZER OSUIGBO</td>\n",
       "      <td>7082378454</td>\n",
       "      <td>32</td>\n",
       "      <td>300</td>\n",
       "      <td>COM</td>\n",
       "      <td>200</td>\n",
       "    </tr>\n",
       "    <tr>\n",
       "      <th>5</th>\n",
       "      <td>ADAEZE OKAH</td>\n",
       "      <td>7020223457</td>\n",
       "      <td>33</td>\n",
       "      <td>250</td>\n",
       "      <td>BIO MED</td>\n",
       "      <td>300</td>\n",
       "    </tr>\n",
       "  </tbody>\n",
       "</table>\n",
       "</div>"
      ],
      "text/plain": [
       "                 NAME       PHONE  AGE  SCORE        DPT  LEVEL\n",
       "S/N                                                            \n",
       "1         OLUCHI ORDU  8140041698   24    205        COM    500\n",
       "2      CLARA NWAKAEZE  8120043789   30    200   IND CHEM    400\n",
       "3           ALEX ORDU  8130089001   27    250  BIZ ADMIN    300\n",
       "4    EBENEZER OSUIGBO  7082378454   32    300        COM    200\n",
       "5         ADAEZE OKAH  7020223457   33    250    BIO MED    300"
      ]
     },
     "execution_count": 10,
     "metadata": {},
     "output_type": "execute_result"
    }
   ],
   "source": [
    "df = pd.read_csv('school dataset.csv', index_col = 0)\n",
    "df.head()"
   ]
  },
  {
   "cell_type": "code",
   "execution_count": 11,
   "id": "1429666d",
   "metadata": {},
   "outputs": [
    {
     "data": {
      "text/plain": [
       "Index(['NAME', 'PHONE', 'AGE', 'SCORE', 'DPT', 'LEVEL'], dtype='object')"
      ]
     },
     "execution_count": 11,
     "metadata": {},
     "output_type": "execute_result"
    }
   ],
   "source": [
    "df.columns"
   ]
  },
  {
   "cell_type": "code",
   "execution_count": null,
   "id": "5abcb6e1",
   "metadata": {},
   "outputs": [],
   "source": [
    "#. QUERYING A DATA FRAME\n",
    "\n",
    "\n",
    "# STUDENT THAT SCORED AT LEAST 300"
   ]
  },
  {
   "cell_type": "code",
   "execution_count": 15,
   "id": "86255a5a",
   "metadata": {},
   "outputs": [
    {
     "data": {
      "text/plain": [
       "S/N\n",
       "1     False\n",
       "2     False\n",
       "3     False\n",
       "4     False\n",
       "5     False\n",
       "6      True\n",
       "7     False\n",
       "8     False\n",
       "9      True\n",
       "10    False\n",
       "Name: SCORE, dtype: bool"
      ]
     },
     "execution_count": 15,
     "metadata": {},
     "output_type": "execute_result"
    }
   ],
   "source": [
    "df['SCORE'] > 300"
   ]
  },
  {
   "cell_type": "code",
   "execution_count": 16,
   "id": "ef05b964",
   "metadata": {},
   "outputs": [
    {
     "data": {
      "text/html": [
       "<div>\n",
       "<style scoped>\n",
       "    .dataframe tbody tr th:only-of-type {\n",
       "        vertical-align: middle;\n",
       "    }\n",
       "\n",
       "    .dataframe tbody tr th {\n",
       "        vertical-align: top;\n",
       "    }\n",
       "\n",
       "    .dataframe thead th {\n",
       "        text-align: right;\n",
       "    }\n",
       "</style>\n",
       "<table border=\"1\" class=\"dataframe\">\n",
       "  <thead>\n",
       "    <tr style=\"text-align: right;\">\n",
       "      <th></th>\n",
       "      <th>NAME</th>\n",
       "      <th>PHONE</th>\n",
       "      <th>AGE</th>\n",
       "      <th>SCORE</th>\n",
       "      <th>DPT</th>\n",
       "      <th>LEVEL</th>\n",
       "    </tr>\n",
       "    <tr>\n",
       "      <th>S/N</th>\n",
       "      <th></th>\n",
       "      <th></th>\n",
       "      <th></th>\n",
       "      <th></th>\n",
       "      <th></th>\n",
       "      <th></th>\n",
       "    </tr>\n",
       "  </thead>\n",
       "  <tbody>\n",
       "    <tr>\n",
       "      <th>6</th>\n",
       "      <td>JANE OKAFOR</td>\n",
       "      <td>9066885543</td>\n",
       "      <td>23</td>\n",
       "      <td>350</td>\n",
       "      <td>MEDCINE</td>\n",
       "      <td>100</td>\n",
       "    </tr>\n",
       "    <tr>\n",
       "      <th>9</th>\n",
       "      <td>CYNTHIA DINA</td>\n",
       "      <td>9055642391</td>\n",
       "      <td>28</td>\n",
       "      <td>380</td>\n",
       "      <td>BANKING</td>\n",
       "      <td>100</td>\n",
       "    </tr>\n",
       "  </tbody>\n",
       "</table>\n",
       "</div>"
      ],
      "text/plain": [
       "             NAME       PHONE  AGE  SCORE      DPT  LEVEL\n",
       "S/N                                                      \n",
       "6     JANE OKAFOR  9066885543   23    350  MEDCINE    100\n",
       "9    CYNTHIA DINA  9055642391   28    380  BANKING    100"
      ]
     },
     "execution_count": 16,
     "metadata": {},
     "output_type": "execute_result"
    }
   ],
   "source": [
    "only_score = df[df['SCORE'] > 300]\n",
    "only_score.head()"
   ]
  },
  {
   "cell_type": "code",
   "execution_count": 17,
   "id": "ffea711b",
   "metadata": {},
   "outputs": [],
   "source": [
    "#  HOW MANY DEPERTMENTS WON AT MOST ONE GOLD VARIABLES"
   ]
  },
  {
   "cell_type": "code",
   "execution_count": 18,
   "id": "8ea94177",
   "metadata": {},
   "outputs": [
    {
     "data": {
      "text/plain": [
       "2"
      ]
     },
     "execution_count": 18,
     "metadata": {},
     "output_type": "execute_result"
    }
   ],
   "source": [
    "only_score['SCORE'].count()     # to check the number of students who scored above 300"
   ]
  },
  {
   "cell_type": "code",
   "execution_count": 19,
   "id": "8710856b",
   "metadata": {},
   "outputs": [
    {
     "data": {
      "text/plain": [
       "10"
      ]
     },
     "execution_count": 19,
     "metadata": {},
     "output_type": "execute_result"
    }
   ],
   "source": [
    "df['SCORE'].count()     # to check the number of students with score."
   ]
  },
  {
   "cell_type": "code",
   "execution_count": 20,
   "id": "dbeb18ec",
   "metadata": {},
   "outputs": [],
   "source": [
    "# HOW MANY STUDENTS ARE IN LEVEL BELOW 500 AND SCORED BELOW 5OO"
   ]
  },
  {
   "cell_type": "code",
   "execution_count": 23,
   "id": "5c73908a",
   "metadata": {},
   "outputs": [
    {
     "data": {
      "text/plain": [
       "S/N\n",
       "1     True\n",
       "2     True\n",
       "3     True\n",
       "4     True\n",
       "5     True\n",
       "6     True\n",
       "7     True\n",
       "8     True\n",
       "9     True\n",
       "10    True\n",
       "Name: SCORE, dtype: bool"
      ]
     },
     "execution_count": 23,
     "metadata": {},
     "output_type": "execute_result"
    }
   ],
   "source": [
    "df['SCORE'] < 500 "
   ]
  },
  {
   "cell_type": "code",
   "execution_count": 24,
   "id": "89f09015",
   "metadata": {},
   "outputs": [
    {
     "data": {
      "text/plain": [
       "S/N\n",
       "1     False\n",
       "2      True\n",
       "3      True\n",
       "4      True\n",
       "5      True\n",
       "6      True\n",
       "7      True\n",
       "8      True\n",
       "9      True\n",
       "10    False\n",
       "Name: LEVEL, dtype: bool"
      ]
     },
     "execution_count": 24,
     "metadata": {},
     "output_type": "execute_result"
    }
   ],
   "source": [
    "df['LEVEL'] < 500"
   ]
  },
  {
   "cell_type": "code",
   "execution_count": 27,
   "id": "b4abbe72",
   "metadata": {},
   "outputs": [
    {
     "data": {
      "text/html": [
       "<div>\n",
       "<style scoped>\n",
       "    .dataframe tbody tr th:only-of-type {\n",
       "        vertical-align: middle;\n",
       "    }\n",
       "\n",
       "    .dataframe tbody tr th {\n",
       "        vertical-align: top;\n",
       "    }\n",
       "\n",
       "    .dataframe thead th {\n",
       "        text-align: right;\n",
       "    }\n",
       "</style>\n",
       "<table border=\"1\" class=\"dataframe\">\n",
       "  <thead>\n",
       "    <tr style=\"text-align: right;\">\n",
       "      <th></th>\n",
       "      <th>NAME</th>\n",
       "      <th>PHONE</th>\n",
       "      <th>AGE</th>\n",
       "      <th>SCORE</th>\n",
       "      <th>DPT</th>\n",
       "      <th>LEVEL</th>\n",
       "    </tr>\n",
       "    <tr>\n",
       "      <th>S/N</th>\n",
       "      <th></th>\n",
       "      <th></th>\n",
       "      <th></th>\n",
       "      <th></th>\n",
       "      <th></th>\n",
       "      <th></th>\n",
       "    </tr>\n",
       "  </thead>\n",
       "  <tbody>\n",
       "    <tr>\n",
       "      <th>2</th>\n",
       "      <td>CLARA NWAKAEZE</td>\n",
       "      <td>8120043789</td>\n",
       "      <td>30</td>\n",
       "      <td>200</td>\n",
       "      <td>IND CHEM</td>\n",
       "      <td>400</td>\n",
       "    </tr>\n",
       "    <tr>\n",
       "      <th>3</th>\n",
       "      <td>ALEX ORDU</td>\n",
       "      <td>8130089001</td>\n",
       "      <td>27</td>\n",
       "      <td>250</td>\n",
       "      <td>BIZ ADMIN</td>\n",
       "      <td>300</td>\n",
       "    </tr>\n",
       "    <tr>\n",
       "      <th>4</th>\n",
       "      <td>EBENEZER OSUIGBO</td>\n",
       "      <td>7082378454</td>\n",
       "      <td>32</td>\n",
       "      <td>300</td>\n",
       "      <td>COM</td>\n",
       "      <td>200</td>\n",
       "    </tr>\n",
       "    <tr>\n",
       "      <th>5</th>\n",
       "      <td>ADAEZE OKAH</td>\n",
       "      <td>7020223457</td>\n",
       "      <td>33</td>\n",
       "      <td>250</td>\n",
       "      <td>BIO MED</td>\n",
       "      <td>300</td>\n",
       "    </tr>\n",
       "    <tr>\n",
       "      <th>6</th>\n",
       "      <td>JANE OKAFOR</td>\n",
       "      <td>9066885543</td>\n",
       "      <td>23</td>\n",
       "      <td>350</td>\n",
       "      <td>MEDCINE</td>\n",
       "      <td>100</td>\n",
       "    </tr>\n",
       "  </tbody>\n",
       "</table>\n",
       "</div>"
      ],
      "text/plain": [
       "                 NAME       PHONE  AGE  SCORE        DPT  LEVEL\n",
       "S/N                                                            \n",
       "2      CLARA NWAKAEZE  8120043789   30    200   IND CHEM    400\n",
       "3           ALEX ORDU  8130089001   27    250  BIZ ADMIN    300\n",
       "4    EBENEZER OSUIGBO  7082378454   32    300        COM    200\n",
       "5         ADAEZE OKAH  7020223457   33    250    BIO MED    300\n",
       "6         JANE OKAFOR  9066885543   23    350    MEDCINE    100"
      ]
     },
     "execution_count": 27,
     "metadata": {},
     "output_type": "execute_result"
    }
   ],
   "source": [
    "students = df[(df['SCORE'] < 500) & (df['LEVEL'] < 500)]\n",
    "students.head()"
   ]
  },
  {
   "cell_type": "code",
   "execution_count": 28,
   "id": "8529443a",
   "metadata": {},
   "outputs": [],
   "source": [
    "# TO GET THE LENTH FOR BOTH SCORE AND LEVEL BELOW 500"
   ]
  },
  {
   "cell_type": "code",
   "execution_count": 29,
   "id": "9da5a1d7",
   "metadata": {},
   "outputs": [
    {
     "data": {
      "text/plain": [
       "8"
      ]
     },
     "execution_count": 29,
     "metadata": {},
     "output_type": "execute_result"
    }
   ],
   "source": [
    "len(df[(df['SCORE'] < 500) & (df['LEVEL'] < 500)])\n",
    "\n"
   ]
  },
  {
   "cell_type": "code",
   "execution_count": 30,
   "id": "50e10397",
   "metadata": {},
   "outputs": [],
   "source": [
    "# HOW TO FIND MISSING VALUES IN A DATA SET\n",
    "# 1. LOOK FOR THE MAIN DATA SET SOURCE ONLINE\n",
    "# 2. DROPPING THE MISSING DATA VALUES BY ROWS OR COLUMS\n",
    "# 3. FILLING THE MISSING VALUES WITH THE MEAN, MEDIAN OR MODE\n"
   ]
  },
  {
   "cell_type": "code",
   "execution_count": 35,
   "id": "529a8cd7",
   "metadata": {},
   "outputs": [
    {
     "data": {
      "text/html": [
       "<div>\n",
       "<style scoped>\n",
       "    .dataframe tbody tr th:only-of-type {\n",
       "        vertical-align: middle;\n",
       "    }\n",
       "\n",
       "    .dataframe tbody tr th {\n",
       "        vertical-align: top;\n",
       "    }\n",
       "\n",
       "    .dataframe thead th {\n",
       "        text-align: right;\n",
       "    }\n",
       "</style>\n",
       "<table border=\"1\" class=\"dataframe\">\n",
       "  <thead>\n",
       "    <tr style=\"text-align: right;\">\n",
       "      <th></th>\n",
       "      <th>NAME</th>\n",
       "      <th>PHONE</th>\n",
       "      <th>AGE</th>\n",
       "      <th>SCORE</th>\n",
       "      <th>DPT</th>\n",
       "      <th>LEVEL</th>\n",
       "    </tr>\n",
       "    <tr>\n",
       "      <th>S/N</th>\n",
       "      <th></th>\n",
       "      <th></th>\n",
       "      <th></th>\n",
       "      <th></th>\n",
       "      <th></th>\n",
       "      <th></th>\n",
       "    </tr>\n",
       "  </thead>\n",
       "  <tbody>\n",
       "    <tr>\n",
       "      <th>1</th>\n",
       "      <td>OLUCHI ORDU</td>\n",
       "      <td>8.140042e+09</td>\n",
       "      <td>24.0</td>\n",
       "      <td>205.0</td>\n",
       "      <td>COM</td>\n",
       "      <td>500.0</td>\n",
       "    </tr>\n",
       "    <tr>\n",
       "      <th>2</th>\n",
       "      <td>CLARA NWAKAEZE</td>\n",
       "      <td>8.120044e+09</td>\n",
       "      <td>30.0</td>\n",
       "      <td>200.0</td>\n",
       "      <td>IND CHEM</td>\n",
       "      <td>400.0</td>\n",
       "    </tr>\n",
       "    <tr>\n",
       "      <th>3</th>\n",
       "      <td>ALEX ORDU</td>\n",
       "      <td>8.130089e+09</td>\n",
       "      <td>27.0</td>\n",
       "      <td>250.0</td>\n",
       "      <td>BIZ ADMIN</td>\n",
       "      <td>300.0</td>\n",
       "    </tr>\n",
       "    <tr>\n",
       "      <th>4</th>\n",
       "      <td>NaN</td>\n",
       "      <td>NaN</td>\n",
       "      <td>NaN</td>\n",
       "      <td>NaN</td>\n",
       "      <td>NaN</td>\n",
       "      <td>NaN</td>\n",
       "    </tr>\n",
       "    <tr>\n",
       "      <th>5</th>\n",
       "      <td>ADAEZE OKAH</td>\n",
       "      <td>7.020223e+09</td>\n",
       "      <td>33.0</td>\n",
       "      <td>250.0</td>\n",
       "      <td>BIO MED</td>\n",
       "      <td>300.0</td>\n",
       "    </tr>\n",
       "  </tbody>\n",
       "</table>\n",
       "</div>"
      ],
      "text/plain": [
       "               NAME         PHONE   AGE  SCORE        DPT  LEVEL\n",
       "S/N                                                             \n",
       "1       OLUCHI ORDU  8.140042e+09  24.0  205.0        COM  500.0\n",
       "2    CLARA NWAKAEZE  8.120044e+09  30.0  200.0   IND CHEM  400.0\n",
       "3         ALEX ORDU  8.130089e+09  27.0  250.0  BIZ ADMIN  300.0\n",
       "4               NaN           NaN   NaN    NaN        NaN    NaN\n",
       "5       ADAEZE OKAH  7.020223e+09  33.0  250.0    BIO MED  300.0"
      ]
     },
     "execution_count": 35,
     "metadata": {},
     "output_type": "execute_result"
    }
   ],
   "source": [
    "names = df.where(df['SCORE'] < 300)   # THIS MEANS ANYWHERE SCORE IS LESS THEN 300 REPLACE WITH A MISING VALUE\n",
    "names.head()"
   ]
  },
  {
   "cell_type": "code",
   "execution_count": 36,
   "id": "a05d66da",
   "metadata": {},
   "outputs": [
    {
     "data": {
      "text/plain": [
       "True"
      ]
     },
     "execution_count": 36,
     "metadata": {},
     "output_type": "execute_result"
    }
   ],
   "source": [
    "# TO CHECK IF DATA SET CONTAINS A MISSING VALUE\n",
    "\n",
    "names.isnull().values.any()"
   ]
  },
  {
   "cell_type": "code",
   "execution_count": 37,
   "id": "8654b7f7",
   "metadata": {},
   "outputs": [
    {
     "data": {
      "text/plain": [
       "False"
      ]
     },
     "execution_count": 37,
     "metadata": {},
     "output_type": "execute_result"
    }
   ],
   "source": [
    "students.isnull().values.any()"
   ]
  },
  {
   "cell_type": "code",
   "execution_count": 38,
   "id": "49f49ae0",
   "metadata": {},
   "outputs": [
    {
     "data": {
      "text/plain": [
       "NAME     3\n",
       "PHONE    3\n",
       "AGE      3\n",
       "SCORE    3\n",
       "DPT      3\n",
       "LEVEL    3\n",
       "dtype: int64"
      ]
     },
     "execution_count": 38,
     "metadata": {},
     "output_type": "execute_result"
    }
   ],
   "source": [
    "names.isnull().sum() # to know the number of each missing value"
   ]
  },
  {
   "cell_type": "code",
   "execution_count": 39,
   "id": "966eb99d",
   "metadata": {},
   "outputs": [],
   "source": [
    "# DROPPING A ROW OF A MISSING DATA  (when dropping a dataset we use .DROPNA)"
   ]
  },
  {
   "cell_type": "code",
   "execution_count": 40,
   "id": "0bbaaf7a",
   "metadata": {},
   "outputs": [
    {
     "data": {
      "text/html": [
       "<div>\n",
       "<style scoped>\n",
       "    .dataframe tbody tr th:only-of-type {\n",
       "        vertical-align: middle;\n",
       "    }\n",
       "\n",
       "    .dataframe tbody tr th {\n",
       "        vertical-align: top;\n",
       "    }\n",
       "\n",
       "    .dataframe thead th {\n",
       "        text-align: right;\n",
       "    }\n",
       "</style>\n",
       "<table border=\"1\" class=\"dataframe\">\n",
       "  <thead>\n",
       "    <tr style=\"text-align: right;\">\n",
       "      <th></th>\n",
       "      <th>NAME</th>\n",
       "      <th>PHONE</th>\n",
       "      <th>AGE</th>\n",
       "      <th>SCORE</th>\n",
       "      <th>DPT</th>\n",
       "      <th>LEVEL</th>\n",
       "    </tr>\n",
       "    <tr>\n",
       "      <th>S/N</th>\n",
       "      <th></th>\n",
       "      <th></th>\n",
       "      <th></th>\n",
       "      <th></th>\n",
       "      <th></th>\n",
       "      <th></th>\n",
       "    </tr>\n",
       "  </thead>\n",
       "  <tbody>\n",
       "    <tr>\n",
       "      <th>1</th>\n",
       "      <td>OLUCHI ORDU</td>\n",
       "      <td>8.140042e+09</td>\n",
       "      <td>24.0</td>\n",
       "      <td>205.0</td>\n",
       "      <td>COM</td>\n",
       "      <td>500.0</td>\n",
       "    </tr>\n",
       "    <tr>\n",
       "      <th>2</th>\n",
       "      <td>CLARA NWAKAEZE</td>\n",
       "      <td>8.120044e+09</td>\n",
       "      <td>30.0</td>\n",
       "      <td>200.0</td>\n",
       "      <td>IND CHEM</td>\n",
       "      <td>400.0</td>\n",
       "    </tr>\n",
       "    <tr>\n",
       "      <th>3</th>\n",
       "      <td>ALEX ORDU</td>\n",
       "      <td>8.130089e+09</td>\n",
       "      <td>27.0</td>\n",
       "      <td>250.0</td>\n",
       "      <td>BIZ ADMIN</td>\n",
       "      <td>300.0</td>\n",
       "    </tr>\n",
       "    <tr>\n",
       "      <th>5</th>\n",
       "      <td>ADAEZE OKAH</td>\n",
       "      <td>7.020223e+09</td>\n",
       "      <td>33.0</td>\n",
       "      <td>250.0</td>\n",
       "      <td>BIO MED</td>\n",
       "      <td>300.0</td>\n",
       "    </tr>\n",
       "    <tr>\n",
       "      <th>7</th>\n",
       "      <td>INI EDO</td>\n",
       "      <td>7.086554e+09</td>\n",
       "      <td>20.0</td>\n",
       "      <td>190.0</td>\n",
       "      <td>LAW</td>\n",
       "      <td>200.0</td>\n",
       "    </tr>\n",
       "    <tr>\n",
       "      <th>8</th>\n",
       "      <td>SOPHIA OSUIGBO</td>\n",
       "      <td>8.140020e+09</td>\n",
       "      <td>23.0</td>\n",
       "      <td>220.0</td>\n",
       "      <td>ELECT ELECT</td>\n",
       "      <td>400.0</td>\n",
       "    </tr>\n",
       "    <tr>\n",
       "      <th>10</th>\n",
       "      <td>DIANA AKANO</td>\n",
       "      <td>7.045379e+09</td>\n",
       "      <td>22.0</td>\n",
       "      <td>200.0</td>\n",
       "      <td>HOSPITALITY</td>\n",
       "      <td>500.0</td>\n",
       "    </tr>\n",
       "  </tbody>\n",
       "</table>\n",
       "</div>"
      ],
      "text/plain": [
       "               NAME         PHONE   AGE  SCORE          DPT  LEVEL\n",
       "S/N                                                               \n",
       "1       OLUCHI ORDU  8.140042e+09  24.0  205.0          COM  500.0\n",
       "2    CLARA NWAKAEZE  8.120044e+09  30.0  200.0     IND CHEM  400.0\n",
       "3         ALEX ORDU  8.130089e+09  27.0  250.0    BIZ ADMIN  300.0\n",
       "5       ADAEZE OKAH  7.020223e+09  33.0  250.0      BIO MED  300.0\n",
       "7           INI EDO  7.086554e+09  20.0  190.0          LAW  200.0\n",
       "8    SOPHIA OSUIGBO  8.140020e+09  23.0  220.0  ELECT ELECT  400.0\n",
       "10      DIANA AKANO  7.045379e+09  22.0  200.0  HOSPITALITY  500.0"
      ]
     },
     "execution_count": 40,
     "metadata": {},
     "output_type": "execute_result"
    }
   ],
   "source": [
    "names.dropna(axis = 0)  #drop by row"
   ]
  },
  {
   "cell_type": "code",
   "execution_count": 41,
   "id": "b81fd73c",
   "metadata": {},
   "outputs": [
    {
     "data": {
      "text/plain": [
       "7"
      ]
     },
     "execution_count": 41,
     "metadata": {},
     "output_type": "execute_result"
    }
   ],
   "source": [
    "len(names.dropna(axis = 0))   # to know the number of rows dropped"
   ]
  },
  {
   "cell_type": "code",
   "execution_count": 42,
   "id": "10277f2f",
   "metadata": {},
   "outputs": [
    {
     "data": {
      "text/html": [
       "<div>\n",
       "<style scoped>\n",
       "    .dataframe tbody tr th:only-of-type {\n",
       "        vertical-align: middle;\n",
       "    }\n",
       "\n",
       "    .dataframe tbody tr th {\n",
       "        vertical-align: top;\n",
       "    }\n",
       "\n",
       "    .dataframe thead th {\n",
       "        text-align: right;\n",
       "    }\n",
       "</style>\n",
       "<table border=\"1\" class=\"dataframe\">\n",
       "  <thead>\n",
       "    <tr style=\"text-align: right;\">\n",
       "      <th></th>\n",
       "    </tr>\n",
       "    <tr>\n",
       "      <th>S/N</th>\n",
       "    </tr>\n",
       "  </thead>\n",
       "  <tbody>\n",
       "    <tr>\n",
       "      <th>1</th>\n",
       "    </tr>\n",
       "    <tr>\n",
       "      <th>2</th>\n",
       "    </tr>\n",
       "    <tr>\n",
       "      <th>3</th>\n",
       "    </tr>\n",
       "    <tr>\n",
       "      <th>4</th>\n",
       "    </tr>\n",
       "    <tr>\n",
       "      <th>5</th>\n",
       "    </tr>\n",
       "    <tr>\n",
       "      <th>6</th>\n",
       "    </tr>\n",
       "    <tr>\n",
       "      <th>7</th>\n",
       "    </tr>\n",
       "    <tr>\n",
       "      <th>8</th>\n",
       "    </tr>\n",
       "    <tr>\n",
       "      <th>9</th>\n",
       "    </tr>\n",
       "    <tr>\n",
       "      <th>10</th>\n",
       "    </tr>\n",
       "  </tbody>\n",
       "</table>\n",
       "</div>"
      ],
      "text/plain": [
       "Empty DataFrame\n",
       "Columns: []\n",
       "Index: [1, 2, 3, 4, 5, 6, 7, 8, 9, 10]"
      ]
     },
     "execution_count": 42,
     "metadata": {},
     "output_type": "execute_result"
    }
   ],
   "source": [
    "names.dropna(axis = 1)  # droping by colums"
   ]
  },
  {
   "cell_type": "code",
   "execution_count": 47,
   "id": "c3701579",
   "metadata": {},
   "outputs": [],
   "source": [
    " # FILLING MISSING VALUES    (WHEN FILLING IN A DATA SET WE USE .FILLNA)\n"
   ]
  },
  {
   "cell_type": "code",
   "execution_count": 45,
   "id": "a0ab28ee",
   "metadata": {},
   "outputs": [
    {
     "name": "stderr",
     "output_type": "stream",
     "text": [
      "/var/folders/ng/s1jd2v69169bcj5666zvl2880000gn/T/ipykernel_2630/3698961737.py:1: FutureWarning: Dropping of nuisance columns in DataFrame reductions (with 'numeric_only=None') is deprecated; in a future version this will raise TypeError.  Select only valid columns before calling the reduction.\n",
      "  df.mean()\n"
     ]
    },
    {
     "data": {
      "text/plain": [
       "PHONE    7.888726e+09\n",
       "AGE      2.620000e+01\n",
       "SCORE    2.545000e+02\n",
       "LEVEL    3.000000e+02\n",
       "dtype: float64"
      ]
     },
     "execution_count": 45,
     "metadata": {},
     "output_type": "execute_result"
    }
   ],
   "source": [
    "df.mean()    #filling by mean"
   ]
  },
  {
   "cell_type": "code",
   "execution_count": 51,
   "id": "0918e869",
   "metadata": {},
   "outputs": [],
   "source": [
    "# names_fillna_mean= names.fillna(df.mean())\n"
   ]
  },
  {
   "cell_type": "code",
   "execution_count": 49,
   "id": "2927c668",
   "metadata": {},
   "outputs": [
    {
     "data": {
      "text/html": [
       "<div>\n",
       "<style scoped>\n",
       "    .dataframe tbody tr th:only-of-type {\n",
       "        vertical-align: middle;\n",
       "    }\n",
       "\n",
       "    .dataframe tbody tr th {\n",
       "        vertical-align: top;\n",
       "    }\n",
       "\n",
       "    .dataframe thead th {\n",
       "        text-align: right;\n",
       "    }\n",
       "</style>\n",
       "<table border=\"1\" class=\"dataframe\">\n",
       "  <thead>\n",
       "    <tr style=\"text-align: right;\">\n",
       "      <th></th>\n",
       "      <th>NAME</th>\n",
       "      <th>PHONE</th>\n",
       "      <th>AGE</th>\n",
       "      <th>SCORE</th>\n",
       "      <th>DPT</th>\n",
       "      <th>LEVEL</th>\n",
       "    </tr>\n",
       "    <tr>\n",
       "      <th>S/N</th>\n",
       "      <th></th>\n",
       "      <th></th>\n",
       "      <th></th>\n",
       "      <th></th>\n",
       "      <th></th>\n",
       "      <th></th>\n",
       "    </tr>\n",
       "  </thead>\n",
       "  <tbody>\n",
       "    <tr>\n",
       "      <th>1</th>\n",
       "      <td>OLUCHI ORDU</td>\n",
       "      <td>8.140042e+09</td>\n",
       "      <td>24.0</td>\n",
       "      <td>205.0</td>\n",
       "      <td>COM</td>\n",
       "      <td>500.0</td>\n",
       "    </tr>\n",
       "    <tr>\n",
       "      <th>2</th>\n",
       "      <td>CLARA NWAKAEZE</td>\n",
       "      <td>8.120044e+09</td>\n",
       "      <td>30.0</td>\n",
       "      <td>200.0</td>\n",
       "      <td>IND CHEM</td>\n",
       "      <td>400.0</td>\n",
       "    </tr>\n",
       "    <tr>\n",
       "      <th>3</th>\n",
       "      <td>ALEX ORDU</td>\n",
       "      <td>8.130089e+09</td>\n",
       "      <td>27.0</td>\n",
       "      <td>250.0</td>\n",
       "      <td>BIZ ADMIN</td>\n",
       "      <td>300.0</td>\n",
       "    </tr>\n",
       "    <tr>\n",
       "      <th>4</th>\n",
       "      <td>NaN</td>\n",
       "      <td>NaN</td>\n",
       "      <td>NaN</td>\n",
       "      <td>NaN</td>\n",
       "      <td>NaN</td>\n",
       "      <td>NaN</td>\n",
       "    </tr>\n",
       "    <tr>\n",
       "      <th>5</th>\n",
       "      <td>ADAEZE OKAH</td>\n",
       "      <td>7.020223e+09</td>\n",
       "      <td>33.0</td>\n",
       "      <td>250.0</td>\n",
       "      <td>BIO MED</td>\n",
       "      <td>300.0</td>\n",
       "    </tr>\n",
       "  </tbody>\n",
       "</table>\n",
       "</div>"
      ],
      "text/plain": [
       "               NAME         PHONE   AGE  SCORE        DPT  LEVEL\n",
       "S/N                                                             \n",
       "1       OLUCHI ORDU  8.140042e+09  24.0  205.0        COM  500.0\n",
       "2    CLARA NWAKAEZE  8.120044e+09  30.0  200.0   IND CHEM  400.0\n",
       "3         ALEX ORDU  8.130089e+09  27.0  250.0  BIZ ADMIN  300.0\n",
       "4               NaN           NaN   NaN    NaN        NaN    NaN\n",
       "5       ADAEZE OKAH  7.020223e+09  33.0  250.0    BIO MED  300.0"
      ]
     },
     "execution_count": 49,
     "metadata": {},
     "output_type": "execute_result"
    }
   ],
   "source": [
    "names.head()"
   ]
  },
  {
   "cell_type": "code",
   "execution_count": 52,
   "id": "f767036e",
   "metadata": {},
   "outputs": [
    {
     "data": {
      "text/html": [
       "<div>\n",
       "<style scoped>\n",
       "    .dataframe tbody tr th:only-of-type {\n",
       "        vertical-align: middle;\n",
       "    }\n",
       "\n",
       "    .dataframe tbody tr th {\n",
       "        vertical-align: top;\n",
       "    }\n",
       "\n",
       "    .dataframe thead th {\n",
       "        text-align: right;\n",
       "    }\n",
       "</style>\n",
       "<table border=\"1\" class=\"dataframe\">\n",
       "  <thead>\n",
       "    <tr style=\"text-align: right;\">\n",
       "      <th></th>\n",
       "      <th>NAME</th>\n",
       "      <th>PHONE</th>\n",
       "      <th>AGE</th>\n",
       "      <th>SCORE</th>\n",
       "      <th>DPT</th>\n",
       "      <th>LEVEL</th>\n",
       "    </tr>\n",
       "    <tr>\n",
       "      <th>S/N</th>\n",
       "      <th></th>\n",
       "      <th></th>\n",
       "      <th></th>\n",
       "      <th></th>\n",
       "      <th></th>\n",
       "      <th></th>\n",
       "    </tr>\n",
       "  </thead>\n",
       "  <tbody>\n",
       "    <tr>\n",
       "      <th>1</th>\n",
       "      <td>OLUCHI ORDU</td>\n",
       "      <td>8.140042e+09</td>\n",
       "      <td>24.0</td>\n",
       "      <td>205.0</td>\n",
       "      <td>COM</td>\n",
       "      <td>500.0</td>\n",
       "    </tr>\n",
       "    <tr>\n",
       "      <th>2</th>\n",
       "      <td>CLARA NWAKAEZE</td>\n",
       "      <td>8.120044e+09</td>\n",
       "      <td>30.0</td>\n",
       "      <td>200.0</td>\n",
       "      <td>IND CHEM</td>\n",
       "      <td>400.0</td>\n",
       "    </tr>\n",
       "    <tr>\n",
       "      <th>3</th>\n",
       "      <td>ALEX ORDU</td>\n",
       "      <td>8.130089e+09</td>\n",
       "      <td>27.0</td>\n",
       "      <td>250.0</td>\n",
       "      <td>BIZ ADMIN</td>\n",
       "      <td>300.0</td>\n",
       "    </tr>\n",
       "    <tr>\n",
       "      <th>4</th>\n",
       "      <td>NaN</td>\n",
       "      <td>7.888726e+09</td>\n",
       "      <td>26.2</td>\n",
       "      <td>254.5</td>\n",
       "      <td>NaN</td>\n",
       "      <td>300.0</td>\n",
       "    </tr>\n",
       "    <tr>\n",
       "      <th>5</th>\n",
       "      <td>ADAEZE OKAH</td>\n",
       "      <td>7.020223e+09</td>\n",
       "      <td>33.0</td>\n",
       "      <td>250.0</td>\n",
       "      <td>BIO MED</td>\n",
       "      <td>300.0</td>\n",
       "    </tr>\n",
       "  </tbody>\n",
       "</table>\n",
       "</div>"
      ],
      "text/plain": [
       "               NAME         PHONE   AGE  SCORE        DPT  LEVEL\n",
       "S/N                                                             \n",
       "1       OLUCHI ORDU  8.140042e+09  24.0  205.0        COM  500.0\n",
       "2    CLARA NWAKAEZE  8.120044e+09  30.0  200.0   IND CHEM  400.0\n",
       "3         ALEX ORDU  8.130089e+09  27.0  250.0  BIZ ADMIN  300.0\n",
       "4               NaN  7.888726e+09  26.2  254.5        NaN  300.0\n",
       "5       ADAEZE OKAH  7.020223e+09  33.0  250.0    BIO MED  300.0"
      ]
     },
     "execution_count": 52,
     "metadata": {},
     "output_type": "execute_result"
    }
   ],
   "source": [
    "names_fillna_mean.head()"
   ]
  },
  {
   "cell_type": "code",
   "execution_count": 59,
   "id": "bea44994",
   "metadata": {},
   "outputs": [],
   "source": [
    "# df.median()   (filling by median)"
   ]
  },
  {
   "cell_type": "code",
   "execution_count": 60,
   "id": "40a6ec76",
   "metadata": {},
   "outputs": [],
   "source": [
    "# names_fillna_median= names.fillna(df.median())\n",
    "\n"
   ]
  },
  {
   "cell_type": "code",
   "execution_count": 57,
   "id": "01f5f3a0",
   "metadata": {},
   "outputs": [
    {
     "data": {
      "text/html": [
       "<div>\n",
       "<style scoped>\n",
       "    .dataframe tbody tr th:only-of-type {\n",
       "        vertical-align: middle;\n",
       "    }\n",
       "\n",
       "    .dataframe tbody tr th {\n",
       "        vertical-align: top;\n",
       "    }\n",
       "\n",
       "    .dataframe thead th {\n",
       "        text-align: right;\n",
       "    }\n",
       "</style>\n",
       "<table border=\"1\" class=\"dataframe\">\n",
       "  <thead>\n",
       "    <tr style=\"text-align: right;\">\n",
       "      <th></th>\n",
       "      <th>NAME</th>\n",
       "      <th>PHONE</th>\n",
       "      <th>AGE</th>\n",
       "      <th>SCORE</th>\n",
       "      <th>DPT</th>\n",
       "      <th>LEVEL</th>\n",
       "    </tr>\n",
       "    <tr>\n",
       "      <th>S/N</th>\n",
       "      <th></th>\n",
       "      <th></th>\n",
       "      <th></th>\n",
       "      <th></th>\n",
       "      <th></th>\n",
       "      <th></th>\n",
       "    </tr>\n",
       "  </thead>\n",
       "  <tbody>\n",
       "    <tr>\n",
       "      <th>1</th>\n",
       "      <td>OLUCHI ORDU</td>\n",
       "      <td>8.140042e+09</td>\n",
       "      <td>24.0</td>\n",
       "      <td>205.0</td>\n",
       "      <td>COM</td>\n",
       "      <td>500.0</td>\n",
       "    </tr>\n",
       "    <tr>\n",
       "      <th>2</th>\n",
       "      <td>CLARA NWAKAEZE</td>\n",
       "      <td>8.120044e+09</td>\n",
       "      <td>30.0</td>\n",
       "      <td>200.0</td>\n",
       "      <td>IND CHEM</td>\n",
       "      <td>400.0</td>\n",
       "    </tr>\n",
       "    <tr>\n",
       "      <th>3</th>\n",
       "      <td>ALEX ORDU</td>\n",
       "      <td>8.130089e+09</td>\n",
       "      <td>27.0</td>\n",
       "      <td>250.0</td>\n",
       "      <td>BIZ ADMIN</td>\n",
       "      <td>300.0</td>\n",
       "    </tr>\n",
       "    <tr>\n",
       "      <th>4</th>\n",
       "      <td>NaN</td>\n",
       "      <td>NaN</td>\n",
       "      <td>NaN</td>\n",
       "      <td>NaN</td>\n",
       "      <td>NaN</td>\n",
       "      <td>NaN</td>\n",
       "    </tr>\n",
       "    <tr>\n",
       "      <th>5</th>\n",
       "      <td>ADAEZE OKAH</td>\n",
       "      <td>7.020223e+09</td>\n",
       "      <td>33.0</td>\n",
       "      <td>250.0</td>\n",
       "      <td>BIO MED</td>\n",
       "      <td>300.0</td>\n",
       "    </tr>\n",
       "  </tbody>\n",
       "</table>\n",
       "</div>"
      ],
      "text/plain": [
       "               NAME         PHONE   AGE  SCORE        DPT  LEVEL\n",
       "S/N                                                             \n",
       "1       OLUCHI ORDU  8.140042e+09  24.0  205.0        COM  500.0\n",
       "2    CLARA NWAKAEZE  8.120044e+09  30.0  200.0   IND CHEM  400.0\n",
       "3         ALEX ORDU  8.130089e+09  27.0  250.0  BIZ ADMIN  300.0\n",
       "4               NaN           NaN   NaN    NaN        NaN    NaN\n",
       "5       ADAEZE OKAH  7.020223e+09  33.0  250.0    BIO MED  300.0"
      ]
     },
     "execution_count": 57,
     "metadata": {},
     "output_type": "execute_result"
    }
   ],
   "source": [
    "names_fillna_mode= names.fillna(df.mode())   # filling by mode\n",
    "\n",
    "names.head()"
   ]
  },
  {
   "cell_type": "code",
   "execution_count": null,
   "id": "fc9a0459",
   "metadata": {},
   "outputs": [],
   "source": []
  }
 ],
 "metadata": {
  "kernelspec": {
   "display_name": "Python 3 (ipykernel)",
   "language": "python",
   "name": "python3"
  },
  "language_info": {
   "codemirror_mode": {
    "name": "ipython",
    "version": 3
   },
   "file_extension": ".py",
   "mimetype": "text/x-python",
   "name": "python",
   "nbconvert_exporter": "python",
   "pygments_lexer": "ipython3",
   "version": "3.9.13"
  }
 },
 "nbformat": 4,
 "nbformat_minor": 5
}

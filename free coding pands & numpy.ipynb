{
 "cells": [
  {
   "cell_type": "code",
   "execution_count": 1,
   "id": "92946b27",
   "metadata": {},
   "outputs": [
    {
     "data": {
      "text/plain": [
       "2"
      ]
     },
     "execution_count": 1,
     "metadata": {},
     "output_type": "execute_result"
    }
   ],
   "source": [
    "y = 2\n",
    "y"
   ]
  },
  {
   "cell_type": "code",
   "execution_count": 6,
   "id": "bba38dcf",
   "metadata": {},
   "outputs": [],
   "source": [
    "import pandas as pd"
   ]
  },
  {
   "cell_type": "code",
   "execution_count": 7,
   "id": "1b0454e4",
   "metadata": {},
   "outputs": [
    {
     "data": {
      "text/plain": [
       "0    2\n",
       "1    3\n",
       "2    4\n",
       "3    5\n",
       "dtype: int64"
      ]
     },
     "execution_count": 7,
     "metadata": {},
     "output_type": "execute_result"
    }
   ],
   "source": [
    "x = pd.Series([2,3,4,5])\n",
    "x"
   ]
  },
  {
   "cell_type": "code",
   "execution_count": 8,
   "id": "486e1268",
   "metadata": {},
   "outputs": [
    {
     "data": {
      "text/plain": [
       "0     20\n",
       "1      5\n",
       "2    man\n",
       "dtype: object"
      ]
     },
     "execution_count": 8,
     "metadata": {},
     "output_type": "execute_result"
    }
   ],
   "source": [
    "val = [20,5,'man']\n",
    "x = pd.Series(val)\n",
    "x"
   ]
  },
  {
   "cell_type": "code",
   "execution_count": 12,
   "id": "f8f565be",
   "metadata": {},
   "outputs": [
    {
     "data": {
      "text/html": [
       "<div>\n",
       "<style scoped>\n",
       "    .dataframe tbody tr th:only-of-type {\n",
       "        vertical-align: middle;\n",
       "    }\n",
       "\n",
       "    .dataframe tbody tr th {\n",
       "        vertical-align: top;\n",
       "    }\n",
       "\n",
       "    .dataframe thead th {\n",
       "        text-align: right;\n",
       "    }\n",
       "</style>\n",
       "<table border=\"1\" class=\"dataframe\">\n",
       "  <thead>\n",
       "    <tr style=\"text-align: right;\">\n",
       "      <th></th>\n",
       "      <th>name</th>\n",
       "      <th>password</th>\n",
       "      <th>country</th>\n",
       "      <th>age</th>\n",
       "      <th>sport</th>\n",
       "      <th>department</th>\n",
       "    </tr>\n",
       "  </thead>\n",
       "  <tbody>\n",
       "    <tr>\n",
       "      <th>details1</th>\n",
       "      <td>oluchi</td>\n",
       "      <td>olu3</td>\n",
       "      <td>usa</td>\n",
       "      <td>25</td>\n",
       "      <td>basketball</td>\n",
       "      <td>com si</td>\n",
       "    </tr>\n",
       "    <tr>\n",
       "      <th>details2</th>\n",
       "      <td>eben</td>\n",
       "      <td>eben10</td>\n",
       "      <td>nigeria</td>\n",
       "      <td>32</td>\n",
       "      <td>golf</td>\n",
       "      <td>com si</td>\n",
       "    </tr>\n",
       "    <tr>\n",
       "      <th>details3</th>\n",
       "      <td>esther</td>\n",
       "      <td>esther20</td>\n",
       "      <td>india</td>\n",
       "      <td>22</td>\n",
       "      <td>cricket</td>\n",
       "      <td>bus admin</td>\n",
       "    </tr>\n",
       "    <tr>\n",
       "      <th>details4</th>\n",
       "      <td>michael</td>\n",
       "      <td>mike02</td>\n",
       "      <td>china</td>\n",
       "      <td>23</td>\n",
       "      <td>takwando</td>\n",
       "      <td>mass com</td>\n",
       "    </tr>\n",
       "    <tr>\n",
       "      <th>details5</th>\n",
       "      <td>clara</td>\n",
       "      <td>clara33</td>\n",
       "      <td>canada</td>\n",
       "      <td>30</td>\n",
       "      <td>bassball</td>\n",
       "      <td>sales</td>\n",
       "    </tr>\n",
       "  </tbody>\n",
       "</table>\n",
       "</div>"
      ],
      "text/plain": [
       "             name  password  country age       sport department\n",
       "details1   oluchi      olu3      usa  25  basketball     com si\n",
       "details2     eben    eben10  nigeria  32        golf     com si\n",
       "details3   esther  esther20    india  22     cricket  bus admin\n",
       "details4  michael    mike02    china  23    takwando   mass com\n",
       "details5    clara   clara33   canada  30    bassball      sales"
      ]
     },
     "execution_count": 12,
     "metadata": {},
     "output_type": "execute_result"
    }
   ],
   "source": [
    "details1 = pd.Series({'name': 'oluchi',\n",
    "                     'password': 'olu3',\n",
    "                     'country': 'usa',\n",
    "                     'age': '25',\n",
    "                     'sport': 'basketball',\n",
    "                     'department': 'com si'})\n",
    "\n",
    "details2 = pd.Series({'name': 'eben',\n",
    "                     'password': 'eben10',\n",
    "                     'country': 'nigeria',\n",
    "                     'age': '32',\n",
    "                     'sport': 'golf',\n",
    "                     'department': 'com si'})\n",
    "\n",
    "details3 = pd.Series({'name': 'esther',\n",
    "                     'password': 'esther20',\n",
    "                     'country': 'india',\n",
    "                     'age': '22',\n",
    "                     'sport': 'cricket',\n",
    "                     'department': 'bus admin'})\n",
    "\n",
    "details4 = pd.Series({'name': 'michael',\n",
    "                     'password': 'mike02',\n",
    "                     'country': 'china',\n",
    "                     'age': '23',\n",
    "                     'sport': 'takwando',\n",
    "                     'department': 'mass com'})\n",
    "\n",
    "details5 = pd.Series({'name': 'clara',\n",
    "                     'password': 'clara33',\n",
    "                     'country': 'canada',\n",
    "                     'age': '30',\n",
    "                     'sport': 'bassball',\n",
    "                     'department': 'sales'})\n",
    "\n",
    "df = pd.DataFrame([details1, details2, details3, details4, details5], index = ['details1', 'details2', 'details3', 'details4', 'details5'])\n",
    "df\n"
   ]
  },
  {
   "cell_type": "code",
   "execution_count": 14,
   "id": "83365aca",
   "metadata": {},
   "outputs": [
    {
     "data": {
      "text/plain": [
       "name              oluchi\n",
       "password            olu3\n",
       "country              usa\n",
       "age                   25\n",
       "sport         basketball\n",
       "department        com si\n",
       "Name: details1, dtype: object"
      ]
     },
     "execution_count": 14,
     "metadata": {},
     "output_type": "execute_result"
    }
   ],
   "source": [
    "df.loc['details1']"
   ]
  },
  {
   "cell_type": "code",
   "execution_count": 15,
   "id": "6403862d",
   "metadata": {},
   "outputs": [
    {
     "data": {
      "text/plain": [
       "name           michael\n",
       "password        mike02\n",
       "country          china\n",
       "age                 23\n",
       "sport         takwando\n",
       "department    mass com\n",
       "Name: details4, dtype: object"
      ]
     },
     "execution_count": 15,
     "metadata": {},
     "output_type": "execute_result"
    }
   ],
   "source": [
    "df.loc['details4']"
   ]
  },
  {
   "cell_type": "code",
   "execution_count": 17,
   "id": "f28327d7",
   "metadata": {},
   "outputs": [
    {
     "data": {
      "text/html": [
       "<div>\n",
       "<style scoped>\n",
       "    .dataframe tbody tr th:only-of-type {\n",
       "        vertical-align: middle;\n",
       "    }\n",
       "\n",
       "    .dataframe tbody tr th {\n",
       "        vertical-align: top;\n",
       "    }\n",
       "\n",
       "    .dataframe thead th {\n",
       "        text-align: right;\n",
       "    }\n",
       "</style>\n",
       "<table border=\"1\" class=\"dataframe\">\n",
       "  <thead>\n",
       "    <tr style=\"text-align: right;\">\n",
       "      <th></th>\n",
       "      <th>name</th>\n",
       "      <th>password</th>\n",
       "      <th>country</th>\n",
       "      <th>age</th>\n",
       "      <th>sport</th>\n",
       "      <th>department</th>\n",
       "    </tr>\n",
       "  </thead>\n",
       "  <tbody>\n",
       "    <tr>\n",
       "      <th>details1</th>\n",
       "      <td>oluchi</td>\n",
       "      <td>olu3</td>\n",
       "      <td>usa</td>\n",
       "      <td>25</td>\n",
       "      <td>basketball</td>\n",
       "      <td>com si</td>\n",
       "    </tr>\n",
       "    <tr>\n",
       "      <th>details2</th>\n",
       "      <td>eben</td>\n",
       "      <td>eben10</td>\n",
       "      <td>nigeria</td>\n",
       "      <td>32</td>\n",
       "      <td>golf</td>\n",
       "      <td>com si</td>\n",
       "    </tr>\n",
       "    <tr>\n",
       "      <th>details3</th>\n",
       "      <td>country</td>\n",
       "      <td>country</td>\n",
       "      <td>country</td>\n",
       "      <td>country</td>\n",
       "      <td>country</td>\n",
       "      <td>country</td>\n",
       "    </tr>\n",
       "    <tr>\n",
       "      <th>details4</th>\n",
       "      <td>michael</td>\n",
       "      <td>mike02</td>\n",
       "      <td>china</td>\n",
       "      <td>23</td>\n",
       "      <td>takwando</td>\n",
       "      <td>mass com</td>\n",
       "    </tr>\n",
       "    <tr>\n",
       "      <th>details5</th>\n",
       "      <td>clara</td>\n",
       "      <td>clara33</td>\n",
       "      <td>canada</td>\n",
       "      <td>30</td>\n",
       "      <td>bassball</td>\n",
       "      <td>sales</td>\n",
       "    </tr>\n",
       "  </tbody>\n",
       "</table>\n",
       "</div>"
      ],
      "text/plain": [
       "             name password  country      age       sport department\n",
       "details1   oluchi     olu3      usa       25  basketball     com si\n",
       "details2     eben   eben10  nigeria       32        golf     com si\n",
       "details3  country  country  country  country     country    country\n",
       "details4  michael   mike02    china       23    takwando   mass com\n",
       "details5    clara  clara33   canada       30    bassball      sales"
      ]
     },
     "execution_count": 17,
     "metadata": {},
     "output_type": "execute_result"
    }
   ],
   "source": [
    "df.loc['details3'] = 'country'\n",
    "df"
   ]
  },
  {
   "cell_type": "code",
   "execution_count": 20,
   "id": "bb47e0b0",
   "metadata": {},
   "outputs": [
    {
     "data": {
      "text/plain": [
       "details1      com si\n",
       "details2      com si\n",
       "details3     country\n",
       "details4    mass com\n",
       "details5       sales\n",
       "Name: department, dtype: object"
      ]
     },
     "execution_count": 20,
     "metadata": {},
     "output_type": "execute_result"
    }
   ],
   "source": [
    "df.T.loc['department']"
   ]
  },
  {
   "cell_type": "code",
   "execution_count": 21,
   "id": "20e48b18",
   "metadata": {},
   "outputs": [
    {
     "data": {
      "text/plain": [
       "details1     oluchi\n",
       "details2       eben\n",
       "details3    country\n",
       "details4    michael\n",
       "details5      clara\n",
       "Name: name, dtype: object"
      ]
     },
     "execution_count": 21,
     "metadata": {},
     "output_type": "execute_result"
    }
   ],
   "source": [
    "df.T.loc['name']"
   ]
  },
  {
   "cell_type": "code",
   "execution_count": 25,
   "id": "36375e1c",
   "metadata": {},
   "outputs": [
    {
     "data": {
      "text/html": [
       "<div>\n",
       "<style scoped>\n",
       "    .dataframe tbody tr th:only-of-type {\n",
       "        vertical-align: middle;\n",
       "    }\n",
       "\n",
       "    .dataframe tbody tr th {\n",
       "        vertical-align: top;\n",
       "    }\n",
       "\n",
       "    .dataframe thead th {\n",
       "        text-align: right;\n",
       "    }\n",
       "</style>\n",
       "<table border=\"1\" class=\"dataframe\">\n",
       "  <thead>\n",
       "    <tr style=\"text-align: right;\">\n",
       "      <th></th>\n",
       "      <th>name</th>\n",
       "      <th>password</th>\n",
       "      <th>country</th>\n",
       "      <th>age</th>\n",
       "      <th>sport</th>\n",
       "      <th>department</th>\n",
       "    </tr>\n",
       "  </thead>\n",
       "  <tbody>\n",
       "    <tr>\n",
       "      <th>details1</th>\n",
       "      <td>oluchi</td>\n",
       "      <td>olu3</td>\n",
       "      <td>usa</td>\n",
       "      <td>25</td>\n",
       "      <td>basketball</td>\n",
       "      <td>com si</td>\n",
       "    </tr>\n",
       "    <tr>\n",
       "      <th>details3</th>\n",
       "      <td>country</td>\n",
       "      <td>country</td>\n",
       "      <td>country</td>\n",
       "      <td>country</td>\n",
       "      <td>country</td>\n",
       "      <td>country</td>\n",
       "    </tr>\n",
       "    <tr>\n",
       "      <th>details4</th>\n",
       "      <td>michael</td>\n",
       "      <td>mike02</td>\n",
       "      <td>china</td>\n",
       "      <td>23</td>\n",
       "      <td>takwando</td>\n",
       "      <td>mass com</td>\n",
       "    </tr>\n",
       "    <tr>\n",
       "      <th>details5</th>\n",
       "      <td>clara</td>\n",
       "      <td>clara33</td>\n",
       "      <td>canada</td>\n",
       "      <td>30</td>\n",
       "      <td>bassball</td>\n",
       "      <td>sales</td>\n",
       "    </tr>\n",
       "  </tbody>\n",
       "</table>\n",
       "</div>"
      ],
      "text/plain": [
       "             name password  country      age       sport department\n",
       "details1   oluchi     olu3      usa       25  basketball     com si\n",
       "details3  country  country  country  country     country    country\n",
       "details4  michael   mike02    china       23    takwando   mass com\n",
       "details5    clara  clara33   canada       30    bassball      sales"
      ]
     },
     "execution_count": 25,
     "metadata": {},
     "output_type": "execute_result"
    }
   ],
   "source": [
    "df.drop(['details2'])"
   ]
  },
  {
   "cell_type": "code",
   "execution_count": 26,
   "id": "b25fdc50",
   "metadata": {},
   "outputs": [
    {
     "data": {
      "text/html": [
       "<div>\n",
       "<style scoped>\n",
       "    .dataframe tbody tr th:only-of-type {\n",
       "        vertical-align: middle;\n",
       "    }\n",
       "\n",
       "    .dataframe tbody tr th {\n",
       "        vertical-align: top;\n",
       "    }\n",
       "\n",
       "    .dataframe thead th {\n",
       "        text-align: right;\n",
       "    }\n",
       "</style>\n",
       "<table border=\"1\" class=\"dataframe\">\n",
       "  <thead>\n",
       "    <tr style=\"text-align: right;\">\n",
       "      <th></th>\n",
       "      <th>name</th>\n",
       "      <th>password</th>\n",
       "      <th>country</th>\n",
       "      <th>age</th>\n",
       "      <th>sport</th>\n",
       "      <th>department</th>\n",
       "    </tr>\n",
       "  </thead>\n",
       "  <tbody>\n",
       "    <tr>\n",
       "      <th>details1</th>\n",
       "      <td>oluchi</td>\n",
       "      <td>olu3</td>\n",
       "      <td>usa</td>\n",
       "      <td>25</td>\n",
       "      <td>basketball</td>\n",
       "      <td>com si</td>\n",
       "    </tr>\n",
       "    <tr>\n",
       "      <th>details2</th>\n",
       "      <td>eben</td>\n",
       "      <td>eben10</td>\n",
       "      <td>nigeria</td>\n",
       "      <td>32</td>\n",
       "      <td>golf</td>\n",
       "      <td>com si</td>\n",
       "    </tr>\n",
       "    <tr>\n",
       "      <th>details4</th>\n",
       "      <td>michael</td>\n",
       "      <td>mike02</td>\n",
       "      <td>china</td>\n",
       "      <td>23</td>\n",
       "      <td>takwando</td>\n",
       "      <td>mass com</td>\n",
       "    </tr>\n",
       "    <tr>\n",
       "      <th>details5</th>\n",
       "      <td>clara</td>\n",
       "      <td>clara33</td>\n",
       "      <td>canada</td>\n",
       "      <td>30</td>\n",
       "      <td>bassball</td>\n",
       "      <td>sales</td>\n",
       "    </tr>\n",
       "  </tbody>\n",
       "</table>\n",
       "</div>"
      ],
      "text/plain": [
       "             name password  country age       sport department\n",
       "details1   oluchi     olu3      usa  25  basketball     com si\n",
       "details2     eben   eben10  nigeria  32        golf     com si\n",
       "details4  michael   mike02    china  23    takwando   mass com\n",
       "details5    clara  clara33   canada  30    bassball      sales"
      ]
     },
     "execution_count": 26,
     "metadata": {},
     "output_type": "execute_result"
    }
   ],
   "source": [
    "df.drop(['details3'])"
   ]
  },
  {
   "cell_type": "code",
   "execution_count": 28,
   "id": "7384a087",
   "metadata": {},
   "outputs": [
    {
     "data": {
      "text/plain": [
       "details1     oluchi\n",
       "details2       eben\n",
       "details3    country\n",
       "details4    michael\n",
       "details5      clara\n",
       "Name: name, dtype: object"
      ]
     },
     "execution_count": 28,
     "metadata": {},
     "output_type": "execute_result"
    }
   ],
   "source": [
    "name = df['name']\n",
    "name"
   ]
  },
  {
   "cell_type": "code",
   "execution_count": 29,
   "id": "dcaeb409",
   "metadata": {},
   "outputs": [
    {
     "data": {
      "text/plain": [
       "details1       olu3\n",
       "details2     eben10\n",
       "details3    country\n",
       "details4     mike02\n",
       "details5    clara33\n",
       "Name: password, dtype: object"
      ]
     },
     "execution_count": 29,
     "metadata": {},
     "output_type": "execute_result"
    }
   ],
   "source": [
    "password = df['password']\n",
    "password"
   ]
  },
  {
   "cell_type": "code",
   "execution_count": 30,
   "id": "df5633da",
   "metadata": {},
   "outputs": [
    {
     "data": {
      "text/plain": [
       "details1        usa\n",
       "details2    nigeria\n",
       "details3    country\n",
       "details4      china\n",
       "details5     canada\n",
       "Name: country, dtype: object"
      ]
     },
     "execution_count": 30,
     "metadata": {},
     "output_type": "execute_result"
    }
   ],
   "source": [
    "country = df['country']\n",
    "country\n"
   ]
  },
  {
   "cell_type": "code",
   "execution_count": 31,
   "id": "e2b02dd0",
   "metadata": {},
   "outputs": [
    {
     "data": {
      "text/plain": [
       "details1      com si\n",
       "details2      com si\n",
       "details3     country\n",
       "details4    mass com\n",
       "details5       sales\n",
       "Name: department, dtype: object"
      ]
     },
     "execution_count": 31,
     "metadata": {},
     "output_type": "execute_result"
    }
   ],
   "source": [
    "department = df['department']\n",
    "department"
   ]
  },
  {
   "cell_type": "code",
   "execution_count": 46,
   "id": "bceedcc4",
   "metadata": {},
   "outputs": [],
   "source": [
    "import numpy as np\n"
   ]
  },
  {
   "cell_type": "code",
   "execution_count": 48,
   "id": "1c8a03e8",
   "metadata": {},
   "outputs": [
    {
     "data": {
      "text/plain": [
       "array([20,  3,  4])"
      ]
     },
     "execution_count": 48,
     "metadata": {},
     "output_type": "execute_result"
    }
   ],
   "source": [
    "x = np.array([20,3,4])\n",
    "x"
   ]
  },
  {
   "cell_type": "code",
   "execution_count": 49,
   "id": "fbb59730",
   "metadata": {},
   "outputs": [
    {
     "data": {
      "text/plain": [
       "array([ 1,  2,  4,  8,  0, 22])"
      ]
     },
     "execution_count": 49,
     "metadata": {},
     "output_type": "execute_result"
    }
   ],
   "source": [
    "man = [1, 2, 4, 8, 0, 22]\n",
    "x = np.array(man)\n",
    "x"
   ]
  },
  {
   "cell_type": "code",
   "execution_count": 52,
   "id": "2fc592c5",
   "metadata": {},
   "outputs": [
    {
     "data": {
      "text/plain": [
       "array([[1, 2, 3],\n",
       "       [3, 5, 7],\n",
       "       [6, 7, 8],\n",
       "       [9, 0, 4]])"
      ]
     },
     "execution_count": 52,
     "metadata": {},
     "output_type": "execute_result"
    }
   ],
   "source": [
    "sun = np.array([[1,2,3], [3,5,7], [6,7,8], [9,0,4]])\n",
    "sun"
   ]
  },
  {
   "cell_type": "code",
   "execution_count": 53,
   "id": "722122a2",
   "metadata": {},
   "outputs": [
    {
     "data": {
      "text/plain": [
       "numpy.ndarray"
      ]
     },
     "execution_count": 53,
     "metadata": {},
     "output_type": "execute_result"
    }
   ],
   "source": [
    "type(sun)"
   ]
  },
  {
   "cell_type": "code",
   "execution_count": 54,
   "id": "2e90c71f",
   "metadata": {},
   "outputs": [
    {
     "data": {
      "text/plain": [
       "(4, 3)"
      ]
     },
     "execution_count": 54,
     "metadata": {},
     "output_type": "execute_result"
    }
   ],
   "source": [
    "np.shape(sun)"
   ]
  },
  {
   "cell_type": "code",
   "execution_count": 58,
   "id": "8d1ea1d4",
   "metadata": {},
   "outputs": [
    {
     "data": {
      "text/plain": [
       "array([1, 2, 3, 3, 5, 7, 6, 7, 8, 9, 0, 4])"
      ]
     },
     "execution_count": 58,
     "metadata": {},
     "output_type": "execute_result"
    }
   ],
   "source": [
    "sun.reshape(12)"
   ]
  },
  {
   "cell_type": "code",
   "execution_count": 59,
   "id": "f5bf2923",
   "metadata": {},
   "outputs": [
    {
     "data": {
      "text/plain": [
       "array([[1, 2, 3],\n",
       "       [3, 5, 7],\n",
       "       [6, 7, 8],\n",
       "       [9, 0, 4]])"
      ]
     },
     "execution_count": 59,
     "metadata": {},
     "output_type": "execute_result"
    }
   ],
   "source": [
    "sun.reshape(4,3)"
   ]
  },
  {
   "cell_type": "code",
   "execution_count": 60,
   "id": "34d01ad1",
   "metadata": {},
   "outputs": [
    {
     "data": {
      "text/plain": [
       "[0]"
      ]
     },
     "execution_count": 60,
     "metadata": {},
     "output_type": "execute_result"
    }
   ],
   "source": [
    "[0]"
   ]
  },
  {
   "cell_type": "code",
   "execution_count": 61,
   "id": "ef8860f3",
   "metadata": {},
   "outputs": [
    {
     "data": {
      "text/plain": [
       "4.583333333333333"
      ]
     },
     "execution_count": 61,
     "metadata": {},
     "output_type": "execute_result"
    }
   ],
   "source": [
    "sun.mean()"
   ]
  },
  {
   "cell_type": "code",
   "execution_count": 62,
   "id": "6432eca2",
   "metadata": {},
   "outputs": [
    {
     "data": {
      "text/plain": [
       "9"
      ]
     },
     "execution_count": 62,
     "metadata": {},
     "output_type": "execute_result"
    }
   ],
   "source": [
    "sun.argmax()"
   ]
  },
  {
   "cell_type": "code",
   "execution_count": 63,
   "id": "eeed37fb",
   "metadata": {},
   "outputs": [
    {
     "data": {
      "text/plain": [
       "10"
      ]
     },
     "execution_count": 63,
     "metadata": {},
     "output_type": "execute_result"
    }
   ],
   "source": [
    "sun.argmin()"
   ]
  },
  {
   "cell_type": "code",
   "execution_count": 64,
   "id": "e9119461",
   "metadata": {},
   "outputs": [
    {
     "data": {
      "text/plain": [
       "55"
      ]
     },
     "execution_count": 64,
     "metadata": {},
     "output_type": "execute_result"
    }
   ],
   "source": [
    "sun.sum()"
   ]
  },
  {
   "cell_type": "code",
   "execution_count": 66,
   "id": "c3895bea",
   "metadata": {},
   "outputs": [
    {
     "data": {
      "text/plain": [
       "array([19, 14, 22])"
      ]
     },
     "execution_count": 66,
     "metadata": {},
     "output_type": "execute_result"
    }
   ],
   "source": [
    "b = 0\n",
    "for x in sun:\n",
    "    b = b + x\n",
    "    \n",
    "b"
   ]
  },
  {
   "cell_type": "code",
   "execution_count": 67,
   "id": "8ad3fd98",
   "metadata": {},
   "outputs": [
    {
     "data": {
      "text/plain": [
       "array([[1., 1., 1., 1.],\n",
       "       [1., 1., 1., 1.],\n",
       "       [1., 1., 1., 1.]])"
      ]
     },
     "execution_count": 67,
     "metadata": {},
     "output_type": "execute_result"
    }
   ],
   "source": [
    "np.ones([3,4])"
   ]
  },
  {
   "cell_type": "code",
   "execution_count": 70,
   "id": "1e4ca7b2",
   "metadata": {},
   "outputs": [
    {
     "data": {
      "text/plain": [
       "array([[1., 0., 0.],\n",
       "       [0., 1., 0.],\n",
       "       [0., 0., 1.]])"
      ]
     },
     "execution_count": 70,
     "metadata": {},
     "output_type": "execute_result"
    }
   ],
   "source": [
    "np.eye(3)"
   ]
  },
  {
   "cell_type": "code",
   "execution_count": 71,
   "id": "78b85ca1",
   "metadata": {},
   "outputs": [
    {
     "data": {
      "text/plain": [
       "array([2, 4, 7])"
      ]
     },
     "execution_count": 71,
     "metadata": {},
     "output_type": "execute_result"
    }
   ],
   "source": [
    "x = np.array([2,4,7])\n",
    "x"
   ]
  },
  {
   "cell_type": "code",
   "execution_count": 72,
   "id": "a9f892e0",
   "metadata": {},
   "outputs": [
    {
     "data": {
      "text/plain": [
       "array([3, 8, 9])"
      ]
     },
     "execution_count": 72,
     "metadata": {},
     "output_type": "execute_result"
    }
   ],
   "source": [
    "y = np.array([3,8,9])\n",
    "y"
   ]
  },
  {
   "cell_type": "code",
   "execution_count": 73,
   "id": "7bbb653b",
   "metadata": {},
   "outputs": [
    {
     "name": "stdout",
     "output_type": "stream",
     "text": [
      "[ 5 12 16]\n"
     ]
    }
   ],
   "source": [
    "print(x + y)"
   ]
  },
  {
   "cell_type": "code",
   "execution_count": 74,
   "id": "cc44e060",
   "metadata": {},
   "outputs": [
    {
     "name": "stdout",
     "output_type": "stream",
     "text": [
      "[ 6 32 63]\n"
     ]
    }
   ],
   "source": [
    "print(x * y)"
   ]
  },
  {
   "cell_type": "code",
   "execution_count": 75,
   "id": "d1002e17",
   "metadata": {},
   "outputs": [
    {
     "name": "stdout",
     "output_type": "stream",
     "text": [
      "[2 4 7]\n"
     ]
    }
   ],
   "source": [
    "print(x % y)"
   ]
  },
  {
   "cell_type": "code",
   "execution_count": 78,
   "id": "0d90fa5a",
   "metadata": {},
   "outputs": [
    {
     "name": "stdout",
     "output_type": "stream",
     "text": [
      "[1.5        2.         1.28571429]\n"
     ]
    }
   ],
   "source": [
    "print(y / x)"
   ]
  },
  {
   "cell_type": "code",
   "execution_count": 79,
   "id": "9651b726",
   "metadata": {},
   "outputs": [
    {
     "name": "stdout",
     "output_type": "stream",
     "text": [
      "[-1 -4 -2]\n"
     ]
    }
   ],
   "source": [
    "print(x - y)"
   ]
  },
  {
   "cell_type": "code",
   "execution_count": 80,
   "id": "56933b07",
   "metadata": {},
   "outputs": [
    {
     "data": {
      "text/plain": [
       "{'name': 'ada', 'email': 'ada@gmail.com', 'age': '20'}"
      ]
     },
     "execution_count": 80,
     "metadata": {},
     "output_type": "execute_result"
    }
   ],
   "source": [
    "userDetails = {'name': 'ada',\n",
    "              'email': 'ada@gmail.com',\n",
    "              'age': '20'}\n",
    "userDetails"
   ]
  },
  {
   "cell_type": "code",
   "execution_count": 82,
   "id": "bc86e7e4",
   "metadata": {},
   "outputs": [
    {
     "data": {
      "text/plain": [
       "dict_values(['ada', 'ada@gmail.com', '20'])"
      ]
     },
     "execution_count": 82,
     "metadata": {},
     "output_type": "execute_result"
    }
   ],
   "source": [
    "userDetails.values()"
   ]
  },
  {
   "cell_type": "code",
   "execution_count": 83,
   "id": "a2a545e2",
   "metadata": {},
   "outputs": [
    {
     "data": {
      "text/plain": [
       "dict_keys(['name', 'email', 'age'])"
      ]
     },
     "execution_count": 83,
     "metadata": {},
     "output_type": "execute_result"
    }
   ],
   "source": [
    "userDetails.keys()"
   ]
  },
  {
   "cell_type": "code",
   "execution_count": 84,
   "id": "3f54e402",
   "metadata": {},
   "outputs": [
    {
     "data": {
      "text/plain": [
       "dict_items([('name', 'ada'), ('email', 'ada@gmail.com'), ('age', '20')])"
      ]
     },
     "execution_count": 84,
     "metadata": {},
     "output_type": "execute_result"
    }
   ],
   "source": [
    "userDetails.items()"
   ]
  },
  {
   "cell_type": "code",
   "execution_count": 85,
   "id": "b563ba21",
   "metadata": {},
   "outputs": [
    {
     "name": "stdout",
     "output_type": "stream",
     "text": [
      "ada\n",
      "ada@gmail.com\n",
      "20\n"
     ]
    }
   ],
   "source": [
    "for items in userDetails.values():\n",
    "    print(items)"
   ]
  },
  {
   "cell_type": "code",
   "execution_count": 86,
   "id": "9420f1cd",
   "metadata": {},
   "outputs": [
    {
     "data": {
      "text/plain": [
       "'ada'"
      ]
     },
     "execution_count": 86,
     "metadata": {},
     "output_type": "execute_result"
    }
   ],
   "source": [
    "userDetails['name']"
   ]
  },
  {
   "cell_type": "code",
   "execution_count": 88,
   "id": "3234af9a",
   "metadata": {},
   "outputs": [
    {
     "data": {
      "text/plain": [
       "'ada@gmail.com'"
      ]
     },
     "execution_count": 88,
     "metadata": {},
     "output_type": "execute_result"
    }
   ],
   "source": [
    "userDetails['email']"
   ]
  },
  {
   "cell_type": "code",
   "execution_count": 89,
   "id": "2790b992",
   "metadata": {},
   "outputs": [
    {
     "data": {
      "text/plain": [
       "array([6, 7, 8])"
      ]
     },
     "execution_count": 89,
     "metadata": {},
     "output_type": "execute_result"
    }
   ],
   "source": [
    "sun[2]"
   ]
  },
  {
   "cell_type": "code",
   "execution_count": 93,
   "id": "3def0f40",
   "metadata": {},
   "outputs": [
    {
     "data": {
      "text/plain": [
       "(array([9, 0, 4]), array([1, 2, 3]))"
      ]
     },
     "execution_count": 93,
     "metadata": {},
     "output_type": "execute_result"
    }
   ],
   "source": [
    "sun[3], sun[0]"
   ]
  },
  {
   "cell_type": "code",
   "execution_count": 94,
   "id": "2af3a0ca",
   "metadata": {},
   "outputs": [
    {
     "data": {
      "text/plain": [
       "array([[1, 2, 3],\n",
       "       [3, 5, 7],\n",
       "       [6, 7, 8],\n",
       "       [9, 0, 4]])"
      ]
     },
     "execution_count": 94,
     "metadata": {},
     "output_type": "execute_result"
    }
   ],
   "source": [
    "sun"
   ]
  },
  {
   "cell_type": "code",
   "execution_count": 95,
   "id": "1e85e6c8",
   "metadata": {},
   "outputs": [
    {
     "data": {
      "text/plain": [
       "4"
      ]
     },
     "execution_count": 95,
     "metadata": {},
     "output_type": "execute_result"
    }
   ],
   "source": [
    "sun[3, 2]"
   ]
  },
  {
   "cell_type": "code",
   "execution_count": 97,
   "id": "925758b1",
   "metadata": {},
   "outputs": [
    {
     "data": {
      "text/plain": [
       "8"
      ]
     },
     "execution_count": 97,
     "metadata": {},
     "output_type": "execute_result"
    }
   ],
   "source": [
    "sun[2, 2]"
   ]
  },
  {
   "cell_type": "code",
   "execution_count": 98,
   "id": "3720dd4b",
   "metadata": {},
   "outputs": [
    {
     "data": {
      "text/plain": [
       "2"
      ]
     },
     "execution_count": 98,
     "metadata": {},
     "output_type": "execute_result"
    }
   ],
   "source": [
    "sun[0,1]"
   ]
  },
  {
   "cell_type": "code",
   "execution_count": 99,
   "id": "22517444",
   "metadata": {},
   "outputs": [],
   "source": [
    "\n"
   ]
  },
  {
   "cell_type": "code",
   "execution_count": null,
   "id": "f7ea8556",
   "metadata": {},
   "outputs": [],
   "source": []
  },
  {
   "cell_type": "code",
   "execution_count": null,
   "id": "4243b060",
   "metadata": {},
   "outputs": [],
   "source": []
  },
  {
   "cell_type": "code",
   "execution_count": null,
   "id": "055cacea",
   "metadata": {},
   "outputs": [],
   "source": []
  }
 ],
 "metadata": {
  "kernelspec": {
   "display_name": "Python 3 (ipykernel)",
   "language": "python",
   "name": "python3"
  },
  "language_info": {
   "codemirror_mode": {
    "name": "ipython",
    "version": 3
   },
   "file_extension": ".py",
   "mimetype": "text/x-python",
   "name": "python",
   "nbconvert_exporter": "python",
   "pygments_lexer": "ipython3",
   "version": "3.9.13"
  }
 },
 "nbformat": 4,
 "nbformat_minor": 5
}

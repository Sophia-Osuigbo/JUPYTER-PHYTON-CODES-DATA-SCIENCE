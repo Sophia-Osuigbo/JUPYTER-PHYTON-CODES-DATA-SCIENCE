{
 "cells": [
  {
   "cell_type": "code",
   "execution_count": 4,
   "id": "45e50064",
   "metadata": {},
   "outputs": [
    {
     "data": {
      "text/plain": [
       "0    2\n",
       "1    4\n",
       "2    5\n",
       "dtype: int64"
      ]
     },
     "execution_count": 4,
     "metadata": {},
     "output_type": "execute_result"
    }
   ],
   "source": [
    "import pandas as pd\n",
    "\n",
    "y = [2, 4, 5]\n",
    "pd.Series(y)\n",
    "\n"
   ]
  },
  {
   "cell_type": "code",
   "execution_count": 6,
   "id": "9eeec999",
   "metadata": {},
   "outputs": [
    {
     "data": {
      "text/plain": [
       "0    3\n",
       "1    6\n",
       "2    8\n",
       "3    6\n",
       "dtype: int64"
      ]
     },
     "execution_count": 6,
     "metadata": {},
     "output_type": "execute_result"
    }
   ],
   "source": [
    "x = pd.Series([3, 6, 8, 6])\n",
    "x"
   ]
  },
  {
   "cell_type": "code",
   "execution_count": 7,
   "id": "41eefc8e",
   "metadata": {},
   "outputs": [
    {
     "data": {
      "text/plain": [
       "0     ned\n",
       "1      30\n",
       "2    None\n",
       "dtype: object"
      ]
     },
     "execution_count": 7,
     "metadata": {},
     "output_type": "execute_result"
    }
   ],
   "source": [
    "man = ['ned', 30, None]\n",
    "pd.Series(man)"
   ]
  },
  {
   "cell_type": "code",
   "execution_count": 10,
   "id": "89e50bfe",
   "metadata": {},
   "outputs": [
    {
     "data": {
      "text/plain": [
       "0    2.0\n",
       "1    3.0\n",
       "2    4.0\n",
       "3    5.0\n",
       "4    7.0\n",
       "5    9.0\n",
       "6    NaN\n",
       "dtype: float64"
      ]
     },
     "execution_count": 10,
     "metadata": {},
     "output_type": "execute_result"
    }
   ],
   "source": [
    "numbers = [2, 3, 4, 5, 7, 9, None]\n",
    "pd.Series(numbers)"
   ]
  },
  {
   "cell_type": "code",
   "execution_count": 23,
   "id": "2dd1cdb5",
   "metadata": {},
   "outputs": [
    {
     "data": {
      "text/plain": [
       "name                   tolani\n",
       "surname                  john\n",
       "age                        24\n",
       "country                   USA\n",
       "email      tolajohn@gmail.com\n",
       "dtype: object"
      ]
     },
     "execution_count": 23,
     "metadata": {},
     "output_type": "execute_result"
    }
   ],
   "source": [
    "x = {'name': 'tolani',\n",
    "    'surname': 'john',\n",
    "    'age': '24',\n",
    "    'country': 'USA',\n",
    "    'email': 'tolajohn@gmail.com'}\n",
    "s = pd.Series(x)\n",
    "s\n",
    "\n"
   ]
  },
  {
   "cell_type": "code",
   "execution_count": 29,
   "id": "b9d1ee55",
   "metadata": {},
   "outputs": [
    {
     "data": {
      "text/plain": [
       "<function dict.values>"
      ]
     },
     "execution_count": 29,
     "metadata": {},
     "output_type": "execute_result"
    }
   ],
   "source": [
    "x.values"
   ]
  },
  {
   "cell_type": "code",
   "execution_count": 32,
   "id": "eb17863e",
   "metadata": {},
   "outputs": [
    {
     "data": {
      "text/plain": [
       "20    melissa\n",
       "22       jane\n",
       "33        tom\n",
       "dtype: object"
      ]
     },
     "execution_count": 32,
     "metadata": {},
     "output_type": "execute_result"
    }
   ],
   "source": [
    "s = pd.Series(['melissa', 'jane', 'tom'], index =[20,22,33])\n",
    "s"
   ]
  },
  {
   "cell_type": "code",
   "execution_count": 33,
   "id": "90f6632d",
   "metadata": {},
   "outputs": [
    {
     "data": {
      "text/plain": [
       "nigeria     naira\n",
       "america    dollar\n",
       "india       rupee\n",
       "england    pounds\n",
       "dtype: object"
      ]
     },
     "execution_count": 33,
     "metadata": {},
     "output_type": "execute_result"
    }
   ],
   "source": [
    "#QUERRY\n",
    "\n",
    "currency = {'nigeria':  'naira',\n",
    "           'america':  'dollar',\n",
    "           'india':   'rupee',\n",
    "           'england':  'pounds',}\n",
    "\n",
    "s = pd.Series(currency)\n",
    "s"
   ]
  },
  {
   "cell_type": "code",
   "execution_count": 34,
   "id": "403ffc63",
   "metadata": {},
   "outputs": [
    {
     "data": {
      "text/plain": [
       "Index(['nigeria', 'america', 'india', 'england'], dtype='object')"
      ]
     },
     "execution_count": 34,
     "metadata": {},
     "output_type": "execute_result"
    }
   ],
   "source": [
    "s.index"
   ]
  },
  {
   "cell_type": "code",
   "execution_count": 35,
   "id": "5d6f90d4",
   "metadata": {},
   "outputs": [
    {
     "data": {
      "text/plain": [
       "array(['naira', 'dollar', 'rupee', 'pounds'], dtype=object)"
      ]
     },
     "execution_count": 35,
     "metadata": {},
     "output_type": "execute_result"
    }
   ],
   "source": [
    "s.values"
   ]
  },
  {
   "cell_type": "code",
   "execution_count": 37,
   "id": "160edf73",
   "metadata": {},
   "outputs": [
    {
     "data": {
      "text/plain": [
       "'rupee'"
      ]
     },
     "execution_count": 37,
     "metadata": {},
     "output_type": "execute_result"
    }
   ],
   "source": [
    "s.iloc[2]"
   ]
  },
  {
   "cell_type": "code",
   "execution_count": 38,
   "id": "2cefcda4",
   "metadata": {},
   "outputs": [
    {
     "data": {
      "text/plain": [
       "'naira'"
      ]
     },
     "execution_count": 38,
     "metadata": {},
     "output_type": "execute_result"
    }
   ],
   "source": [
    "s.iloc[0]"
   ]
  },
  {
   "cell_type": "code",
   "execution_count": 40,
   "id": "c494db01",
   "metadata": {},
   "outputs": [
    {
     "data": {
      "text/plain": [
       "'pounds'"
      ]
     },
     "execution_count": 40,
     "metadata": {},
     "output_type": "execute_result"
    }
   ],
   "source": [
    "s.iloc[3]"
   ]
  },
  {
   "cell_type": "code",
   "execution_count": 41,
   "id": "998fb626",
   "metadata": {},
   "outputs": [
    {
     "data": {
      "text/plain": [
       "nigeria     naira\n",
       "america    dollar\n",
       "india       rupee\n",
       "dtype: object"
      ]
     },
     "execution_count": 41,
     "metadata": {},
     "output_type": "execute_result"
    }
   ],
   "source": [
    "s.iloc[0:3]"
   ]
  },
  {
   "cell_type": "code",
   "execution_count": 42,
   "id": "030a4336",
   "metadata": {},
   "outputs": [
    {
     "data": {
      "text/plain": [
       "america    dollar\n",
       "dtype: object"
      ]
     },
     "execution_count": 42,
     "metadata": {},
     "output_type": "execute_result"
    }
   ],
   "source": [
    "s.iloc[1:2]"
   ]
  },
  {
   "cell_type": "code",
   "execution_count": 43,
   "id": "ecd86fbe",
   "metadata": {},
   "outputs": [
    {
     "data": {
      "text/plain": [
       "'naira'"
      ]
     },
     "execution_count": 43,
     "metadata": {},
     "output_type": "execute_result"
    }
   ],
   "source": [
    "s.loc['nigeria']"
   ]
  },
  {
   "cell_type": "code",
   "execution_count": 44,
   "id": "682765e2",
   "metadata": {},
   "outputs": [
    {
     "data": {
      "text/plain": [
       "'rupee'"
      ]
     },
     "execution_count": 44,
     "metadata": {},
     "output_type": "execute_result"
    }
   ],
   "source": [
    "s.loc['india']"
   ]
  },
  {
   "cell_type": "code",
   "execution_count": 47,
   "id": "4d738822",
   "metadata": {},
   "outputs": [
    {
     "data": {
      "text/plain": [
       "'pounds'"
      ]
     },
     "execution_count": 47,
     "metadata": {},
     "output_type": "execute_result"
    }
   ],
   "source": [
    "s.loc['england']"
   ]
  },
  {
   "cell_type": "code",
   "execution_count": 49,
   "id": "5c431602",
   "metadata": {},
   "outputs": [
    {
     "data": {
      "text/plain": [
       "0     100.00\n",
       "1     300.00\n",
       "2    1000.08\n",
       "3     400.00\n",
       "dtype: float64"
      ]
     },
     "execution_count": 49,
     "metadata": {},
     "output_type": "execute_result"
    }
   ],
   "source": [
    "x = pd.Series([100, 300.00, 1000.08, 400.00])\n",
    "x"
   ]
  },
  {
   "cell_type": "code",
   "execution_count": 50,
   "id": "804998ac",
   "metadata": {},
   "outputs": [
    {
     "name": "stdout",
     "output_type": "stream",
     "text": [
      "nairadollarrupeepounds\n"
     ]
    }
   ],
   "source": [
    "import numpy as np\n",
    "\n",
    "total = np.sum(s)\n",
    "print(total)"
   ]
  },
  {
   "cell_type": "code",
   "execution_count": 51,
   "id": "75372619",
   "metadata": {},
   "outputs": [
    {
     "name": "stdout",
     "output_type": "stream",
     "text": [
      "1800.08\n"
     ]
    }
   ],
   "source": [
    "total = np.sum(x)\n",
    "print(total)"
   ]
  },
  {
   "cell_type": "code",
   "execution_count": 52,
   "id": "ad27c445",
   "metadata": {},
   "outputs": [
    {
     "data": {
      "text/plain": [
       "4"
      ]
     },
     "execution_count": 52,
     "metadata": {},
     "output_type": "execute_result"
    }
   ],
   "source": [
    "len(x)"
   ]
  },
  {
   "cell_type": "code",
   "execution_count": 53,
   "id": "1d70d664",
   "metadata": {},
   "outputs": [
    {
     "data": {
      "text/plain": [
       "'rupee'"
      ]
     },
     "execution_count": 53,
     "metadata": {},
     "output_type": "execute_result"
    }
   ],
   "source": [
    "s.loc['india']"
   ]
  },
  {
   "cell_type": "code",
   "execution_count": 54,
   "id": "062f60f6",
   "metadata": {},
   "outputs": [
    {
     "data": {
      "text/plain": [
       "nigeria      naira\n",
       "america     dollar\n",
       "india        rupee\n",
       "england     pounds\n",
       "rihanna    beyonce\n",
       "dtype: object"
      ]
     },
     "execution_count": 54,
     "metadata": {},
     "output_type": "execute_result"
    }
   ],
   "source": [
    "s.loc['rihanna'] = 'beyonce'\n",
    "s"
   ]
  },
  {
   "cell_type": "code",
   "execution_count": 55,
   "id": "575760ff",
   "metadata": {},
   "outputs": [
    {
     "data": {
      "text/plain": [
       "nigeria      naira\n",
       "america     dollar\n",
       "india        rupee\n",
       "england     pounds\n",
       "rihanna    beyonce\n",
       "dtype: object"
      ]
     },
     "execution_count": 55,
     "metadata": {},
     "output_type": "execute_result"
    }
   ],
   "source": [
    "s"
   ]
  },
  {
   "cell_type": "code",
   "execution_count": 56,
   "id": "8d17b467",
   "metadata": {},
   "outputs": [
    {
     "data": {
      "text/plain": [
       "nigeria      naira\n",
       "america     dollar\n",
       "india        rupee\n",
       "england     pounds\n",
       "rihanna    beyonce\n",
       "ghana        cedis\n",
       "dtype: object"
      ]
     },
     "execution_count": 56,
     "metadata": {},
     "output_type": "execute_result"
    }
   ],
   "source": [
    "s.loc['ghana'] = 'cedis'\n",
    "s"
   ]
  },
  {
   "cell_type": "code",
   "execution_count": 57,
   "id": "922f0ae4",
   "metadata": {},
   "outputs": [
    {
     "data": {
      "text/plain": [
       "nigeria      naira\n",
       "america     dollar\n",
       "india        rupee\n",
       "england     pounds\n",
       "rihanna    beyonce\n",
       "ghana        cedis\n",
       "dtype: object"
      ]
     },
     "execution_count": 57,
     "metadata": {},
     "output_type": "execute_result"
    }
   ],
   "source": [
    "s"
   ]
  },
  {
   "cell_type": "code",
   "execution_count": 58,
   "id": "c5e5b0e1",
   "metadata": {},
   "outputs": [
    {
     "data": {
      "text/plain": [
       "'beyonce'"
      ]
     },
     "execution_count": 58,
     "metadata": {},
     "output_type": "execute_result"
    }
   ],
   "source": [
    "s.loc['rihanna']"
   ]
  },
  {
   "cell_type": "code",
   "execution_count": 61,
   "id": "15b7fcee",
   "metadata": {},
   "outputs": [
    {
     "name": "stdout",
     "output_type": "stream",
     "text": [
      "nairadollarrupeepoundsbeyoncecedis\n"
     ]
    }
   ],
   "source": [
    "total = np.sum(s)\n",
    "print(total)"
   ]
  },
  {
   "cell_type": "code",
   "execution_count": 64,
   "id": "aba63c68",
   "metadata": {},
   "outputs": [
    {
     "data": {
      "text/html": [
       "<div>\n",
       "<style scoped>\n",
       "    .dataframe tbody tr th:only-of-type {\n",
       "        vertical-align: middle;\n",
       "    }\n",
       "\n",
       "    .dataframe tbody tr th {\n",
       "        vertical-align: top;\n",
       "    }\n",
       "\n",
       "    .dataframe thead th {\n",
       "        text-align: right;\n",
       "    }\n",
       "</style>\n",
       "<table border=\"1\" class=\"dataframe\">\n",
       "  <thead>\n",
       "    <tr style=\"text-align: right;\">\n",
       "      <th></th>\n",
       "      <th>name</th>\n",
       "      <th>surname</th>\n",
       "      <th>age</th>\n",
       "      <th>country</th>\n",
       "      <th>email</th>\n",
       "    </tr>\n",
       "  </thead>\n",
       "  <tbody>\n",
       "    <tr>\n",
       "      <th>details1</th>\n",
       "      <td>tolani</td>\n",
       "      <td>john</td>\n",
       "      <td>24</td>\n",
       "      <td>USA</td>\n",
       "      <td>tolajohn@gmail.com</td>\n",
       "    </tr>\n",
       "    <tr>\n",
       "      <th>details2</th>\n",
       "      <td>princess</td>\n",
       "      <td>eke</td>\n",
       "      <td>25</td>\n",
       "      <td>canada</td>\n",
       "      <td>ekep@gmail.com</td>\n",
       "    </tr>\n",
       "    <tr>\n",
       "      <th>details3</th>\n",
       "      <td>nengi</td>\n",
       "      <td>hampson</td>\n",
       "      <td>28</td>\n",
       "      <td>brazil</td>\n",
       "      <td>nene@gmail.com</td>\n",
       "    </tr>\n",
       "    <tr>\n",
       "      <th>details4</th>\n",
       "      <td>ini</td>\n",
       "      <td>edo</td>\n",
       "      <td>32</td>\n",
       "      <td>nigeria</td>\n",
       "      <td>iniedo90@gmail.com</td>\n",
       "    </tr>\n",
       "  </tbody>\n",
       "</table>\n",
       "</div>"
      ],
      "text/plain": [
       "              name  surname age  country               email\n",
       "details1    tolani     john  24      USA  tolajohn@gmail.com\n",
       "details2  princess      eke  25   canada      ekep@gmail.com\n",
       "details3     nengi  hampson  28   brazil      nene@gmail.com\n",
       "details4       ini      edo  32  nigeria  iniedo90@gmail.com"
      ]
     },
     "execution_count": 64,
     "metadata": {},
     "output_type": "execute_result"
    }
   ],
   "source": [
    "info_1 = {'name': 'tolani',\n",
    "    'surname': 'john',\n",
    "    'age': '24',\n",
    "    'country': 'USA',\n",
    "    'email': 'tolajohn@gmail.com'}\n",
    "\n",
    "info_2 = {'name': 'princess',\n",
    "    'surname': 'eke',\n",
    "    'age': '25',\n",
    "    'country': 'canada',\n",
    "    'email': 'ekep@gmail.com'}\n",
    "\n",
    "info_3 = {'name': 'nengi',\n",
    "    'surname': 'hampson',\n",
    "    'age': '28',\n",
    "    'country': 'brazil',\n",
    "    'email': 'nene@gmail.com'}\n",
    "\n",
    "info_4 = {'name': 'ini',\n",
    "    'surname': 'edo',\n",
    "    'age': '32',\n",
    "    'country': 'nigeria',\n",
    "    'email': 'iniedo90@gmail.com'}\n",
    "\n",
    "df = pd.DataFrame([info_1, info_2, info_3, info_4], index =['details1', 'details2', 'details3', 'details4',])\n",
    "df"
   ]
  },
  {
   "cell_type": "code",
   "execution_count": 65,
   "id": "9aedf6c1",
   "metadata": {},
   "outputs": [
    {
     "data": {
      "text/plain": [
       "name                   tolani\n",
       "surname                  john\n",
       "age                        24\n",
       "country                   USA\n",
       "email      tolajohn@gmail.com\n",
       "Name: details1, dtype: object"
      ]
     },
     "execution_count": 65,
     "metadata": {},
     "output_type": "execute_result"
    }
   ],
   "source": [
    "df.loc['details1']"
   ]
  },
  {
   "cell_type": "code",
   "execution_count": 66,
   "id": "dc90a6cb",
   "metadata": {},
   "outputs": [
    {
     "data": {
      "text/plain": [
       "name                      ini\n",
       "surname                   edo\n",
       "age                        32\n",
       "country               nigeria\n",
       "email      iniedo90@gmail.com\n",
       "Name: details4, dtype: object"
      ]
     },
     "execution_count": 66,
     "metadata": {},
     "output_type": "execute_result"
    }
   ],
   "source": [
    "df.loc['details4']"
   ]
  },
  {
   "cell_type": "code",
   "execution_count": 67,
   "id": "128c4e91",
   "metadata": {},
   "outputs": [
    {
     "data": {
      "text/plain": [
       "'25'"
      ]
     },
     "execution_count": 67,
     "metadata": {},
     "output_type": "execute_result"
    }
   ],
   "source": [
    "df.loc['details2', 'age']"
   ]
  },
  {
   "cell_type": "code",
   "execution_count": 68,
   "id": "dae628a2",
   "metadata": {},
   "outputs": [
    {
     "data": {
      "text/plain": [
       "'nengi'"
      ]
     },
     "execution_count": 68,
     "metadata": {},
     "output_type": "execute_result"
    }
   ],
   "source": [
    "df.loc['details3', 'name']"
   ]
  },
  {
   "cell_type": "code",
   "execution_count": 69,
   "id": "e3f872c4",
   "metadata": {},
   "outputs": [
    {
     "data": {
      "text/html": [
       "<div>\n",
       "<style scoped>\n",
       "    .dataframe tbody tr th:only-of-type {\n",
       "        vertical-align: middle;\n",
       "    }\n",
       "\n",
       "    .dataframe tbody tr th {\n",
       "        vertical-align: top;\n",
       "    }\n",
       "\n",
       "    .dataframe thead th {\n",
       "        text-align: right;\n",
       "    }\n",
       "</style>\n",
       "<table border=\"1\" class=\"dataframe\">\n",
       "  <thead>\n",
       "    <tr style=\"text-align: right;\">\n",
       "      <th></th>\n",
       "      <th>details1</th>\n",
       "      <th>details2</th>\n",
       "      <th>details3</th>\n",
       "      <th>details4</th>\n",
       "    </tr>\n",
       "  </thead>\n",
       "  <tbody>\n",
       "    <tr>\n",
       "      <th>name</th>\n",
       "      <td>tolani</td>\n",
       "      <td>princess</td>\n",
       "      <td>nengi</td>\n",
       "      <td>ini</td>\n",
       "    </tr>\n",
       "    <tr>\n",
       "      <th>surname</th>\n",
       "      <td>john</td>\n",
       "      <td>eke</td>\n",
       "      <td>hampson</td>\n",
       "      <td>edo</td>\n",
       "    </tr>\n",
       "    <tr>\n",
       "      <th>age</th>\n",
       "      <td>24</td>\n",
       "      <td>25</td>\n",
       "      <td>28</td>\n",
       "      <td>32</td>\n",
       "    </tr>\n",
       "    <tr>\n",
       "      <th>country</th>\n",
       "      <td>USA</td>\n",
       "      <td>canada</td>\n",
       "      <td>brazil</td>\n",
       "      <td>nigeria</td>\n",
       "    </tr>\n",
       "    <tr>\n",
       "      <th>email</th>\n",
       "      <td>tolajohn@gmail.com</td>\n",
       "      <td>ekep@gmail.com</td>\n",
       "      <td>nene@gmail.com</td>\n",
       "      <td>iniedo90@gmail.com</td>\n",
       "    </tr>\n",
       "  </tbody>\n",
       "</table>\n",
       "</div>"
      ],
      "text/plain": [
       "                   details1        details2        details3  \\\n",
       "name                 tolani        princess           nengi   \n",
       "surname                john             eke         hampson   \n",
       "age                      24              25              28   \n",
       "country                 USA          canada          brazil   \n",
       "email    tolajohn@gmail.com  ekep@gmail.com  nene@gmail.com   \n",
       "\n",
       "                   details4  \n",
       "name                    ini  \n",
       "surname                 edo  \n",
       "age                      32  \n",
       "country             nigeria  \n",
       "email    iniedo90@gmail.com  "
      ]
     },
     "execution_count": 69,
     "metadata": {},
     "output_type": "execute_result"
    }
   ],
   "source": [
    "df.T"
   ]
  },
  {
   "cell_type": "code",
   "execution_count": 70,
   "id": "aa1c7ba8",
   "metadata": {},
   "outputs": [
    {
     "data": {
      "text/html": [
       "<div>\n",
       "<style scoped>\n",
       "    .dataframe tbody tr th:only-of-type {\n",
       "        vertical-align: middle;\n",
       "    }\n",
       "\n",
       "    .dataframe tbody tr th {\n",
       "        vertical-align: top;\n",
       "    }\n",
       "\n",
       "    .dataframe thead th {\n",
       "        text-align: right;\n",
       "    }\n",
       "</style>\n",
       "<table border=\"1\" class=\"dataframe\">\n",
       "  <thead>\n",
       "    <tr style=\"text-align: right;\">\n",
       "      <th></th>\n",
       "      <th>details1</th>\n",
       "      <th>details2</th>\n",
       "      <th>details3</th>\n",
       "      <th>details4</th>\n",
       "    </tr>\n",
       "  </thead>\n",
       "  <tbody>\n",
       "    <tr>\n",
       "      <th>name</th>\n",
       "      <td>tolani</td>\n",
       "      <td>princess</td>\n",
       "      <td>nengi</td>\n",
       "      <td>ini</td>\n",
       "    </tr>\n",
       "    <tr>\n",
       "      <th>surname</th>\n",
       "      <td>john</td>\n",
       "      <td>eke</td>\n",
       "      <td>hampson</td>\n",
       "      <td>edo</td>\n",
       "    </tr>\n",
       "    <tr>\n",
       "      <th>age</th>\n",
       "      <td>24</td>\n",
       "      <td>25</td>\n",
       "      <td>28</td>\n",
       "      <td>32</td>\n",
       "    </tr>\n",
       "    <tr>\n",
       "      <th>country</th>\n",
       "      <td>USA</td>\n",
       "      <td>canada</td>\n",
       "      <td>brazil</td>\n",
       "      <td>nigeria</td>\n",
       "    </tr>\n",
       "    <tr>\n",
       "      <th>email</th>\n",
       "      <td>tolajohn@gmail.com</td>\n",
       "      <td>ekep@gmail.com</td>\n",
       "      <td>nene@gmail.com</td>\n",
       "      <td>iniedo90@gmail.com</td>\n",
       "    </tr>\n",
       "  </tbody>\n",
       "</table>\n",
       "</div>"
      ],
      "text/plain": [
       "                   details1        details2        details3  \\\n",
       "name                 tolani        princess           nengi   \n",
       "surname                john             eke         hampson   \n",
       "age                      24              25              28   \n",
       "country                 USA          canada          brazil   \n",
       "email    tolajohn@gmail.com  ekep@gmail.com  nene@gmail.com   \n",
       "\n",
       "                   details4  \n",
       "name                    ini  \n",
       "surname                 edo  \n",
       "age                      32  \n",
       "country             nigeria  \n",
       "email    iniedo90@gmail.com  "
      ]
     },
     "execution_count": 70,
     "metadata": {},
     "output_type": "execute_result"
    }
   ],
   "source": [
    "df.T"
   ]
  },
  {
   "cell_type": "code",
   "execution_count": 72,
   "id": "7bbbd368",
   "metadata": {},
   "outputs": [
    {
     "data": {
      "text/plain": [
       "'iniedo90@gmail.com'"
      ]
     },
     "execution_count": 72,
     "metadata": {},
     "output_type": "execute_result"
    }
   ],
   "source": [
    "df.loc['details4', 'email']"
   ]
  },
  {
   "cell_type": "code",
   "execution_count": 73,
   "id": "d8cd23a3",
   "metadata": {},
   "outputs": [
    {
     "data": {
      "text/plain": [
       "details1    tolajohn@gmail.com\n",
       "details2        ekep@gmail.com\n",
       "details3        nene@gmail.com\n",
       "details4    iniedo90@gmail.com\n",
       "Name: email, dtype: object"
      ]
     },
     "execution_count": 73,
     "metadata": {},
     "output_type": "execute_result"
    }
   ],
   "source": [
    "df.T.loc['email']"
   ]
  },
  {
   "cell_type": "code",
   "execution_count": 74,
   "id": "e4957400",
   "metadata": {},
   "outputs": [
    {
     "data": {
      "text/plain": [
       "details1       john\n",
       "details2        eke\n",
       "details3    hampson\n",
       "details4        edo\n",
       "Name: surname, dtype: object"
      ]
     },
     "execution_count": 74,
     "metadata": {},
     "output_type": "execute_result"
    }
   ],
   "source": [
    "df.T.loc['surname']"
   ]
  },
  {
   "cell_type": "code",
   "execution_count": 75,
   "id": "352a72d9",
   "metadata": {},
   "outputs": [
    {
     "data": {
      "text/plain": [
       "details1        USA\n",
       "details2     canada\n",
       "details3     brazil\n",
       "details4    nigeria\n",
       "Name: country, dtype: object"
      ]
     },
     "execution_count": 75,
     "metadata": {},
     "output_type": "execute_result"
    }
   ],
   "source": [
    "df.T.loc['country']"
   ]
  },
  {
   "cell_type": "code",
   "execution_count": 76,
   "id": "5b81d5bb",
   "metadata": {},
   "outputs": [
    {
     "data": {
      "text/html": [
       "<div>\n",
       "<style scoped>\n",
       "    .dataframe tbody tr th:only-of-type {\n",
       "        vertical-align: middle;\n",
       "    }\n",
       "\n",
       "    .dataframe tbody tr th {\n",
       "        vertical-align: top;\n",
       "    }\n",
       "\n",
       "    .dataframe thead th {\n",
       "        text-align: right;\n",
       "    }\n",
       "</style>\n",
       "<table border=\"1\" class=\"dataframe\">\n",
       "  <thead>\n",
       "    <tr style=\"text-align: right;\">\n",
       "      <th></th>\n",
       "      <th>name</th>\n",
       "      <th>age</th>\n",
       "      <th>email</th>\n",
       "    </tr>\n",
       "  </thead>\n",
       "  <tbody>\n",
       "    <tr>\n",
       "      <th>details1</th>\n",
       "      <td>tolani</td>\n",
       "      <td>24</td>\n",
       "      <td>tolajohn@gmail.com</td>\n",
       "    </tr>\n",
       "    <tr>\n",
       "      <th>details2</th>\n",
       "      <td>princess</td>\n",
       "      <td>25</td>\n",
       "      <td>ekep@gmail.com</td>\n",
       "    </tr>\n",
       "    <tr>\n",
       "      <th>details3</th>\n",
       "      <td>nengi</td>\n",
       "      <td>28</td>\n",
       "      <td>nene@gmail.com</td>\n",
       "    </tr>\n",
       "    <tr>\n",
       "      <th>details4</th>\n",
       "      <td>ini</td>\n",
       "      <td>32</td>\n",
       "      <td>iniedo90@gmail.com</td>\n",
       "    </tr>\n",
       "  </tbody>\n",
       "</table>\n",
       "</div>"
      ],
      "text/plain": [
       "              name age               email\n",
       "details1    tolani  24  tolajohn@gmail.com\n",
       "details2  princess  25      ekep@gmail.com\n",
       "details3     nengi  28      nene@gmail.com\n",
       "details4       ini  32  iniedo90@gmail.com"
      ]
     },
     "execution_count": 76,
     "metadata": {},
     "output_type": "execute_result"
    }
   ],
   "source": [
    "df.loc[:,['name', 'age', 'email']]"
   ]
  },
  {
   "cell_type": "code",
   "execution_count": 77,
   "id": "a8c75c85",
   "metadata": {},
   "outputs": [
    {
     "data": {
      "text/html": [
       "<div>\n",
       "<style scoped>\n",
       "    .dataframe tbody tr th:only-of-type {\n",
       "        vertical-align: middle;\n",
       "    }\n",
       "\n",
       "    .dataframe tbody tr th {\n",
       "        vertical-align: top;\n",
       "    }\n",
       "\n",
       "    .dataframe thead th {\n",
       "        text-align: right;\n",
       "    }\n",
       "</style>\n",
       "<table border=\"1\" class=\"dataframe\">\n",
       "  <thead>\n",
       "    <tr style=\"text-align: right;\">\n",
       "      <th></th>\n",
       "      <th>name</th>\n",
       "      <th>surname</th>\n",
       "      <th>age</th>\n",
       "      <th>country</th>\n",
       "      <th>email</th>\n",
       "    </tr>\n",
       "  </thead>\n",
       "  <tbody>\n",
       "    <tr>\n",
       "      <th>details1</th>\n",
       "      <td>tolani</td>\n",
       "      <td>john</td>\n",
       "      <td>24</td>\n",
       "      <td>USA</td>\n",
       "      <td>tolajohn@gmail.com</td>\n",
       "    </tr>\n",
       "    <tr>\n",
       "      <th>details3</th>\n",
       "      <td>nengi</td>\n",
       "      <td>hampson</td>\n",
       "      <td>28</td>\n",
       "      <td>brazil</td>\n",
       "      <td>nene@gmail.com</td>\n",
       "    </tr>\n",
       "    <tr>\n",
       "      <th>details4</th>\n",
       "      <td>ini</td>\n",
       "      <td>edo</td>\n",
       "      <td>32</td>\n",
       "      <td>nigeria</td>\n",
       "      <td>iniedo90@gmail.com</td>\n",
       "    </tr>\n",
       "  </tbody>\n",
       "</table>\n",
       "</div>"
      ],
      "text/plain": [
       "            name  surname age  country               email\n",
       "details1  tolani     john  24      USA  tolajohn@gmail.com\n",
       "details3   nengi  hampson  28   brazil      nene@gmail.com\n",
       "details4     ini      edo  32  nigeria  iniedo90@gmail.com"
      ]
     },
     "execution_count": 77,
     "metadata": {},
     "output_type": "execute_result"
    }
   ],
   "source": [
    "df.drop(['details2'])"
   ]
  },
  {
   "cell_type": "code",
   "execution_count": 79,
   "id": "04b7c9ed",
   "metadata": {},
   "outputs": [
    {
     "data": {
      "text/html": [
       "<div>\n",
       "<style scoped>\n",
       "    .dataframe tbody tr th:only-of-type {\n",
       "        vertical-align: middle;\n",
       "    }\n",
       "\n",
       "    .dataframe tbody tr th {\n",
       "        vertical-align: top;\n",
       "    }\n",
       "\n",
       "    .dataframe thead th {\n",
       "        text-align: right;\n",
       "    }\n",
       "</style>\n",
       "<table border=\"1\" class=\"dataframe\">\n",
       "  <thead>\n",
       "    <tr style=\"text-align: right;\">\n",
       "      <th></th>\n",
       "      <th>name</th>\n",
       "      <th>age</th>\n",
       "      <th>country</th>\n",
       "      <th>email</th>\n",
       "    </tr>\n",
       "  </thead>\n",
       "  <tbody>\n",
       "    <tr>\n",
       "      <th>details1</th>\n",
       "      <td>tolani</td>\n",
       "      <td>24</td>\n",
       "      <td>USA</td>\n",
       "      <td>tolajohn@gmail.com</td>\n",
       "    </tr>\n",
       "    <tr>\n",
       "      <th>details2</th>\n",
       "      <td>princess</td>\n",
       "      <td>25</td>\n",
       "      <td>canada</td>\n",
       "      <td>ekep@gmail.com</td>\n",
       "    </tr>\n",
       "    <tr>\n",
       "      <th>details3</th>\n",
       "      <td>nengi</td>\n",
       "      <td>28</td>\n",
       "      <td>brazil</td>\n",
       "      <td>nene@gmail.com</td>\n",
       "    </tr>\n",
       "    <tr>\n",
       "      <th>details4</th>\n",
       "      <td>ini</td>\n",
       "      <td>32</td>\n",
       "      <td>nigeria</td>\n",
       "      <td>iniedo90@gmail.com</td>\n",
       "    </tr>\n",
       "  </tbody>\n",
       "</table>\n",
       "</div>"
      ],
      "text/plain": [
       "              name age  country               email\n",
       "details1    tolani  24      USA  tolajohn@gmail.com\n",
       "details2  princess  25   canada      ekep@gmail.com\n",
       "details3     nengi  28   brazil      nene@gmail.com\n",
       "details4       ini  32  nigeria  iniedo90@gmail.com"
      ]
     },
     "execution_count": 79,
     "metadata": {},
     "output_type": "execute_result"
    }
   ],
   "source": [
    "df.drop(['surname'], axis = 1)"
   ]
  },
  {
   "cell_type": "code",
   "execution_count": 80,
   "id": "82ff60f1",
   "metadata": {},
   "outputs": [
    {
     "data": {
      "text/html": [
       "<div>\n",
       "<style scoped>\n",
       "    .dataframe tbody tr th:only-of-type {\n",
       "        vertical-align: middle;\n",
       "    }\n",
       "\n",
       "    .dataframe tbody tr th {\n",
       "        vertical-align: top;\n",
       "    }\n",
       "\n",
       "    .dataframe thead th {\n",
       "        text-align: right;\n",
       "    }\n",
       "</style>\n",
       "<table border=\"1\" class=\"dataframe\">\n",
       "  <thead>\n",
       "    <tr style=\"text-align: right;\">\n",
       "      <th></th>\n",
       "      <th>name</th>\n",
       "      <th>surname</th>\n",
       "      <th>age</th>\n",
       "      <th>country</th>\n",
       "    </tr>\n",
       "  </thead>\n",
       "  <tbody>\n",
       "    <tr>\n",
       "      <th>details1</th>\n",
       "      <td>tolani</td>\n",
       "      <td>john</td>\n",
       "      <td>24</td>\n",
       "      <td>USA</td>\n",
       "    </tr>\n",
       "    <tr>\n",
       "      <th>details2</th>\n",
       "      <td>princess</td>\n",
       "      <td>eke</td>\n",
       "      <td>25</td>\n",
       "      <td>canada</td>\n",
       "    </tr>\n",
       "    <tr>\n",
       "      <th>details3</th>\n",
       "      <td>nengi</td>\n",
       "      <td>hampson</td>\n",
       "      <td>28</td>\n",
       "      <td>brazil</td>\n",
       "    </tr>\n",
       "    <tr>\n",
       "      <th>details4</th>\n",
       "      <td>ini</td>\n",
       "      <td>edo</td>\n",
       "      <td>32</td>\n",
       "      <td>nigeria</td>\n",
       "    </tr>\n",
       "  </tbody>\n",
       "</table>\n",
       "</div>"
      ],
      "text/plain": [
       "              name  surname age  country\n",
       "details1    tolani     john  24      USA\n",
       "details2  princess      eke  25   canada\n",
       "details3     nengi  hampson  28   brazil\n",
       "details4       ini      edo  32  nigeria"
      ]
     },
     "execution_count": 80,
     "metadata": {},
     "output_type": "execute_result"
    }
   ],
   "source": [
    "df.drop(['email'], axis = 1)"
   ]
  },
  {
   "cell_type": "code",
   "execution_count": 81,
   "id": "b9cd7198",
   "metadata": {},
   "outputs": [
    {
     "data": {
      "text/html": [
       "<div>\n",
       "<style scoped>\n",
       "    .dataframe tbody tr th:only-of-type {\n",
       "        vertical-align: middle;\n",
       "    }\n",
       "\n",
       "    .dataframe tbody tr th {\n",
       "        vertical-align: top;\n",
       "    }\n",
       "\n",
       "    .dataframe thead th {\n",
       "        text-align: right;\n",
       "    }\n",
       "</style>\n",
       "<table border=\"1\" class=\"dataframe\">\n",
       "  <thead>\n",
       "    <tr style=\"text-align: right;\">\n",
       "      <th></th>\n",
       "      <th>name</th>\n",
       "      <th>surname</th>\n",
       "      <th>country</th>\n",
       "      <th>email</th>\n",
       "    </tr>\n",
       "  </thead>\n",
       "  <tbody>\n",
       "    <tr>\n",
       "      <th>details1</th>\n",
       "      <td>tolani</td>\n",
       "      <td>john</td>\n",
       "      <td>USA</td>\n",
       "      <td>tolajohn@gmail.com</td>\n",
       "    </tr>\n",
       "    <tr>\n",
       "      <th>details2</th>\n",
       "      <td>princess</td>\n",
       "      <td>eke</td>\n",
       "      <td>canada</td>\n",
       "      <td>ekep@gmail.com</td>\n",
       "    </tr>\n",
       "    <tr>\n",
       "      <th>details3</th>\n",
       "      <td>nengi</td>\n",
       "      <td>hampson</td>\n",
       "      <td>brazil</td>\n",
       "      <td>nene@gmail.com</td>\n",
       "    </tr>\n",
       "    <tr>\n",
       "      <th>details4</th>\n",
       "      <td>ini</td>\n",
       "      <td>edo</td>\n",
       "      <td>nigeria</td>\n",
       "      <td>iniedo90@gmail.com</td>\n",
       "    </tr>\n",
       "  </tbody>\n",
       "</table>\n",
       "</div>"
      ],
      "text/plain": [
       "              name  surname  country               email\n",
       "details1    tolani     john      USA  tolajohn@gmail.com\n",
       "details2  princess      eke   canada      ekep@gmail.com\n",
       "details3     nengi  hampson   brazil      nene@gmail.com\n",
       "details4       ini      edo  nigeria  iniedo90@gmail.com"
      ]
     },
     "execution_count": 81,
     "metadata": {},
     "output_type": "execute_result"
    }
   ],
   "source": [
    "df.drop(['age'], axis = 1)"
   ]
  },
  {
   "cell_type": "code",
   "execution_count": 83,
   "id": "cac8e523",
   "metadata": {},
   "outputs": [
    {
     "data": {
      "text/html": [
       "<div>\n",
       "<style scoped>\n",
       "    .dataframe tbody tr th:only-of-type {\n",
       "        vertical-align: middle;\n",
       "    }\n",
       "\n",
       "    .dataframe tbody tr th {\n",
       "        vertical-align: top;\n",
       "    }\n",
       "\n",
       "    .dataframe thead th {\n",
       "        text-align: right;\n",
       "    }\n",
       "</style>\n",
       "<table border=\"1\" class=\"dataframe\">\n",
       "  <thead>\n",
       "    <tr style=\"text-align: right;\">\n",
       "      <th></th>\n",
       "      <th>name</th>\n",
       "      <th>surname</th>\n",
       "      <th>age</th>\n",
       "      <th>email</th>\n",
       "    </tr>\n",
       "  </thead>\n",
       "  <tbody>\n",
       "    <tr>\n",
       "      <th>details1</th>\n",
       "      <td>tolani</td>\n",
       "      <td>john</td>\n",
       "      <td>24</td>\n",
       "      <td>tolajohn@gmail.com</td>\n",
       "    </tr>\n",
       "    <tr>\n",
       "      <th>details2</th>\n",
       "      <td>princess</td>\n",
       "      <td>eke</td>\n",
       "      <td>25</td>\n",
       "      <td>ekep@gmail.com</td>\n",
       "    </tr>\n",
       "    <tr>\n",
       "      <th>details3</th>\n",
       "      <td>nengi</td>\n",
       "      <td>hampson</td>\n",
       "      <td>28</td>\n",
       "      <td>nene@gmail.com</td>\n",
       "    </tr>\n",
       "    <tr>\n",
       "      <th>details4</th>\n",
       "      <td>ini</td>\n",
       "      <td>edo</td>\n",
       "      <td>32</td>\n",
       "      <td>iniedo90@gmail.com</td>\n",
       "    </tr>\n",
       "  </tbody>\n",
       "</table>\n",
       "</div>"
      ],
      "text/plain": [
       "              name  surname age               email\n",
       "details1    tolani     john  24  tolajohn@gmail.com\n",
       "details2  princess      eke  25      ekep@gmail.com\n",
       "details3     nengi  hampson  28      nene@gmail.com\n",
       "details4       ini      edo  32  iniedo90@gmail.com"
      ]
     },
     "execution_count": 83,
     "metadata": {},
     "output_type": "execute_result"
    }
   ],
   "source": [
    "df.drop(['country'], axis = 1)"
   ]
  },
  {
   "cell_type": "code",
   "execution_count": 84,
   "id": "807462e8",
   "metadata": {},
   "outputs": [
    {
     "data": {
      "text/html": [
       "<div>\n",
       "<style scoped>\n",
       "    .dataframe tbody tr th:only-of-type {\n",
       "        vertical-align: middle;\n",
       "    }\n",
       "\n",
       "    .dataframe tbody tr th {\n",
       "        vertical-align: top;\n",
       "    }\n",
       "\n",
       "    .dataframe thead th {\n",
       "        text-align: right;\n",
       "    }\n",
       "</style>\n",
       "<table border=\"1\" class=\"dataframe\">\n",
       "  <thead>\n",
       "    <tr style=\"text-align: right;\">\n",
       "      <th></th>\n",
       "      <th>name</th>\n",
       "      <th>surname</th>\n",
       "      <th>age</th>\n",
       "      <th>country</th>\n",
       "      <th>email</th>\n",
       "    </tr>\n",
       "  </thead>\n",
       "  <tbody>\n",
       "    <tr>\n",
       "      <th>details1</th>\n",
       "      <td>tolani</td>\n",
       "      <td>john</td>\n",
       "      <td>24</td>\n",
       "      <td>USA</td>\n",
       "      <td>tolajohn@gmail.com</td>\n",
       "    </tr>\n",
       "    <tr>\n",
       "      <th>details2</th>\n",
       "      <td>princess</td>\n",
       "      <td>eke</td>\n",
       "      <td>25</td>\n",
       "      <td>canada</td>\n",
       "      <td>ekep@gmail.com</td>\n",
       "    </tr>\n",
       "    <tr>\n",
       "      <th>details3</th>\n",
       "      <td>nengi</td>\n",
       "      <td>hampson</td>\n",
       "      <td>28</td>\n",
       "      <td>brazil</td>\n",
       "      <td>nene@gmail.com</td>\n",
       "    </tr>\n",
       "    <tr>\n",
       "      <th>details4</th>\n",
       "      <td>ini</td>\n",
       "      <td>edo</td>\n",
       "      <td>32</td>\n",
       "      <td>nigeria</td>\n",
       "      <td>iniedo90@gmail.com</td>\n",
       "    </tr>\n",
       "  </tbody>\n",
       "</table>\n",
       "</div>"
      ],
      "text/plain": [
       "              name  surname age  country               email\n",
       "details1    tolani     john  24      USA  tolajohn@gmail.com\n",
       "details2  princess      eke  25   canada      ekep@gmail.com\n",
       "details3     nengi  hampson  28   brazil      nene@gmail.com\n",
       "details4       ini      edo  32  nigeria  iniedo90@gmail.com"
      ]
     },
     "execution_count": 84,
     "metadata": {},
     "output_type": "execute_result"
    }
   ],
   "source": [
    "df"
   ]
  },
  {
   "cell_type": "code",
   "execution_count": 86,
   "id": "23f9bc17",
   "metadata": {},
   "outputs": [
    {
     "data": {
      "text/plain": [
       "details1       john\n",
       "details2        eke\n",
       "details3    hampson\n",
       "details4        edo\n",
       "Name: surname, dtype: object"
      ]
     },
     "execution_count": 86,
     "metadata": {},
     "output_type": "execute_result"
    }
   ],
   "source": [
    "surname = df['surname']\n",
    "surname"
   ]
  },
  {
   "cell_type": "code",
   "execution_count": null,
   "id": "23d3e7e6",
   "metadata": {},
   "outputs": [],
   "source": []
  }
 ],
 "metadata": {
  "kernelspec": {
   "display_name": "Python 3 (ipykernel)",
   "language": "python",
   "name": "python3"
  },
  "language_info": {
   "codemirror_mode": {
    "name": "ipython",
    "version": 3
   },
   "file_extension": ".py",
   "mimetype": "text/x-python",
   "name": "python",
   "nbconvert_exporter": "python",
   "pygments_lexer": "ipython3",
   "version": "3.9.13"
  }
 },
 "nbformat": 4,
 "nbformat_minor": 5
}

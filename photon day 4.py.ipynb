{
 "cells": [
  {
   "cell_type": "code",
   "execution_count": 1,
   "id": "2b96cac3",
   "metadata": {},
   "outputs": [
    {
     "data": {
      "text/plain": [
       "3"
      ]
     },
     "execution_count": 1,
     "metadata": {},
     "output_type": "execute_result"
    }
   ],
   "source": [
    "a = 3\n",
    "a"
   ]
  },
  {
   "cell_type": "code",
   "execution_count": 2,
   "id": "0596918a",
   "metadata": {},
   "outputs": [
    {
     "data": {
      "text/plain": [
       "9"
      ]
     },
     "execution_count": 2,
     "metadata": {},
     "output_type": "execute_result"
    }
   ],
   "source": [
    "a = a*3\n",
    "a"
   ]
  },
  {
   "cell_type": "code",
   "execution_count": 3,
   "id": "4693a5a7",
   "metadata": {},
   "outputs": [],
   "source": [
    "y = 10"
   ]
  },
  {
   "cell_type": "code",
   "execution_count": 4,
   "id": "c4d2dab5",
   "metadata": {},
   "outputs": [
    {
     "data": {
      "text/plain": [
       "92"
      ]
     },
     "execution_count": 4,
     "metadata": {},
     "output_type": "execute_result"
    }
   ],
   "source": [
    "a = a * 10 + 2\n",
    "a"
   ]
  },
  {
   "cell_type": "code",
   "execution_count": 6,
   "id": "7a46933b",
   "metadata": {},
   "outputs": [
    {
     "data": {
      "text/plain": [
       "int"
      ]
     },
     "execution_count": 6,
     "metadata": {},
     "output_type": "execute_result"
    }
   ],
   "source": [
    "type(10)\n"
   ]
  },
  {
   "cell_type": "code",
   "execution_count": 7,
   "id": "29d1c60e",
   "metadata": {},
   "outputs": [
    {
     "data": {
      "text/plain": [
       "str"
      ]
     },
     "execution_count": 7,
     "metadata": {},
     "output_type": "execute_result"
    }
   ],
   "source": [
    "type('who are you')"
   ]
  },
  {
   "cell_type": "code",
   "execution_count": 11,
   "id": "695ce939",
   "metadata": {},
   "outputs": [
    {
     "data": {
      "text/plain": [
       "float"
      ]
     },
     "execution_count": 11,
     "metadata": {},
     "output_type": "execute_result"
    }
   ],
   "source": [
    "type( 2.0)"
   ]
  },
  {
   "cell_type": "code",
   "execution_count": 13,
   "id": "b640e39b",
   "metadata": {},
   "outputs": [],
   "source": [
    "def add_numbers(x,y):\n",
    "    return(x + y)\n",
    "    \n",
    "    "
   ]
  },
  {
   "cell_type": "code",
   "execution_count": 15,
   "id": "ca9a26f3",
   "metadata": {},
   "outputs": [
    {
     "data": {
      "text/plain": [
       "13"
      ]
     },
     "execution_count": 15,
     "metadata": {},
     "output_type": "execute_result"
    }
   ],
   "source": [
    "add_numbers(3,10)"
   ]
  },
  {
   "cell_type": "code",
   "execution_count": 16,
   "id": "753dcc2c",
   "metadata": {},
   "outputs": [
    {
     "data": {
      "text/plain": [
       "125"
      ]
     },
     "execution_count": 16,
     "metadata": {},
     "output_type": "execute_result"
    }
   ],
   "source": [
    "def subtract_numbers(x,y):\n",
    "    return(x + y)\n",
    "\n",
    "subtract_numbers(100,25)\n"
   ]
  },
  {
   "cell_type": "code",
   "execution_count": 24,
   "id": "515afdcc",
   "metadata": {},
   "outputs": [
    {
     "name": "stdout",
     "output_type": "stream",
     "text": [
      "x is less than 5\n"
     ]
    }
   ],
   "source": [
    "x = 10\n",
    "if (x < 5):\n",
    "    print('x is greater than 5')\n",
    "else:\n",
    "    print('x is less than 5')\n"
   ]
  },
  {
   "cell_type": "code",
   "execution_count": 26,
   "id": "8719757e",
   "metadata": {},
   "outputs": [
    {
     "name": "stdout",
     "output_type": "stream",
     "text": [
      "y is greater than 20\n"
     ]
    }
   ],
   "source": [
    "y = 20\n",
    "if (y > 9):\n",
    "    print(\"y is greater than 20\")\n",
    "else:\n",
    "    print('y is less than 20')"
   ]
  },
  {
   "cell_type": "code",
   "execution_count": 27,
   "id": "cc3cbbed",
   "metadata": {},
   "outputs": [
    {
     "name": "stdout",
     "output_type": "stream",
     "text": [
      "a is greater than 3\n"
     ]
    }
   ],
   "source": [
    "a = 4\n",
    "if (a >3):\n",
    "    print('a is greater than 3')\n",
    "else:\n",
    "    print('a is less than 3')"
   ]
  },
  {
   "cell_type": "code",
   "execution_count": 28,
   "id": "0e83e99b",
   "metadata": {},
   "outputs": [],
   "source": [
    "a = (2.3, 4.8)"
   ]
  },
  {
   "cell_type": "code",
   "execution_count": 30,
   "id": "ad1952bf",
   "metadata": {},
   "outputs": [],
   "source": [
    "a=(a[0])"
   ]
  },
  {
   "cell_type": "code",
   "execution_count": 32,
   "id": "b6787499",
   "metadata": {},
   "outputs": [
    {
     "data": {
      "text/plain": [
       "(20, 'man', 2.0)"
      ]
     },
     "execution_count": 32,
     "metadata": {},
     "output_type": "execute_result"
    }
   ],
   "source": [
    "# DATA COLLECTIONS IN PHYTON\n",
    "# TURPLE IS AN IMUTABLE DATA STRUCTURES\n",
    "\n",
    "x = (20, 'man', 2.0)\n",
    "x"
   ]
  },
  {
   "cell_type": "code",
   "execution_count": 33,
   "id": "2b7cb837",
   "metadata": {},
   "outputs": [
    {
     "data": {
      "text/plain": [
       "20"
      ]
     },
     "execution_count": 33,
     "metadata": {},
     "output_type": "execute_result"
    }
   ],
   "source": [
    "x[0]"
   ]
  },
  {
   "cell_type": "code",
   "execution_count": 34,
   "id": "54ec914e",
   "metadata": {},
   "outputs": [
    {
     "data": {
      "text/plain": [
       "'man'"
      ]
     },
     "execution_count": 34,
     "metadata": {},
     "output_type": "execute_result"
    }
   ],
   "source": [
    "x[1]"
   ]
  },
  {
   "cell_type": "code",
   "execution_count": 35,
   "id": "aea14cd3",
   "metadata": {},
   "outputs": [
    {
     "data": {
      "text/plain": [
       "2.0"
      ]
     },
     "execution_count": 35,
     "metadata": {},
     "output_type": "execute_result"
    }
   ],
   "source": [
    "x[2]"
   ]
  },
  {
   "cell_type": "code",
   "execution_count": 42,
   "id": "e6992a33",
   "metadata": {},
   "outputs": [
    {
     "name": "stdout",
     "output_type": "stream",
     "text": [
      "20\n",
      "man\n",
      "2.0\n"
     ]
    }
   ],
   "source": [
    "print(x[0])\n",
    "print(x[1])\n",
    "print(x[2])"
   ]
  },
  {
   "cell_type": "code",
   "execution_count": 45,
   "id": "ff7319ca",
   "metadata": {},
   "outputs": [
    {
     "name": "stdout",
     "output_type": "stream",
     "text": [
      "5\n"
     ]
    }
   ],
   "source": [
    "# LIST DATA COLLECTION\n",
    "\n",
    "man = (5)\n",
    "print(man)"
   ]
  },
  {
   "cell_type": "code",
   "execution_count": 46,
   "id": "ddcbab13",
   "metadata": {},
   "outputs": [
    {
     "data": {
      "text/plain": [
       "(2, 4, 'man')"
      ]
     },
     "execution_count": 46,
     "metadata": {},
     "output_type": "execute_result"
    }
   ],
   "source": [
    "x = (2, 4, 'man')\n",
    "x"
   ]
  },
  {
   "cell_type": "code",
   "execution_count": 47,
   "id": "ebdd8bda",
   "metadata": {},
   "outputs": [
    {
     "data": {
      "text/plain": [
       "[20.2, 5, 'man']"
      ]
     },
     "execution_count": 47,
     "metadata": {},
     "output_type": "execute_result"
    }
   ],
   "source": [
    "z = [20.2, 5, 'man']\n",
    "z"
   ]
  },
  {
   "cell_type": "code",
   "execution_count": 48,
   "id": "42471d1e",
   "metadata": {},
   "outputs": [
    {
     "name": "stdout",
     "output_type": "stream",
     "text": [
      "[20.2, 5, 'man', 10]\n"
     ]
    }
   ],
   "source": [
    "z.append(10)\n",
    "print(z)"
   ]
  },
  {
   "cell_type": "code",
   "execution_count": 49,
   "id": "3dae81c7",
   "metadata": {},
   "outputs": [
    {
     "name": "stdout",
     "output_type": "stream",
     "text": [
      "20.2\n",
      "5\n",
      "man\n",
      "10\n"
     ]
    }
   ],
   "source": [
    "for item in (z):\n",
    "    print(item)"
   ]
  },
  {
   "cell_type": "code",
   "execution_count": 50,
   "id": "48ff9e22",
   "metadata": {},
   "outputs": [
    {
     "name": "stdout",
     "output_type": "stream",
     "text": [
      "40.4\n",
      "10\n",
      "manman\n",
      "20\n"
     ]
    }
   ],
   "source": [
    "for item in (z):\n",
    "    print(item * 2)"
   ]
  },
  {
   "cell_type": "code",
   "execution_count": 54,
   "id": "4a24f005",
   "metadata": {},
   "outputs": [
    {
     "name": "stdout",
     "output_type": "stream",
     "text": [
      "101.0\n",
      "25\n",
      "manmanmanmanman\n",
      "50\n"
     ]
    }
   ],
   "source": [
    "for item in (z):\n",
    "    print(item * 5)"
   ]
  },
  {
   "cell_type": "code",
   "execution_count": 55,
   "id": "e4ff6f2c",
   "metadata": {},
   "outputs": [
    {
     "data": {
      "text/plain": [
       "('mother', 'father', 'children')"
      ]
     },
     "execution_count": 55,
     "metadata": {},
     "output_type": "execute_result"
    }
   ],
   "source": [
    "a = ('mother','father','children')\n",
    "a"
   ]
  },
  {
   "cell_type": "code",
   "execution_count": 58,
   "id": "67c794f0",
   "metadata": {},
   "outputs": [
    {
     "name": "stdout",
     "output_type": "stream",
     "text": [
      "mother\n",
      "father\n",
      "children\n"
     ]
    }
   ],
   "source": [
    "for item in (a):\n",
    "    print(item)"
   ]
  },
  {
   "cell_type": "code",
   "execution_count": 59,
   "id": "f75b5bd7",
   "metadata": {},
   "outputs": [
    {
     "name": "stdout",
     "output_type": "stream",
     "text": [
      "mothermother\n",
      "fatherfather\n",
      "childrenchildren\n"
     ]
    }
   ],
   "source": [
    "for item in (a):\n",
    "    print(item*2)"
   ]
  },
  {
   "cell_type": "code",
   "execution_count": 61,
   "id": "c5ded8d6",
   "metadata": {},
   "outputs": [
    {
     "data": {
      "text/plain": [
       "[('mother', 'father', 'children'), [20.2, 5, 'man', 10], (2, 4, 'man')]"
      ]
     },
     "execution_count": 61,
     "metadata": {},
     "output_type": "execute_result"
    }
   ],
   "source": [
    "[a] + [z] + [x]"
   ]
  },
  {
   "cell_type": "code",
   "execution_count": 64,
   "id": "e185ac24",
   "metadata": {},
   "outputs": [
    {
     "data": {
      "text/plain": [
       "[('mother', 'father', 'children'),\n",
       " ('mother', 'father', 'children'),\n",
       " ('mother', 'father', 'children'),\n",
       " ('mother', 'father', 'children')]"
      ]
     },
     "execution_count": 64,
     "metadata": {},
     "output_type": "execute_result"
    }
   ],
   "source": [
    "[a]*4"
   ]
  },
  {
   "cell_type": "code",
   "execution_count": 65,
   "id": "b911ca17",
   "metadata": {},
   "outputs": [
    {
     "data": {
      "text/plain": [
       "[[20.2, 5, 'man', 10],\n",
       " [20.2, 5, 'man', 10],\n",
       " [20.2, 5, 'man', 10],\n",
       " [20.2, 5, 'man', 10]]"
      ]
     },
     "execution_count": 65,
     "metadata": {},
     "output_type": "execute_result"
    }
   ],
   "source": [
    "[z]*4"
   ]
  },
  {
   "cell_type": "code",
   "execution_count": 67,
   "id": "9543ef0d",
   "metadata": {},
   "outputs": [
    {
     "data": {
      "text/plain": [
       "[20, 20, 20, 20, 20, 20, 20, 20, 20, 20]"
      ]
     },
     "execution_count": 67,
     "metadata": {},
     "output_type": "execute_result"
    }
   ],
   "source": [
    "[y]*10"
   ]
  },
  {
   "cell_type": "code",
   "execution_count": 68,
   "id": "d3caa8c4",
   "metadata": {},
   "outputs": [
    {
     "name": "stdout",
     "output_type": "stream",
     "text": [
      "('mother',)\n"
     ]
    }
   ],
   "source": [
    "print(a[0:1])"
   ]
  },
  {
   "cell_type": "code",
   "execution_count": 70,
   "id": "1411c8ec",
   "metadata": {},
   "outputs": [
    {
     "name": "stdout",
     "output_type": "stream",
     "text": [
      "(2, 4)\n"
     ]
    }
   ],
   "source": [
    "print(x[0:2])"
   ]
  },
  {
   "cell_type": "code",
   "execution_count": 73,
   "id": "787918fc",
   "metadata": {},
   "outputs": [
    {
     "name": "stdout",
     "output_type": "stream",
     "text": [
      "(2, 4, 'man')\n"
     ]
    }
   ],
   "source": [
    "print(x[0:4])"
   ]
  },
  {
   "cell_type": "code",
   "execution_count": 74,
   "id": "06fb3f10",
   "metadata": {},
   "outputs": [
    {
     "name": "stdout",
     "output_type": "stream",
     "text": [
      "children\n"
     ]
    }
   ],
   "source": [
    "print(a[-1])"
   ]
  },
  {
   "cell_type": "code",
   "execution_count": 75,
   "id": "b054a1f2",
   "metadata": {},
   "outputs": [
    {
     "name": "stdout",
     "output_type": "stream",
     "text": [
      "father\n"
     ]
    }
   ],
   "source": [
    "print(a[-2])"
   ]
  },
  {
   "cell_type": "code",
   "execution_count": 76,
   "id": "02dfcf6e",
   "metadata": {},
   "outputs": [
    {
     "data": {
      "text/plain": [
       "(2, 4)"
      ]
     },
     "execution_count": 76,
     "metadata": {},
     "output_type": "execute_result"
    }
   ],
   "source": [
    "x[0:2]"
   ]
  },
  {
   "cell_type": "code",
   "execution_count": 77,
   "id": "3391d45e",
   "metadata": {},
   "outputs": [
    {
     "data": {
      "text/plain": [
       "(2, 4, 'man')"
      ]
     },
     "execution_count": 77,
     "metadata": {},
     "output_type": "execute_result"
    }
   ],
   "source": [
    "x[0:3]"
   ]
  },
  {
   "cell_type": "code",
   "execution_count": null,
   "id": "27436f4d",
   "metadata": {},
   "outputs": [],
   "source": [
    "print(a)"
   ]
  }
 ],
 "metadata": {
  "kernelspec": {
   "display_name": "Python 3 (ipykernel)",
   "language": "python",
   "name": "python3"
  },
  "language_info": {
   "codemirror_mode": {
    "name": "ipython",
    "version": 3
   },
   "file_extension": ".py",
   "mimetype": "text/x-python",
   "name": "python",
   "nbconvert_exporter": "python",
   "pygments_lexer": "ipython3",
   "version": "3.9.13"
  }
 },
 "nbformat": 4,
 "nbformat_minor": 5
}

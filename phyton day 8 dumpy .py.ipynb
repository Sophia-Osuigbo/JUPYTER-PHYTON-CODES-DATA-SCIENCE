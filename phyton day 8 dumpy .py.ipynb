{
 "cells": [
  {
   "cell_type": "code",
   "execution_count": 5,
   "id": "fafa409e",
   "metadata": {},
   "outputs": [
    {
     "data": {
      "text/plain": [
       "array([1, 2, 4])"
      ]
     },
     "execution_count": 5,
     "metadata": {},
     "output_type": "execute_result"
    }
   ],
   "source": [
    "import numpy as np\n",
    "x = np.array([1,2,4])\n",
    "x"
   ]
  },
  {
   "cell_type": "code",
   "execution_count": 6,
   "id": "dc564b09",
   "metadata": {},
   "outputs": [
    {
     "data": {
      "text/plain": [
       "array([4, 5, 6])"
      ]
     },
     "execution_count": 6,
     "metadata": {},
     "output_type": "execute_result"
    }
   ],
   "source": [
    "y = np.array([4, 5, 6])\n",
    "y"
   ]
  },
  {
   "cell_type": "code",
   "execution_count": 7,
   "id": "d2f62b3f",
   "metadata": {},
   "outputs": [
    {
     "name": "stdout",
     "output_type": "stream",
     "text": [
      "[1 2 4]\n",
      "[4 5 6]\n"
     ]
    }
   ],
   "source": [
    "# USE +, -, *, %, / TO PERFORM ELEMENT WISE ADDITION, SUBTRACTION, AND POWER.\n",
    "\n",
    "print(x)\n",
    "print(y)"
   ]
  },
  {
   "cell_type": "code",
   "execution_count": 9,
   "id": "4e17ab4c",
   "metadata": {},
   "outputs": [
    {
     "name": "stdout",
     "output_type": "stream",
     "text": [
      "[ 5  7 10]\n",
      "[-3 -3 -2]\n"
     ]
    }
   ],
   "source": [
    "print(x + y) # elementwise addition [1, 2, 4] + [4, 5, 6] = [5, 7, 10]\n",
    "print(x - y) # element wise subtraction [1, 2, 4] - [4, 5,6] = [-3, -3, -2]"
   ]
  },
  {
   "cell_type": "code",
   "execution_count": 10,
   "id": "3f729856",
   "metadata": {},
   "outputs": [
    {
     "name": "stdout",
     "output_type": "stream",
     "text": [
      "[ 4 10 24]\n",
      "[0.25       0.4        0.66666667]\n"
     ]
    }
   ],
   "source": [
    "print(x * y) # element wise multiplication\n",
    "print(x / y) # element division"
   ]
  },
  {
   "cell_type": "code",
   "execution_count": 11,
   "id": "af7516c8",
   "metadata": {},
   "outputs": [
    {
     "name": "stdout",
     "output_type": "stream",
     "text": [
      "[ 1  4 16]\n"
     ]
    }
   ],
   "source": [
    "print(x ** 2) # element wise raise to power"
   ]
  },
  {
   "cell_type": "code",
   "execution_count": 12,
   "id": "b5b68b83",
   "metadata": {},
   "outputs": [
    {
     "data": {
      "text/plain": [
       "array([[ 4,  5,  6],\n",
       "       [16, 25, 36]])"
      ]
     },
     "execution_count": 12,
     "metadata": {},
     "output_type": "execute_result"
    }
   ],
   "source": [
    "z = np.array([y, y**2])\n",
    "z"
   ]
  },
  {
   "cell_type": "code",
   "execution_count": 13,
   "id": "9b8695fa",
   "metadata": {},
   "outputs": [
    {
     "data": {
      "text/plain": [
       "array([[ 4, 16],\n",
       "       [ 5, 25],\n",
       "       [ 6, 36]])"
      ]
     },
     "execution_count": 13,
     "metadata": {},
     "output_type": "execute_result"
    }
   ],
   "source": [
    "z.T  # THIS FUNCTION IS USED TO CHANGE THE SHAPE OR ARRANGEMENT OF AN ARRAY."
   ]
  },
  {
   "cell_type": "code",
   "execution_count": 14,
   "id": "3ac583dc",
   "metadata": {},
   "outputs": [
    {
     "data": {
      "text/plain": [
       "array([-2,  3,  7,  9, 10])"
      ]
     },
     "execution_count": 14,
     "metadata": {},
     "output_type": "execute_result"
    }
   ],
   "source": [
    " # MATHS FUNCTION\n",
    "#     NUMPY HAS MANY BUILT IN MATHS FUNCTIONS THAT CAN BE PRFORMED BY ARRAYS\n",
    "\n",
    "a = np.array([-2, 3, 7, 9,10])\n",
    "a"
   ]
  },
  {
   "cell_type": "code",
   "execution_count": 15,
   "id": "400470c5",
   "metadata": {},
   "outputs": [
    {
     "data": {
      "text/plain": [
       "27"
      ]
     },
     "execution_count": 15,
     "metadata": {},
     "output_type": "execute_result"
    }
   ],
   "source": [
    "# THE .SUM METHOD IS USED TO SUM ALL THE VALUES IN AN ARRAY TOGETHER E.G\n",
    "\n",
    "a.sum()"
   ]
  },
  {
   "cell_type": "code",
   "execution_count": 16,
   "id": "d642b391",
   "metadata": {},
   "outputs": [
    {
     "data": {
      "text/plain": [
       "27"
      ]
     },
     "execution_count": 16,
     "metadata": {},
     "output_type": "execute_result"
    }
   ],
   "source": [
    "b = 0              # B IS EQUAL TO ZERO\n",
    "for x in a:          # X REPRESENTS EACH VALUE IN A ARRAY ABOVE\n",
    "    b = b + x        # B IS EQUAL 0 + THE FIRST VALUE IN A WHICH IS -2, WHICH IS = -2\n",
    "                   # THEN THE VALUE OF B CHANGES TO -2 INSTEAD OF 0 AND SO ON.\n",
    "b"
   ]
  },
  {
   "cell_type": "code",
   "execution_count": 17,
   "id": "498116bd",
   "metadata": {},
   "outputs": [
    {
     "data": {
      "text/plain": [
       "10"
      ]
     },
     "execution_count": 17,
     "metadata": {},
     "output_type": "execute_result"
    }
   ],
   "source": [
    " # . MAX IS USED TO PRINT OUT THE MAXIMUM NUMBER IN AN ARRAY E.G\n",
    "    \n",
    "a.max()"
   ]
  },
  {
   "cell_type": "code",
   "execution_count": 18,
   "id": "b6f0a4dc",
   "metadata": {},
   "outputs": [
    {
     "data": {
      "text/plain": [
       "-2"
      ]
     },
     "execution_count": 18,
     "metadata": {},
     "output_type": "execute_result"
    }
   ],
   "source": [
    "a.min()      # .MIN IS USED TO PRINT OUT THE MINIMUM NUMBER IN AN ARRAY"
   ]
  },
  {
   "cell_type": "code",
   "execution_count": 19,
   "id": "3ec85421",
   "metadata": {},
   "outputs": [
    {
     "data": {
      "text/plain": [
       "5.4"
      ]
     },
     "execution_count": 19,
     "metadata": {},
     "output_type": "execute_result"
    }
   ],
   "source": [
    "a.mean()      # .MEAN IS USED TO PRINT OUT THE MEAN IN AM ARRAY"
   ]
  },
  {
   "cell_type": "code",
   "execution_count": 20,
   "id": "e9c7d6aa",
   "metadata": {},
   "outputs": [
    {
     "data": {
      "text/plain": [
       "4.409081537009721"
      ]
     },
     "execution_count": 20,
     "metadata": {},
     "output_type": "execute_result"
    }
   ],
   "source": [
    "a.std()        # .STD IS USED TO PRINT OUT THE STANDARD DIVISION OF EACH NUMBER IN AN ARRAY"
   ]
  },
  {
   "cell_type": "code",
   "execution_count": 21,
   "id": "a0cc0d02",
   "metadata": {},
   "outputs": [
    {
     "data": {
      "text/plain": [
       "4"
      ]
     },
     "execution_count": 21,
     "metadata": {},
     "output_type": "execute_result"
    }
   ],
   "source": [
    "# ARGMAX AND ARGMIN IS USED TO RETURN THE INDEX OF THE MAXIMUM AND MINIMUM VALUES IN THE ARRAY\n",
    "\n",
    "# NOTE: IN INDEXING OUR VALUES STARTS FROM 0 SO\n",
    "\n",
    "a.argmax()"
   ]
  },
  {
   "cell_type": "code",
   "execution_count": 22,
   "id": "fc4c8e34",
   "metadata": {},
   "outputs": [
    {
     "data": {
      "text/plain": [
       "0"
      ]
     },
     "execution_count": 22,
     "metadata": {},
     "output_type": "execute_result"
    }
   ],
   "source": [
    "a.argmin()"
   ]
  },
  {
   "cell_type": "code",
   "execution_count": 23,
   "id": "7368f1ee",
   "metadata": {},
   "outputs": [
    {
     "data": {
      "text/plain": [
       "array([  0,   1,   4,   9,  16,  25,  36,  49,  64,  81, 100, 121, 144,\n",
       "       169, 196, 225, 256, 289, 324, 361, 400, 441, 484, 529, 576, 625,\n",
       "       676, 729, 784, 841])"
      ]
     },
     "execution_count": 23,
     "metadata": {},
     "output_type": "execute_result"
    }
   ],
   "source": [
    "# INDEXING / SLICING\n",
    "\n",
    "s = np.arange(0, 30,1)**2\n",
    "s"
   ]
  },
  {
   "cell_type": "code",
   "execution_count": 24,
   "id": "c52e6e74",
   "metadata": {},
   "outputs": [
    {
     "data": {
      "text/plain": [
       "(0, 25, 729)"
      ]
     },
     "execution_count": 24,
     "metadata": {},
     "output_type": "execute_result"
    }
   ],
   "source": [
    "s[0], s[5], s[-3]"
   ]
  },
  {
   "cell_type": "code",
   "execution_count": 25,
   "id": "947a53ff",
   "metadata": {},
   "outputs": [
    {
     "data": {
      "text/plain": [
       "array([ 1,  4,  9, 16, 25, 36, 49])"
      ]
     },
     "execution_count": 25,
     "metadata": {},
     "output_type": "execute_result"
    }
   ],
   "source": [
    "s[1:8]"
   ]
  },
  {
   "cell_type": "code",
   "execution_count": 29,
   "id": "98ef2fd4",
   "metadata": {},
   "outputs": [
    {
     "data": {
      "text/plain": [
       "array([[ 0,  1,  2,  3,  4,  5],\n",
       "       [ 6,  7,  8,  9, 10, 11],\n",
       "       [12, 13, 14, 15, 16, 17],\n",
       "       [18, 19, 20, 21, 22, 23],\n",
       "       [24, 25, 26, 27, 28, 29],\n",
       "       [30, 31, 32, 33, 34, 35]])"
      ]
     },
     "execution_count": 29,
     "metadata": {},
     "output_type": "execute_result"
    }
   ],
   "source": [
    "r = np.arange(36)\n",
    "r.resize(6,6)\n",
    "r"
   ]
  },
  {
   "cell_type": "code",
   "execution_count": 31,
   "id": "35f8ea15",
   "metadata": {},
   "outputs": [
    {
     "data": {
      "text/plain": [
       "14"
      ]
     },
     "execution_count": 31,
     "metadata": {},
     "output_type": "execute_result"
    }
   ],
   "source": [
    "# ROW ARE HORIZONTAL, COLUMS ARE VERTICAL\n",
    "\n",
    "r[2,2]   # THIS MEANS THE SECOND INDEX OF THE ROW AND THE SECOND INDEX OF THE COLUME\n"
   ]
  },
  {
   "cell_type": "code",
   "execution_count": 32,
   "id": "24fe10cb",
   "metadata": {},
   "outputs": [
    {
     "data": {
      "text/plain": [
       "array([12, 13, 14, 15, 16, 17])"
      ]
     },
     "execution_count": 32,
     "metadata": {},
     "output_type": "execute_result"
    }
   ],
   "source": [
    "r[2]"
   ]
  },
  {
   "cell_type": "code",
   "execution_count": 33,
   "id": "4306f6ab",
   "metadata": {},
   "outputs": [
    {
     "data": {
      "text/plain": [
       "array([0, 1, 2, 3, 4, 5])"
      ]
     },
     "execution_count": 33,
     "metadata": {},
     "output_type": "execute_result"
    }
   ],
   "source": [
    "r[0]"
   ]
  },
  {
   "cell_type": "code",
   "execution_count": 34,
   "id": "9ec49d81",
   "metadata": {},
   "outputs": [
    {
     "data": {
      "text/plain": [
       "16"
      ]
     },
     "execution_count": 34,
     "metadata": {},
     "output_type": "execute_result"
    }
   ],
   "source": [
    "r[2,4]"
   ]
  },
  {
   "cell_type": "code",
   "execution_count": 35,
   "id": "cc4650af",
   "metadata": {},
   "outputs": [
    {
     "data": {
      "text/plain": [
       "array([18, 19, 20, 21, 22, 23])"
      ]
     },
     "execution_count": 35,
     "metadata": {},
     "output_type": "execute_result"
    }
   ],
   "source": [
    "r[3]  # THIS IS PRINTING OUT THE 3 ROW "
   ]
  },
  {
   "cell_type": "code",
   "execution_count": 36,
   "id": "0e763f02",
   "metadata": {},
   "outputs": [
    {
     "data": {
      "text/plain": [
       "array([21, 22, 23])"
      ]
     },
     "execution_count": 36,
     "metadata": {},
     "output_type": "execute_result"
    }
   ],
   "source": [
    "r[3, 3:6]   # THIS IS PRINTING OUT THE 3RD ROW AND THE INDEX NUMBER RANGING FROM 3-5"
   ]
  },
  {
   "cell_type": "code",
   "execution_count": 37,
   "id": "807fd4f1",
   "metadata": {},
   "outputs": [
    {
     "data": {
      "text/plain": [
       "array([ 0,  1,  2,  3,  4,  5,  6,  7,  8,  9, 10, 11, 12, 13, 14, 15, 16,\n",
       "       17, 18, 19, 20, 21, 22, 23, 24, 25, 26, 27, 28, 29])"
      ]
     },
     "execution_count": 37,
     "metadata": {},
     "output_type": "execute_result"
    }
   ],
   "source": [
    "r[r < 30]    # THIS WILL PRINT OUT ARRAY NUMBERS LESS THAN 30"
   ]
  },
  {
   "cell_type": "code",
   "execution_count": 38,
   "id": "57f6dad8",
   "metadata": {},
   "outputs": [
    {
     "data": {
      "text/plain": [
       "array([31, 32, 33, 34, 35])"
      ]
     },
     "execution_count": 38,
     "metadata": {},
     "output_type": "execute_result"
    }
   ],
   "source": [
    "r[r > 30]   # THIS IS GOING TO PRINT OUT THE ARRAY NUMBERS WHICH IS GREATER THAN 30"
   ]
  },
  {
   "cell_type": "code",
   "execution_count": 39,
   "id": "79ef85c8",
   "metadata": {},
   "outputs": [
    {
     "data": {
      "text/plain": [
       "array([21, 22, 23, 24, 25, 26, 27, 28, 29, 30, 31, 32, 33, 34, 35])"
      ]
     },
     "execution_count": 39,
     "metadata": {},
     "output_type": "execute_result"
    }
   ],
   "source": [
    "r[r > 20]"
   ]
  },
  {
   "cell_type": "code",
   "execution_count": null,
   "id": "2f38f2b0",
   "metadata": {},
   "outputs": [],
   "source": []
  }
 ],
 "metadata": {
  "kernelspec": {
   "display_name": "Python 3 (ipykernel)",
   "language": "python",
   "name": "python3"
  },
  "language_info": {
   "codemirror_mode": {
    "name": "ipython",
    "version": 3
   },
   "file_extension": ".py",
   "mimetype": "text/x-python",
   "name": "python",
   "nbconvert_exporter": "python",
   "pygments_lexer": "ipython3",
   "version": "3.9.13"
  }
 },
 "nbformat": 4,
 "nbformat_minor": 5
}

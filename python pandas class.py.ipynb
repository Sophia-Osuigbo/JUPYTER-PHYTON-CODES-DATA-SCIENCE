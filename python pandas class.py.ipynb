{
 "cells": [
  {
   "cell_type": "code",
   "execution_count": null,
   "id": "47bf1cf7",
   "metadata": {},
   "outputs": [],
   "source": [
    "# WELCOME TO PANDAS SERIES. A PANDAS SERIES IS A SINGLE DIMENTIONAL ARRAY (VECTOR) \n",
    "   \n",
    "    import pandas as pd\n",
    "\n",
    "# IN  PANDAS SERIES THE .SERIES METHOD IS USED.\n",
    "# AND IT CONSIST OF INDEX AND VALUES.\n",
    "\n"
   ]
  },
  {
   "cell_type": "code",
   "execution_count": 4,
   "id": "ae79b1d6",
   "metadata": {},
   "outputs": [
    {
     "data": {
      "text/plain": [
       "0    1\n",
       "1    2\n",
       "2    3\n",
       "dtype: int64"
      ]
     },
     "execution_count": 4,
     "metadata": {},
     "output_type": "execute_result"
    }
   ],
   "source": [
    "number = [1, 2, 3]\n",
    "pd.Series(number)"
   ]
  },
  {
   "cell_type": "code",
   "execution_count": 56,
   "id": "2625a9ae",
   "metadata": {},
   "outputs": [
    {
     "data": {
      "text/plain": [
       "0    0\n",
       "1    4\n",
       "2    8\n",
       "dtype: int64"
      ]
     },
     "execution_count": 56,
     "metadata": {},
     "output_type": "execute_result"
    }
   ],
   "source": [
    "y = pd.Series([0, 4, 8])\n",
    "y"
   ]
  },
  {
   "cell_type": "code",
   "execution_count": 5,
   "id": "ff7fafeb",
   "metadata": {},
   "outputs": [
    {
     "data": {
      "text/plain": [
       "0    orange\n",
       "1         2\n",
       "2      None\n",
       "dtype: object"
      ]
     },
     "execution_count": 5,
     "metadata": {},
     "output_type": "execute_result"
    }
   ],
   "source": [
    "man = ['orange', 2, None]\n",
    "pd.Series(man)"
   ]
  },
  {
   "cell_type": "code",
   "execution_count": 6,
   "id": "a27ff33c",
   "metadata": {},
   "outputs": [
    {
     "data": {
      "text/plain": [
       "0    1.0\n",
       "1    4.0\n",
       "2    NaN\n",
       "dtype: float64"
      ]
     },
     "execution_count": 6,
     "metadata": {},
     "output_type": "execute_result"
    }
   ],
   "source": [
    "val = [1, 4, None] \n",
    "pd.Series(val)\n",
    "\n",
    "# IN A PANDAS SERIES, IF A LIST CONTAINS 2 INTEGERS AND A NONE DATA TYPE THE OUTPUT TURNS TO A FLOAT"
   ]
  },
  {
   "cell_type": "code",
   "execution_count": 9,
   "id": "3d984700",
   "metadata": {},
   "outputs": [
    {
     "data": {
      "text/plain": [
       "0    3.0\n",
       "1    5.0\n",
       "2    7.0\n",
       "3    3.0\n",
       "4    2.6\n",
       "5    NaN\n",
       "dtype: float64"
      ]
     },
     "execution_count": 9,
     "metadata": {},
     "output_type": "execute_result"
    }
   ],
   "source": [
    "big = [ 3, 5, 7, 3, 2.6, None] \n",
    "pd.Series(big)      \n",
    "\n",
    "# BUT ONCE U ADD A STRING THE VALUE CHANGES          \n",
    "# BUT WHEN ITS JUST NUMBERS AND NONE THE VALUES BEOMES A FLOAT"
   ]
  },
  {
   "cell_type": "code",
   "execution_count": 11,
   "id": "ebba04f5",
   "metadata": {},
   "outputs": [
    {
     "data": {
      "text/plain": [
       "man             mango\n",
       "jane            jenny\n",
       "prince       scotland\n",
       "princess        diana\n",
       "queen       elizabeth\n",
       "dtype: object"
      ]
     },
     "execution_count": 11,
     "metadata": {},
     "output_type": "execute_result"
    }
   ],
   "source": [
    "# ON A DICTIONARY, THE .SERIES METHOD CONVERTS THE KEYS TO INDEX, AND VALUES TO VALUES.\n",
    "\n",
    "names = {'man': 'mango',\n",
    "         'jane': 'jenny',\n",
    "         'prince': 'scotland',\n",
    "         'princess': 'diana',\n",
    "         'queen': 'elizabeth'}\n",
    "s = pd.Series(names)\n",
    "s\n"
   ]
  },
  {
   "cell_type": "code",
   "execution_count": 12,
   "id": "ce494b68",
   "metadata": {},
   "outputs": [
    {
     "data": {
      "text/plain": [
       "Index(['man', 'jane', 'prince', 'princess', 'queen'], dtype='object')"
      ]
     },
     "execution_count": 12,
     "metadata": {},
     "output_type": "execute_result"
    }
   ],
   "source": [
    "s.index"
   ]
  },
  {
   "cell_type": "code",
   "execution_count": 13,
   "id": "2eddb625",
   "metadata": {},
   "outputs": [
    {
     "data": {
      "text/plain": [
       "array(['mango', 'jenny', 'scotland', 'diana', 'elizabeth'], dtype=object)"
      ]
     },
     "execution_count": 13,
     "metadata": {},
     "output_type": "execute_result"
    }
   ],
   "source": [
    "s.values"
   ]
  },
  {
   "cell_type": "code",
   "execution_count": 14,
   "id": "59f3c88c",
   "metadata": {},
   "outputs": [
    {
     "data": {
      "text/plain": [
       "champane       man\n",
       "cocktail     tiger\n",
       "alaska      origin\n",
       "dtype: object"
      ]
     },
     "execution_count": 14,
     "metadata": {},
     "output_type": "execute_result"
    }
   ],
   "source": [
    "# TO PASS IN YOUR INDEX AND VALUES SEPERATELY DO THIS BELOW\n",
    "\n",
    "\n",
    "s = pd.Series(['man', 'tiger', 'origin'], index =['champane', 'cocktail', 'alaska'])\n",
    "s"
   ]
  },
  {
   "cell_type": "code",
   "execution_count": 15,
   "id": "bdc049f8",
   "metadata": {},
   "outputs": [
    {
     "data": {
      "text/plain": [
       "nigeria     naira\n",
       "america    dollar\n",
       "england    pounds\n",
       "china        yuan\n",
       "dtype: object"
      ]
     },
     "execution_count": 15,
     "metadata": {},
     "output_type": "execute_result"
    }
   ],
   "source": [
    "#   QUERRING A SERIES\n",
    "\n",
    "currency = {'nigeria': 'naira',\n",
    "            'america': 'dollar',\n",
    "            'england': 'pounds',\n",
    "            'china': 'yuan'}\n",
    "s= pd.Series(currency)\n",
    "s\n",
    "            "
   ]
  },
  {
   "cell_type": "code",
   "execution_count": 17,
   "id": "2895dcc8",
   "metadata": {},
   "outputs": [
    {
     "data": {
      "text/plain": [
       "'pounds'"
      ]
     },
     "execution_count": 17,
     "metadata": {},
     "output_type": "execute_result"
    }
   ],
   "source": [
    "# WHEN QUARYING IN PANDAS WE USE .ILOC (INTEGER LOC) TO QUERY THE INDEX OF THE VALUES\n",
    "\n",
    "s.iloc[2]"
   ]
  },
  {
   "cell_type": "code",
   "execution_count": 18,
   "id": "5891ca37",
   "metadata": {},
   "outputs": [
    {
     "data": {
      "text/plain": [
       "'yuan'"
      ]
     },
     "execution_count": 18,
     "metadata": {},
     "output_type": "execute_result"
    }
   ],
   "source": [
    "s.iloc[3]"
   ]
  },
  {
   "cell_type": "code",
   "execution_count": 19,
   "id": "c3e8f532",
   "metadata": {},
   "outputs": [
    {
     "data": {
      "text/plain": [
       "'naira'"
      ]
     },
     "execution_count": 19,
     "metadata": {},
     "output_type": "execute_result"
    }
   ],
   "source": [
    "s.iloc[0]"
   ]
  },
  {
   "cell_type": "code",
   "execution_count": 20,
   "id": "dbd735ec",
   "metadata": {},
   "outputs": [
    {
     "data": {
      "text/plain": [
       "'naira'"
      ]
     },
     "execution_count": 20,
     "metadata": {},
     "output_type": "execute_result"
    }
   ],
   "source": [
    "#  YOU CAN QUERY OUT A VALUE IN PANDAS DICTIONARY USING ITS INDEX KEY.AND THE .LOC ATTRIBUTE IS USED\n",
    "\n",
    "s.loc['nigeria']\n"
   ]
  },
  {
   "cell_type": "code",
   "execution_count": 21,
   "id": "4493c6b5",
   "metadata": {},
   "outputs": [
    {
     "data": {
      "text/plain": [
       "'yuan'"
      ]
     },
     "execution_count": 21,
     "metadata": {},
     "output_type": "execute_result"
    }
   ],
   "source": [
    "s.loc['china']"
   ]
  },
  {
   "cell_type": "code",
   "execution_count": 22,
   "id": "6ff5d36b",
   "metadata": {},
   "outputs": [
    {
     "data": {
      "text/plain": [
       "0    100.0\n",
       "1    300.0\n",
       "2    500.0\n",
       "3    400.0\n",
       "dtype: float64"
      ]
     },
     "execution_count": 22,
     "metadata": {},
     "output_type": "execute_result"
    }
   ],
   "source": [
    "s = pd.Series([100.00, 300.00, 500.00, 400.0])\n",
    "s"
   ]
  },
  {
   "cell_type": "code",
   "execution_count": 25,
   "id": "0b32c742",
   "metadata": {},
   "outputs": [
    {
     "name": "stdout",
     "output_type": "stream",
     "text": [
      "1300.0\n"
     ]
    }
   ],
   "source": [
    "#  TO ADD NUMBERS IN PANDAS SERIES\n",
    "\n",
    "total = 0\n",
    "for item in s:\n",
    "    total = total + item\n",
    "print(total)"
   ]
  },
  {
   "cell_type": "code",
   "execution_count": 26,
   "id": "350952fe",
   "metadata": {},
   "outputs": [
    {
     "name": "stdout",
     "output_type": "stream",
     "text": [
      "1300.0\n"
     ]
    }
   ],
   "source": [
    "import numpy as np\n",
    "\n",
    "total = np.sum(s)\n",
    "print(total)"
   ]
  },
  {
   "cell_type": "code",
   "execution_count": 27,
   "id": "9e2b3c8b",
   "metadata": {},
   "outputs": [
    {
     "data": {
      "text/plain": [
       "4"
      ]
     },
     "execution_count": 27,
     "metadata": {},
     "output_type": "execute_result"
    }
   ],
   "source": [
    "# LEN IS USED TO DETERMINE THE LENGHT OF A PANDAS SERIES\n",
    "\n",
    "len(s)"
   ]
  },
  {
   "cell_type": "code",
   "execution_count": 29,
   "id": "2e8bcc71",
   "metadata": {},
   "outputs": [
    {
     "data": {
      "text/plain": [
       "0    1\n",
       "1    3\n",
       "2    6\n",
       "dtype: int64"
      ]
     },
     "execution_count": 29,
     "metadata": {},
     "output_type": "execute_result"
    }
   ],
   "source": [
    "# ADDING TO A PANDAS SERIES\n",
    "\n",
    "s = pd.Series([1, 3, 6])\n",
    "s"
   ]
  },
  {
   "cell_type": "code",
   "execution_count": 30,
   "id": "14b9e4bd",
   "metadata": {},
   "outputs": [
    {
     "data": {
      "text/plain": [
       "0                 1\n",
       "1                 3\n",
       "2                 6\n",
       "monopoly    Mineral\n",
       "dtype: object"
      ]
     },
     "execution_count": 30,
     "metadata": {},
     "output_type": "execute_result"
    }
   ],
   "source": [
    "#  TO ADD TO AN EXISTING PANDAS SERIES WE USE .LOC AND THE INDEX FOLLOWED BY THE VALUE\n",
    "\n",
    "s.loc['monopoly'] = 'Mineral'\n",
    "s"
   ]
  },
  {
   "cell_type": "code",
   "execution_count": 31,
   "id": "a719229a",
   "metadata": {},
   "outputs": [
    {
     "data": {
      "text/plain": [
       "0                  1\n",
       "1                  3\n",
       "2                  6\n",
       "monopoly     Mineral\n",
       "nigeria     jagajaga\n",
       "dtype: object"
      ]
     },
     "execution_count": 31,
     "metadata": {},
     "output_type": "execute_result"
    }
   ],
   "source": [
    "s.loc['nigeria'] = 'jagajaga'\n",
    "s"
   ]
  },
  {
   "cell_type": "code",
   "execution_count": 34,
   "id": "731e8d2c",
   "metadata": {},
   "outputs": [
    {
     "data": {
      "text/html": [
       "<div>\n",
       "<style scoped>\n",
       "    .dataframe tbody tr th:only-of-type {\n",
       "        vertical-align: middle;\n",
       "    }\n",
       "\n",
       "    .dataframe tbody tr th {\n",
       "        vertical-align: top;\n",
       "    }\n",
       "\n",
       "    .dataframe thead th {\n",
       "        text-align: right;\n",
       "    }\n",
       "</style>\n",
       "<table border=\"1\" class=\"dataframe\">\n",
       "  <thead>\n",
       "    <tr style=\"text-align: right;\">\n",
       "      <th></th>\n",
       "      <th>name</th>\n",
       "      <th>surname</th>\n",
       "      <th>email</th>\n",
       "      <th>password</th>\n",
       "    </tr>\n",
       "  </thead>\n",
       "  <tbody>\n",
       "    <tr>\n",
       "      <th>location 1</th>\n",
       "      <td>adamna</td>\n",
       "      <td>tony</td>\n",
       "      <td>hilda24@gmail.com</td>\n",
       "      <td>emanuel</td>\n",
       "    </tr>\n",
       "    <tr>\n",
       "      <th>location 2</th>\n",
       "      <td>ayo</td>\n",
       "      <td>odudu</td>\n",
       "      <td>ayodudu@gmail.com</td>\n",
       "      <td>odudu24</td>\n",
       "    </tr>\n",
       "    <tr>\n",
       "      <th>location 3</th>\n",
       "      <td>chima</td>\n",
       "      <td>chike</td>\n",
       "      <td>chimachike02@gmail.com</td>\n",
       "      <td>chike999</td>\n",
       "    </tr>\n",
       "  </tbody>\n",
       "</table>\n",
       "</div>"
      ],
      "text/plain": [
       "              name surname                   email  password\n",
       "location 1  adamna    tony       hilda24@gmail.com   emanuel\n",
       "location 2     ayo   odudu       ayodudu@gmail.com   odudu24\n",
       "location 3   chima   chike  chimachike02@gmail.com  chike999"
      ]
     },
     "execution_count": 34,
     "metadata": {},
     "output_type": "execute_result"
    }
   ],
   "source": [
    "#  INTRODUCTION TO PANDAS DATAFRAME: A PANDAS DATA FRAME IS A MULTI-DIMENTIONAL ARRAY\n",
    "# WE CAN MERGE MANY PANDAS SERIES TOGETHER TO GET A PANDAS DATAFRAME\n",
    "\n",
    "details_1 = ({'name': 'adamna',\n",
    "             'surname': 'tony',\n",
    "             'email': 'hilda24@gmail.com',\n",
    "             'password': 'emanuel'})\n",
    "\n",
    "details_2 = ({'name': 'ayo',\n",
    "             'surname': 'odudu',\n",
    "             'email': 'ayodudu@gmail.com',\n",
    "             'password': 'odudu24'})\n",
    "\n",
    "details_3 = ({'name': 'chima',\n",
    "             'surname': 'chike',\n",
    "             'email': 'chimachike02@gmail.com',\n",
    "             'password': 'chike999'})\n",
    "\n",
    "#   WHEN EVER A DF IS CALLED IN A PANDAS DATAFRAME THE INDEX AUTOMATICALLY TURNS TO A COLUME NAME,\n",
    "\n",
    "df = pd.DataFrame([details_1, details_2, details_3],index = ['location 1', 'location 2', 'location 3'])\n",
    "df\n",
    "# YOU CAN NAME THE INDEX BY ADDING ANYTHING YOU WANT E.G LOCATION 1 ETC."
   ]
  },
  {
   "cell_type": "code",
   "execution_count": 35,
   "id": "29fc86d0",
   "metadata": {},
   "outputs": [
    {
     "data": {
      "text/plain": [
       "name                   adamna\n",
       "surname                  tony\n",
       "email       hilda24@gmail.com\n",
       "password              emanuel\n",
       "Name: location 1, dtype: object"
      ]
     },
     "execution_count": 35,
     "metadata": {},
     "output_type": "execute_result"
    }
   ],
   "source": [
    "#  TO QUERY A PANDAS DATA FRAME USE DF.LOC AND THE INDEX NAME TO QUERY THE VALUE\n",
    "df.loc['location 1']"
   ]
  },
  {
   "cell_type": "code",
   "execution_count": 36,
   "id": "79abfd56",
   "metadata": {},
   "outputs": [
    {
     "data": {
      "text/plain": [
       "name                      ayo\n",
       "surname                 odudu\n",
       "email       ayodudu@gmail.com\n",
       "password              odudu24\n",
       "Name: location 2, dtype: object"
      ]
     },
     "execution_count": 36,
     "metadata": {},
     "output_type": "execute_result"
    }
   ],
   "source": [
    "df.loc['location 2']"
   ]
  },
  {
   "cell_type": "code",
   "execution_count": 37,
   "id": "58de0f17",
   "metadata": {},
   "outputs": [
    {
     "data": {
      "text/plain": [
       "'ayodudu@gmail.com'"
      ]
     },
     "execution_count": 37,
     "metadata": {},
     "output_type": "execute_result"
    }
   ],
   "source": [
    "#  TO QUERY OUT A PARTICULAR COLUMN USE THE INDEX NAME AND COLUMN.\n",
    "\n",
    "df.loc['location 2', 'email']"
   ]
  },
  {
   "cell_type": "code",
   "execution_count": 38,
   "id": "85471558",
   "metadata": {},
   "outputs": [
    {
     "data": {
      "text/html": [
       "<div>\n",
       "<style scoped>\n",
       "    .dataframe tbody tr th:only-of-type {\n",
       "        vertical-align: middle;\n",
       "    }\n",
       "\n",
       "    .dataframe tbody tr th {\n",
       "        vertical-align: top;\n",
       "    }\n",
       "\n",
       "    .dataframe thead th {\n",
       "        text-align: right;\n",
       "    }\n",
       "</style>\n",
       "<table border=\"1\" class=\"dataframe\">\n",
       "  <thead>\n",
       "    <tr style=\"text-align: right;\">\n",
       "      <th></th>\n",
       "      <th>location 1</th>\n",
       "      <th>location 2</th>\n",
       "      <th>location 3</th>\n",
       "    </tr>\n",
       "  </thead>\n",
       "  <tbody>\n",
       "    <tr>\n",
       "      <th>name</th>\n",
       "      <td>adamna</td>\n",
       "      <td>ayo</td>\n",
       "      <td>chima</td>\n",
       "    </tr>\n",
       "    <tr>\n",
       "      <th>surname</th>\n",
       "      <td>tony</td>\n",
       "      <td>odudu</td>\n",
       "      <td>chike</td>\n",
       "    </tr>\n",
       "    <tr>\n",
       "      <th>email</th>\n",
       "      <td>hilda24@gmail.com</td>\n",
       "      <td>ayodudu@gmail.com</td>\n",
       "      <td>chimachike02@gmail.com</td>\n",
       "    </tr>\n",
       "    <tr>\n",
       "      <th>password</th>\n",
       "      <td>emanuel</td>\n",
       "      <td>odudu24</td>\n",
       "      <td>chike999</td>\n",
       "    </tr>\n",
       "  </tbody>\n",
       "</table>\n",
       "</div>"
      ],
      "text/plain": [
       "                 location 1         location 2              location 3\n",
       "name                 adamna                ayo                   chima\n",
       "surname                tony              odudu                   chike\n",
       "email     hilda24@gmail.com  ayodudu@gmail.com  chimachike02@gmail.com\n",
       "password            emanuel            odudu24                chike999"
      ]
     },
     "execution_count": 38,
     "metadata": {},
     "output_type": "execute_result"
    }
   ],
   "source": [
    "#  TRANSPOSE MEANS TO SWAP THINGS. TO TRANSPOSE IN PD DATAFRAME, THE INDEX AUTOMATICALY CHANGES.\n",
    "\n",
    "df.T"
   ]
  },
  {
   "cell_type": "code",
   "execution_count": 40,
   "id": "133c3327",
   "metadata": {},
   "outputs": [
    {
     "data": {
      "text/plain": [
       "location 1         hilda24@gmail.com\n",
       "location 2         ayodudu@gmail.com\n",
       "location 3    chimachike02@gmail.com\n",
       "Name: email, dtype: object"
      ]
     },
     "execution_count": 40,
     "metadata": {},
     "output_type": "execute_result"
    }
   ],
   "source": [
    "# TO GET ONLY THE EMAIL IN TRANSPOSE\n",
    "df.T.loc['email']"
   ]
  },
  {
   "cell_type": "code",
   "execution_count": 41,
   "id": "d09e2f2c",
   "metadata": {},
   "outputs": [
    {
     "data": {
      "text/plain": [
       "location 1     emanuel\n",
       "location 2     odudu24\n",
       "location 3    chike999\n",
       "Name: password, dtype: object"
      ]
     },
     "execution_count": 41,
     "metadata": {},
     "output_type": "execute_result"
    }
   ],
   "source": [
    "df.T.loc['password']"
   ]
  },
  {
   "cell_type": "code",
   "execution_count": 42,
   "id": "7c4fd64c",
   "metadata": {},
   "outputs": [
    {
     "data": {
      "text/html": [
       "<div>\n",
       "<style scoped>\n",
       "    .dataframe tbody tr th:only-of-type {\n",
       "        vertical-align: middle;\n",
       "    }\n",
       "\n",
       "    .dataframe tbody tr th {\n",
       "        vertical-align: top;\n",
       "    }\n",
       "\n",
       "    .dataframe thead th {\n",
       "        text-align: right;\n",
       "    }\n",
       "</style>\n",
       "<table border=\"1\" class=\"dataframe\">\n",
       "  <thead>\n",
       "    <tr style=\"text-align: right;\">\n",
       "      <th></th>\n",
       "      <th>name</th>\n",
       "      <th>password</th>\n",
       "    </tr>\n",
       "  </thead>\n",
       "  <tbody>\n",
       "    <tr>\n",
       "      <th>location 1</th>\n",
       "      <td>adamna</td>\n",
       "      <td>emanuel</td>\n",
       "    </tr>\n",
       "    <tr>\n",
       "      <th>location 2</th>\n",
       "      <td>ayo</td>\n",
       "      <td>odudu24</td>\n",
       "    </tr>\n",
       "    <tr>\n",
       "      <th>location 3</th>\n",
       "      <td>chima</td>\n",
       "      <td>chike999</td>\n",
       "    </tr>\n",
       "  </tbody>\n",
       "</table>\n",
       "</div>"
      ],
      "text/plain": [
       "              name  password\n",
       "location 1  adamna   emanuel\n",
       "location 2     ayo   odudu24\n",
       "location 3   chima  chike999"
      ]
     },
     "execution_count": 42,
     "metadata": {},
     "output_type": "execute_result"
    }
   ],
   "source": [
    "# df.loc[:, THIS MEANS QUERY OUT ALL THE ROWS AND THEN PRINT THE NAMES AN PASSWORDS.\n",
    "\n",
    "df.loc[:,['name', 'password']]"
   ]
  },
  {
   "cell_type": "code",
   "execution_count": 43,
   "id": "ff7d9f4a",
   "metadata": {},
   "outputs": [
    {
     "data": {
      "text/html": [
       "<div>\n",
       "<style scoped>\n",
       "    .dataframe tbody tr th:only-of-type {\n",
       "        vertical-align: middle;\n",
       "    }\n",
       "\n",
       "    .dataframe tbody tr th {\n",
       "        vertical-align: top;\n",
       "    }\n",
       "\n",
       "    .dataframe thead th {\n",
       "        text-align: right;\n",
       "    }\n",
       "</style>\n",
       "<table border=\"1\" class=\"dataframe\">\n",
       "  <thead>\n",
       "    <tr style=\"text-align: right;\">\n",
       "      <th></th>\n",
       "      <th>email</th>\n",
       "      <th>surname</th>\n",
       "    </tr>\n",
       "  </thead>\n",
       "  <tbody>\n",
       "    <tr>\n",
       "      <th>location 1</th>\n",
       "      <td>hilda24@gmail.com</td>\n",
       "      <td>tony</td>\n",
       "    </tr>\n",
       "    <tr>\n",
       "      <th>location 2</th>\n",
       "      <td>ayodudu@gmail.com</td>\n",
       "      <td>odudu</td>\n",
       "    </tr>\n",
       "    <tr>\n",
       "      <th>location 3</th>\n",
       "      <td>chimachike02@gmail.com</td>\n",
       "      <td>chike</td>\n",
       "    </tr>\n",
       "  </tbody>\n",
       "</table>\n",
       "</div>"
      ],
      "text/plain": [
       "                             email surname\n",
       "location 1       hilda24@gmail.com    tony\n",
       "location 2       ayodudu@gmail.com   odudu\n",
       "location 3  chimachike02@gmail.com   chike"
      ]
     },
     "execution_count": 43,
     "metadata": {},
     "output_type": "execute_result"
    }
   ],
   "source": [
    "df.loc[:,['email', 'surname']]"
   ]
  },
  {
   "cell_type": "code",
   "execution_count": 44,
   "id": "5ac811c6",
   "metadata": {},
   "outputs": [
    {
     "data": {
      "text/html": [
       "<div>\n",
       "<style scoped>\n",
       "    .dataframe tbody tr th:only-of-type {\n",
       "        vertical-align: middle;\n",
       "    }\n",
       "\n",
       "    .dataframe tbody tr th {\n",
       "        vertical-align: top;\n",
       "    }\n",
       "\n",
       "    .dataframe thead th {\n",
       "        text-align: right;\n",
       "    }\n",
       "</style>\n",
       "<table border=\"1\" class=\"dataframe\">\n",
       "  <thead>\n",
       "    <tr style=\"text-align: right;\">\n",
       "      <th></th>\n",
       "      <th>name</th>\n",
       "      <th>surname</th>\n",
       "      <th>email</th>\n",
       "      <th>password</th>\n",
       "    </tr>\n",
       "  </thead>\n",
       "  <tbody>\n",
       "    <tr>\n",
       "      <th>location 1</th>\n",
       "      <td>adamna</td>\n",
       "      <td>tony</td>\n",
       "      <td>hilda24@gmail.com</td>\n",
       "      <td>emanuel</td>\n",
       "    </tr>\n",
       "    <tr>\n",
       "      <th>location 3</th>\n",
       "      <td>chima</td>\n",
       "      <td>chike</td>\n",
       "      <td>chimachike02@gmail.com</td>\n",
       "      <td>chike999</td>\n",
       "    </tr>\n",
       "  </tbody>\n",
       "</table>\n",
       "</div>"
      ],
      "text/plain": [
       "              name surname                   email  password\n",
       "location 1  adamna    tony       hilda24@gmail.com   emanuel\n",
       "location 3   chima   chike  chimachike02@gmail.com  chike999"
      ]
     },
     "execution_count": 44,
     "metadata": {},
     "output_type": "execute_result"
    }
   ],
   "source": [
    "#  DROPING A COLUMN FROM A DATAFRAME WE USE DF.DROP E.G\n",
    "    \n",
    "df.drop(['location 2']) # by default it drops the index"
   ]
  },
  {
   "cell_type": "code",
   "execution_count": 45,
   "id": "507f1215",
   "metadata": {},
   "outputs": [
    {
     "data": {
      "text/html": [
       "<div>\n",
       "<style scoped>\n",
       "    .dataframe tbody tr th:only-of-type {\n",
       "        vertical-align: middle;\n",
       "    }\n",
       "\n",
       "    .dataframe tbody tr th {\n",
       "        vertical-align: top;\n",
       "    }\n",
       "\n",
       "    .dataframe thead th {\n",
       "        text-align: right;\n",
       "    }\n",
       "</style>\n",
       "<table border=\"1\" class=\"dataframe\">\n",
       "  <thead>\n",
       "    <tr style=\"text-align: right;\">\n",
       "      <th></th>\n",
       "      <th>name</th>\n",
       "      <th>surname</th>\n",
       "      <th>email</th>\n",
       "      <th>password</th>\n",
       "    </tr>\n",
       "  </thead>\n",
       "  <tbody>\n",
       "    <tr>\n",
       "      <th>location 1</th>\n",
       "      <td>adamna</td>\n",
       "      <td>tony</td>\n",
       "      <td>hilda24@gmail.com</td>\n",
       "      <td>emanuel</td>\n",
       "    </tr>\n",
       "    <tr>\n",
       "      <th>location 2</th>\n",
       "      <td>ayo</td>\n",
       "      <td>odudu</td>\n",
       "      <td>ayodudu@gmail.com</td>\n",
       "      <td>odudu24</td>\n",
       "    </tr>\n",
       "    <tr>\n",
       "      <th>location 3</th>\n",
       "      <td>chima</td>\n",
       "      <td>chike</td>\n",
       "      <td>chimachike02@gmail.com</td>\n",
       "      <td>chike999</td>\n",
       "    </tr>\n",
       "  </tbody>\n",
       "</table>\n",
       "</div>"
      ],
      "text/plain": [
       "              name surname                   email  password\n",
       "location 1  adamna    tony       hilda24@gmail.com   emanuel\n",
       "location 2     ayo   odudu       ayodudu@gmail.com   odudu24\n",
       "location 3   chima   chike  chimachike02@gmail.com  chike999"
      ]
     },
     "execution_count": 45,
     "metadata": {},
     "output_type": "execute_result"
    }
   ],
   "source": [
    "df"
   ]
  },
  {
   "cell_type": "code",
   "execution_count": 48,
   "id": "5c96d2f6",
   "metadata": {},
   "outputs": [
    {
     "data": {
      "text/html": [
       "<div>\n",
       "<style scoped>\n",
       "    .dataframe tbody tr th:only-of-type {\n",
       "        vertical-align: middle;\n",
       "    }\n",
       "\n",
       "    .dataframe tbody tr th {\n",
       "        vertical-align: top;\n",
       "    }\n",
       "\n",
       "    .dataframe thead th {\n",
       "        text-align: right;\n",
       "    }\n",
       "</style>\n",
       "<table border=\"1\" class=\"dataframe\">\n",
       "  <thead>\n",
       "    <tr style=\"text-align: right;\">\n",
       "      <th></th>\n",
       "      <th>surname</th>\n",
       "      <th>email</th>\n",
       "      <th>password</th>\n",
       "    </tr>\n",
       "  </thead>\n",
       "  <tbody>\n",
       "    <tr>\n",
       "      <th>location 1</th>\n",
       "      <td>tony</td>\n",
       "      <td>hilda24@gmail.com</td>\n",
       "      <td>emanuel</td>\n",
       "    </tr>\n",
       "    <tr>\n",
       "      <th>location 2</th>\n",
       "      <td>odudu</td>\n",
       "      <td>ayodudu@gmail.com</td>\n",
       "      <td>odudu24</td>\n",
       "    </tr>\n",
       "    <tr>\n",
       "      <th>location 3</th>\n",
       "      <td>chike</td>\n",
       "      <td>chimachike02@gmail.com</td>\n",
       "      <td>chike999</td>\n",
       "    </tr>\n",
       "  </tbody>\n",
       "</table>\n",
       "</div>"
      ],
      "text/plain": [
       "           surname                   email  password\n",
       "location 1    tony       hilda24@gmail.com   emanuel\n",
       "location 2   odudu       ayodudu@gmail.com   odudu24\n",
       "location 3   chike  chimachike02@gmail.com  chike999"
      ]
     },
     "execution_count": 48,
     "metadata": {},
     "output_type": "execute_result"
    }
   ],
   "source": [
    "# DROPING FROM THE COLUMN\n",
    "\n",
    "df.drop(['name'], axis = 1)"
   ]
  },
  {
   "cell_type": "code",
   "execution_count": 49,
   "id": "634ad121",
   "metadata": {},
   "outputs": [
    {
     "data": {
      "text/html": [
       "<div>\n",
       "<style scoped>\n",
       "    .dataframe tbody tr th:only-of-type {\n",
       "        vertical-align: middle;\n",
       "    }\n",
       "\n",
       "    .dataframe tbody tr th {\n",
       "        vertical-align: top;\n",
       "    }\n",
       "\n",
       "    .dataframe thead th {\n",
       "        text-align: right;\n",
       "    }\n",
       "</style>\n",
       "<table border=\"1\" class=\"dataframe\">\n",
       "  <thead>\n",
       "    <tr style=\"text-align: right;\">\n",
       "      <th></th>\n",
       "      <th>name</th>\n",
       "      <th>surname</th>\n",
       "      <th>email</th>\n",
       "      <th>password</th>\n",
       "    </tr>\n",
       "  </thead>\n",
       "  <tbody>\n",
       "    <tr>\n",
       "      <th>location 1</th>\n",
       "      <td>adamna</td>\n",
       "      <td>tony</td>\n",
       "      <td>hilda24@gmail.com</td>\n",
       "      <td>emanuel</td>\n",
       "    </tr>\n",
       "    <tr>\n",
       "      <th>location 2</th>\n",
       "      <td>ayo</td>\n",
       "      <td>odudu</td>\n",
       "      <td>ayodudu@gmail.com</td>\n",
       "      <td>odudu24</td>\n",
       "    </tr>\n",
       "    <tr>\n",
       "      <th>location 3</th>\n",
       "      <td>chima</td>\n",
       "      <td>chike</td>\n",
       "      <td>chimachike02@gmail.com</td>\n",
       "      <td>chike999</td>\n",
       "    </tr>\n",
       "  </tbody>\n",
       "</table>\n",
       "</div>"
      ],
      "text/plain": [
       "              name surname                   email  password\n",
       "location 1  adamna    tony       hilda24@gmail.com   emanuel\n",
       "location 2     ayo   odudu       ayodudu@gmail.com   odudu24\n",
       "location 3   chima   chike  chimachike02@gmail.com  chike999"
      ]
     },
     "execution_count": 49,
     "metadata": {},
     "output_type": "execute_result"
    }
   ],
   "source": [
    "#  DATAFRAME INDEXING AND LOADING\n",
    "\n",
    "df"
   ]
  },
  {
   "cell_type": "code",
   "execution_count": 50,
   "id": "517dc4b4",
   "metadata": {},
   "outputs": [
    {
     "data": {
      "text/plain": [
       "location 1    adamna\n",
       "location 2       ayo\n",
       "location 3     chima\n",
       "Name: name, dtype: object"
      ]
     },
     "execution_count": 50,
     "metadata": {},
     "output_type": "execute_result"
    }
   ],
   "source": [
    "name = df['name']\n",
    "name"
   ]
  },
  {
   "cell_type": "code",
   "execution_count": 51,
   "id": "584901cd",
   "metadata": {},
   "outputs": [
    {
     "data": {
      "text/plain": [
       "location 1     tony\n",
       "location 2    odudu\n",
       "location 3    chike\n",
       "Name: surname, dtype: object"
      ]
     },
     "execution_count": 51,
     "metadata": {},
     "output_type": "execute_result"
    }
   ],
   "source": [
    "surname = df['surname']\n",
    "surname"
   ]
  },
  {
   "cell_type": "code",
   "execution_count": 53,
   "id": "de4aec9c",
   "metadata": {},
   "outputs": [
    {
     "data": {
      "text/plain": [
       "'odudu24'"
      ]
     },
     "execution_count": 53,
     "metadata": {},
     "output_type": "execute_result"
    }
   ],
   "source": [
    "#  TO GET A PASSWORD FROM A PARTICULAR INDEX.\n",
    "\n",
    "password = df['password'].loc['location 2']\n",
    "password"
   ]
  },
  {
   "cell_type": "code",
   "execution_count": 54,
   "id": "a6f46daf",
   "metadata": {},
   "outputs": [
    {
     "data": {
      "text/plain": [
       "'hilda24@gmail.com'"
      ]
     },
     "execution_count": 54,
     "metadata": {},
     "output_type": "execute_result"
    }
   ],
   "source": [
    "email = df['email'].loc['location 1']\n",
    "email"
   ]
  },
  {
   "cell_type": "code",
   "execution_count": null,
   "id": "5d69b4ba",
   "metadata": {},
   "outputs": [],
   "source": []
  }
 ],
 "metadata": {
  "kernelspec": {
   "display_name": "Python 3 (ipykernel)",
   "language": "python",
   "name": "python3"
  },
  "language_info": {
   "codemirror_mode": {
    "name": "ipython",
    "version": 3
   },
   "file_extension": ".py",
   "mimetype": "text/x-python",
   "name": "python",
   "nbconvert_exporter": "python",
   "pygments_lexer": "ipython3",
   "version": "3.9.13"
  }
 },
 "nbformat": 4,
 "nbformat_minor": 5
}
